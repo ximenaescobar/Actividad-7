{
  "nbformat": 4,
  "nbformat_minor": 0,
  "metadata": {
    "colab": {
      "provenance": [],
      "collapsed_sections": [
        "_xX6hSwuAruX",
        "QeIYbScryw-X",
        "_p_rXwR6FklW",
        "abSfAMsEHA5c",
        "JlLM1cgCHzoG",
        "l0T3KMRy0eyC",
        "6EDBY_xG4IMS",
        "qQFN-G2c4IMT",
        "1AjeuoSG4IMU",
        "7uerSjgS4IMV",
        "QWea3DwC4IMW",
        "KjvXePHP4IMX",
        "RcSlkMSu98t7",
        "t1ARFEfe98t8",
        "GdL0tfVaEj2I",
        "xFwg6oZEFBLr",
        "PT9gNtJI98t_",
        "gvWxv7lt98uA",
        "eMhGjpb7HWKq",
        "uhjjbkCfJW5R",
        "wRteMrm0JYC7",
        "DQSxCVJjJY52",
        "4GRRLBrgHWKu",
        "j6w5tufZHWKv"
      ],
      "include_colab_link": true
    },
    "kernelspec": {
      "name": "python3",
      "display_name": "Python 3"
    },
    "language_info": {
      "name": "python"
    }
  },
  "cells": [
    {
      "cell_type": "markdown",
      "metadata": {
        "id": "view-in-github",
        "colab_type": "text"
      },
      "source": [
        "<a href=\"https://colab.research.google.com/github/ximenaescobar/Actividad-7/blob/main/Actividad_7Regresi%C3%B3nLog%C3%ADstica_a01640607.ipynb\" target=\"_parent\"><img src=\"https://colab.research.google.com/assets/colab-badge.svg\" alt=\"Open In Colab\"/></a>"
      ]
    },
    {
      "cell_type": "markdown",
      "source": [
        "# **Actividad 7 (Regresión Logística)**\n",
        "##Ximena Escobar Rojas A01640607"
      ],
      "metadata": {
        "id": "w1uGXJ4p-rgm"
      }
    },
    {
      "cell_type": "code",
      "execution_count": 69,
      "metadata": {
        "id": "noCgAt6C-iJ_"
      },
      "outputs": [],
      "source": [
        "import pandas as pd\n",
        "import numpy as np\n",
        "import math\n",
        "import matplotlib.pyplot as plt\n",
        "import scipy.special as special\n",
        "from scipy.optimize import curve_fit\n",
        "import seaborn as sns\n",
        "from sklearn.metrics import r2_score\n",
        "from sklearn.model_selection import train_test_split\n",
        "from sklearn.preprocessing import StandardScaler\n",
        "from sklearn.metrics import accuracy_score, precision_score, recall_score, f1_score\n"
      ]
    },
    {
      "cell_type": "code",
      "source": [
        "df = pd.read_csv('cuentas_credicel.csv',  encoding='latin-1')\n",
        "df.head()"
      ],
      "metadata": {
        "colab": {
          "base_uri": "https://localhost:8080/",
          "height": 481
        },
        "id": "5gZIvrAP_qZS",
        "outputId": "0c817e95-ec29-4cb1-8c0d-c473d47f895b"
      },
      "execution_count": 4,
      "outputs": [
        {
          "output_type": "stream",
          "name": "stderr",
          "text": [
            "<ipython-input-4-079d063ee6cb>:1: DtypeWarning: Columns (30) have mixed types. Specify dtype option on import or set low_memory=False.\n",
            "  df = pd.read_csv('cuentas_credicel.csv',  encoding='latin-1')\n"
          ]
        },
        {
          "output_type": "execute_result",
          "data": {
            "text/plain": [
              "   folio       tag  folio_solicitud             fecha     marca  \\\n",
              "0      3  HDNAWQ3A               30  12/11/2021 19:00       ZTE   \n",
              "1      4  M418YNR4               33  12/11/2021 19:15  MOTOROLA   \n",
              "2      5  SZ7V3NZT               37  13/11/2021 14:13       ZTE   \n",
              "3      6  9I08UIQZ               38  13/11/2021 15:45       ZTE   \n",
              "4      7  JMF4LKYU               44  13/11/2021 16:10  MOTOROLA   \n",
              "\n",
              "                         modelo plazo  precio  enganche  descuento  ...  \\\n",
              "0            Blade A3 2020 RO B   26S  1949.0     780.0        0.0  ...   \n",
              "1  LTE XT2097-12 E7I POWER Azul   13S  2999.0    1050.0        0.0  ...   \n",
              "2            BLADE A3 2020 Gris   13S  1959.0     490.0        0.0  ...   \n",
              "3            BLADE A3 2020 Gris   13S  1959.0     490.0        0.0  ...   \n",
              "4                         G10 B   39S  4299.0    1075.0        0.0  ...   \n",
              "\n",
              "   porc_eng  limite_credito  semana_actual  cp_cliente edad_cliente  \\\n",
              "0     40.02            5000             26         NaN         23.0   \n",
              "1     35.01            6000             13         NaN         60.0   \n",
              "2     25.01               0             74         NaN         58.0   \n",
              "3     25.01            7000             13         NaN         42.0   \n",
              "4     25.01            7000             74         NaN         33.0   \n",
              "\n",
              "    cd_cliente  edo_cliente                    cd_venta edo_venta  \\\n",
              "0            0            0                   Tantoyuca  Veracruz   \n",
              "1      PUEBLA          PUE.  Heroica Puebla de Zaragoza    Puebla   \n",
              "2    TANTOYUCA         VER.                           0         0   \n",
              "3  AMXTLAN PUE          NaN                    Zacatlan    Puebla   \n",
              "4   TANTOYUCA          VER.                   Tantoyuca  Veracruz   \n",
              "\n",
              "                 curp  \n",
              "0  AEVM980413MVZNDR02  \n",
              "1  ZALC610119MPLPRR07  \n",
              "2                   0  \n",
              "3  SAMJ790115MPLNRS02  \n",
              "4  TEHF880707HVZRRR07  \n",
              "\n",
              "[5 rows x 39 columns]"
            ],
            "text/html": [
              "\n",
              "  <div id=\"df-7b332722-aa0f-42a5-8d79-f7c296aa7ebb\" class=\"colab-df-container\">\n",
              "    <div>\n",
              "<style scoped>\n",
              "    .dataframe tbody tr th:only-of-type {\n",
              "        vertical-align: middle;\n",
              "    }\n",
              "\n",
              "    .dataframe tbody tr th {\n",
              "        vertical-align: top;\n",
              "    }\n",
              "\n",
              "    .dataframe thead th {\n",
              "        text-align: right;\n",
              "    }\n",
              "</style>\n",
              "<table border=\"1\" class=\"dataframe\">\n",
              "  <thead>\n",
              "    <tr style=\"text-align: right;\">\n",
              "      <th></th>\n",
              "      <th>folio</th>\n",
              "      <th>tag</th>\n",
              "      <th>folio_solicitud</th>\n",
              "      <th>fecha</th>\n",
              "      <th>marca</th>\n",
              "      <th>modelo</th>\n",
              "      <th>plazo</th>\n",
              "      <th>precio</th>\n",
              "      <th>enganche</th>\n",
              "      <th>descuento</th>\n",
              "      <th>...</th>\n",
              "      <th>porc_eng</th>\n",
              "      <th>limite_credito</th>\n",
              "      <th>semana_actual</th>\n",
              "      <th>cp_cliente</th>\n",
              "      <th>edad_cliente</th>\n",
              "      <th>cd_cliente</th>\n",
              "      <th>edo_cliente</th>\n",
              "      <th>cd_venta</th>\n",
              "      <th>edo_venta</th>\n",
              "      <th>curp</th>\n",
              "    </tr>\n",
              "  </thead>\n",
              "  <tbody>\n",
              "    <tr>\n",
              "      <th>0</th>\n",
              "      <td>3</td>\n",
              "      <td>HDNAWQ3A</td>\n",
              "      <td>30</td>\n",
              "      <td>12/11/2021 19:00</td>\n",
              "      <td>ZTE</td>\n",
              "      <td>Blade A3 2020 RO B</td>\n",
              "      <td>26S</td>\n",
              "      <td>1949.0</td>\n",
              "      <td>780.0</td>\n",
              "      <td>0.0</td>\n",
              "      <td>...</td>\n",
              "      <td>40.02</td>\n",
              "      <td>5000</td>\n",
              "      <td>26</td>\n",
              "      <td>NaN</td>\n",
              "      <td>23.0</td>\n",
              "      <td>0</td>\n",
              "      <td>0</td>\n",
              "      <td>Tantoyuca</td>\n",
              "      <td>Veracruz</td>\n",
              "      <td>AEVM980413MVZNDR02</td>\n",
              "    </tr>\n",
              "    <tr>\n",
              "      <th>1</th>\n",
              "      <td>4</td>\n",
              "      <td>M418YNR4</td>\n",
              "      <td>33</td>\n",
              "      <td>12/11/2021 19:15</td>\n",
              "      <td>MOTOROLA</td>\n",
              "      <td>LTE XT2097-12 E7I POWER Azul</td>\n",
              "      <td>13S</td>\n",
              "      <td>2999.0</td>\n",
              "      <td>1050.0</td>\n",
              "      <td>0.0</td>\n",
              "      <td>...</td>\n",
              "      <td>35.01</td>\n",
              "      <td>6000</td>\n",
              "      <td>13</td>\n",
              "      <td>NaN</td>\n",
              "      <td>60.0</td>\n",
              "      <td>PUEBLA</td>\n",
              "      <td>PUE.</td>\n",
              "      <td>Heroica Puebla de Zaragoza</td>\n",
              "      <td>Puebla</td>\n",
              "      <td>ZALC610119MPLPRR07</td>\n",
              "    </tr>\n",
              "    <tr>\n",
              "      <th>2</th>\n",
              "      <td>5</td>\n",
              "      <td>SZ7V3NZT</td>\n",
              "      <td>37</td>\n",
              "      <td>13/11/2021 14:13</td>\n",
              "      <td>ZTE</td>\n",
              "      <td>BLADE A3 2020 Gris</td>\n",
              "      <td>13S</td>\n",
              "      <td>1959.0</td>\n",
              "      <td>490.0</td>\n",
              "      <td>0.0</td>\n",
              "      <td>...</td>\n",
              "      <td>25.01</td>\n",
              "      <td>0</td>\n",
              "      <td>74</td>\n",
              "      <td>NaN</td>\n",
              "      <td>58.0</td>\n",
              "      <td>TANTOYUCA</td>\n",
              "      <td>VER.</td>\n",
              "      <td>0</td>\n",
              "      <td>0</td>\n",
              "      <td>0</td>\n",
              "    </tr>\n",
              "    <tr>\n",
              "      <th>3</th>\n",
              "      <td>6</td>\n",
              "      <td>9I08UIQZ</td>\n",
              "      <td>38</td>\n",
              "      <td>13/11/2021 15:45</td>\n",
              "      <td>ZTE</td>\n",
              "      <td>BLADE A3 2020 Gris</td>\n",
              "      <td>13S</td>\n",
              "      <td>1959.0</td>\n",
              "      <td>490.0</td>\n",
              "      <td>0.0</td>\n",
              "      <td>...</td>\n",
              "      <td>25.01</td>\n",
              "      <td>7000</td>\n",
              "      <td>13</td>\n",
              "      <td>NaN</td>\n",
              "      <td>42.0</td>\n",
              "      <td>AMXTLAN PUE</td>\n",
              "      <td>NaN</td>\n",
              "      <td>Zacatlan</td>\n",
              "      <td>Puebla</td>\n",
              "      <td>SAMJ790115MPLNRS02</td>\n",
              "    </tr>\n",
              "    <tr>\n",
              "      <th>4</th>\n",
              "      <td>7</td>\n",
              "      <td>JMF4LKYU</td>\n",
              "      <td>44</td>\n",
              "      <td>13/11/2021 16:10</td>\n",
              "      <td>MOTOROLA</td>\n",
              "      <td>G10 B</td>\n",
              "      <td>39S</td>\n",
              "      <td>4299.0</td>\n",
              "      <td>1075.0</td>\n",
              "      <td>0.0</td>\n",
              "      <td>...</td>\n",
              "      <td>25.01</td>\n",
              "      <td>7000</td>\n",
              "      <td>74</td>\n",
              "      <td>NaN</td>\n",
              "      <td>33.0</td>\n",
              "      <td>TANTOYUCA</td>\n",
              "      <td>VER.</td>\n",
              "      <td>Tantoyuca</td>\n",
              "      <td>Veracruz</td>\n",
              "      <td>TEHF880707HVZRRR07</td>\n",
              "    </tr>\n",
              "  </tbody>\n",
              "</table>\n",
              "<p>5 rows × 39 columns</p>\n",
              "</div>\n",
              "    <div class=\"colab-df-buttons\">\n",
              "\n",
              "  <div class=\"colab-df-container\">\n",
              "    <button class=\"colab-df-convert\" onclick=\"convertToInteractive('df-7b332722-aa0f-42a5-8d79-f7c296aa7ebb')\"\n",
              "            title=\"Convert this dataframe to an interactive table.\"\n",
              "            style=\"display:none;\">\n",
              "\n",
              "  <svg xmlns=\"http://www.w3.org/2000/svg\" height=\"24px\" viewBox=\"0 -960 960 960\">\n",
              "    <path d=\"M120-120v-720h720v720H120Zm60-500h600v-160H180v160Zm220 220h160v-160H400v160Zm0 220h160v-160H400v160ZM180-400h160v-160H180v160Zm440 0h160v-160H620v160ZM180-180h160v-160H180v160Zm440 0h160v-160H620v160Z\"/>\n",
              "  </svg>\n",
              "    </button>\n",
              "\n",
              "  <style>\n",
              "    .colab-df-container {\n",
              "      display:flex;\n",
              "      gap: 12px;\n",
              "    }\n",
              "\n",
              "    .colab-df-convert {\n",
              "      background-color: #E8F0FE;\n",
              "      border: none;\n",
              "      border-radius: 50%;\n",
              "      cursor: pointer;\n",
              "      display: none;\n",
              "      fill: #1967D2;\n",
              "      height: 32px;\n",
              "      padding: 0 0 0 0;\n",
              "      width: 32px;\n",
              "    }\n",
              "\n",
              "    .colab-df-convert:hover {\n",
              "      background-color: #E2EBFA;\n",
              "      box-shadow: 0px 1px 2px rgba(60, 64, 67, 0.3), 0px 1px 3px 1px rgba(60, 64, 67, 0.15);\n",
              "      fill: #174EA6;\n",
              "    }\n",
              "\n",
              "    .colab-df-buttons div {\n",
              "      margin-bottom: 4px;\n",
              "    }\n",
              "\n",
              "    [theme=dark] .colab-df-convert {\n",
              "      background-color: #3B4455;\n",
              "      fill: #D2E3FC;\n",
              "    }\n",
              "\n",
              "    [theme=dark] .colab-df-convert:hover {\n",
              "      background-color: #434B5C;\n",
              "      box-shadow: 0px 1px 3px 1px rgba(0, 0, 0, 0.15);\n",
              "      filter: drop-shadow(0px 1px 2px rgba(0, 0, 0, 0.3));\n",
              "      fill: #FFFFFF;\n",
              "    }\n",
              "  </style>\n",
              "\n",
              "    <script>\n",
              "      const buttonEl =\n",
              "        document.querySelector('#df-7b332722-aa0f-42a5-8d79-f7c296aa7ebb button.colab-df-convert');\n",
              "      buttonEl.style.display =\n",
              "        google.colab.kernel.accessAllowed ? 'block' : 'none';\n",
              "\n",
              "      async function convertToInteractive(key) {\n",
              "        const element = document.querySelector('#df-7b332722-aa0f-42a5-8d79-f7c296aa7ebb');\n",
              "        const dataTable =\n",
              "          await google.colab.kernel.invokeFunction('convertToInteractive',\n",
              "                                                    [key], {});\n",
              "        if (!dataTable) return;\n",
              "\n",
              "        const docLinkHtml = 'Like what you see? Visit the ' +\n",
              "          '<a target=\"_blank\" href=https://colab.research.google.com/notebooks/data_table.ipynb>data table notebook</a>'\n",
              "          + ' to learn more about interactive tables.';\n",
              "        element.innerHTML = '';\n",
              "        dataTable['output_type'] = 'display_data';\n",
              "        await google.colab.output.renderOutput(dataTable, element);\n",
              "        const docLink = document.createElement('div');\n",
              "        docLink.innerHTML = docLinkHtml;\n",
              "        element.appendChild(docLink);\n",
              "      }\n",
              "    </script>\n",
              "  </div>\n",
              "\n",
              "\n",
              "<div id=\"df-7a837c54-fd05-43c0-8621-f47ee2f44380\">\n",
              "  <button class=\"colab-df-quickchart\" onclick=\"quickchart('df-7a837c54-fd05-43c0-8621-f47ee2f44380')\"\n",
              "            title=\"Suggest charts.\"\n",
              "            style=\"display:none;\">\n",
              "\n",
              "<svg xmlns=\"http://www.w3.org/2000/svg\" height=\"24px\"viewBox=\"0 0 24 24\"\n",
              "     width=\"24px\">\n",
              "    <g>\n",
              "        <path d=\"M19 3H5c-1.1 0-2 .9-2 2v14c0 1.1.9 2 2 2h14c1.1 0 2-.9 2-2V5c0-1.1-.9-2-2-2zM9 17H7v-7h2v7zm4 0h-2V7h2v10zm4 0h-2v-4h2v4z\"/>\n",
              "    </g>\n",
              "</svg>\n",
              "  </button>\n",
              "\n",
              "<style>\n",
              "  .colab-df-quickchart {\n",
              "      --bg-color: #E8F0FE;\n",
              "      --fill-color: #1967D2;\n",
              "      --hover-bg-color: #E2EBFA;\n",
              "      --hover-fill-color: #174EA6;\n",
              "      --disabled-fill-color: #AAA;\n",
              "      --disabled-bg-color: #DDD;\n",
              "  }\n",
              "\n",
              "  [theme=dark] .colab-df-quickchart {\n",
              "      --bg-color: #3B4455;\n",
              "      --fill-color: #D2E3FC;\n",
              "      --hover-bg-color: #434B5C;\n",
              "      --hover-fill-color: #FFFFFF;\n",
              "      --disabled-bg-color: #3B4455;\n",
              "      --disabled-fill-color: #666;\n",
              "  }\n",
              "\n",
              "  .colab-df-quickchart {\n",
              "    background-color: var(--bg-color);\n",
              "    border: none;\n",
              "    border-radius: 50%;\n",
              "    cursor: pointer;\n",
              "    display: none;\n",
              "    fill: var(--fill-color);\n",
              "    height: 32px;\n",
              "    padding: 0;\n",
              "    width: 32px;\n",
              "  }\n",
              "\n",
              "  .colab-df-quickchart:hover {\n",
              "    background-color: var(--hover-bg-color);\n",
              "    box-shadow: 0 1px 2px rgba(60, 64, 67, 0.3), 0 1px 3px 1px rgba(60, 64, 67, 0.15);\n",
              "    fill: var(--button-hover-fill-color);\n",
              "  }\n",
              "\n",
              "  .colab-df-quickchart-complete:disabled,\n",
              "  .colab-df-quickchart-complete:disabled:hover {\n",
              "    background-color: var(--disabled-bg-color);\n",
              "    fill: var(--disabled-fill-color);\n",
              "    box-shadow: none;\n",
              "  }\n",
              "\n",
              "  .colab-df-spinner {\n",
              "    border: 2px solid var(--fill-color);\n",
              "    border-color: transparent;\n",
              "    border-bottom-color: var(--fill-color);\n",
              "    animation:\n",
              "      spin 1s steps(1) infinite;\n",
              "  }\n",
              "\n",
              "  @keyframes spin {\n",
              "    0% {\n",
              "      border-color: transparent;\n",
              "      border-bottom-color: var(--fill-color);\n",
              "      border-left-color: var(--fill-color);\n",
              "    }\n",
              "    20% {\n",
              "      border-color: transparent;\n",
              "      border-left-color: var(--fill-color);\n",
              "      border-top-color: var(--fill-color);\n",
              "    }\n",
              "    30% {\n",
              "      border-color: transparent;\n",
              "      border-left-color: var(--fill-color);\n",
              "      border-top-color: var(--fill-color);\n",
              "      border-right-color: var(--fill-color);\n",
              "    }\n",
              "    40% {\n",
              "      border-color: transparent;\n",
              "      border-right-color: var(--fill-color);\n",
              "      border-top-color: var(--fill-color);\n",
              "    }\n",
              "    60% {\n",
              "      border-color: transparent;\n",
              "      border-right-color: var(--fill-color);\n",
              "    }\n",
              "    80% {\n",
              "      border-color: transparent;\n",
              "      border-right-color: var(--fill-color);\n",
              "      border-bottom-color: var(--fill-color);\n",
              "    }\n",
              "    90% {\n",
              "      border-color: transparent;\n",
              "      border-bottom-color: var(--fill-color);\n",
              "    }\n",
              "  }\n",
              "</style>\n",
              "\n",
              "  <script>\n",
              "    async function quickchart(key) {\n",
              "      const quickchartButtonEl =\n",
              "        document.querySelector('#' + key + ' button');\n",
              "      quickchartButtonEl.disabled = true;  // To prevent multiple clicks.\n",
              "      quickchartButtonEl.classList.add('colab-df-spinner');\n",
              "      try {\n",
              "        const charts = await google.colab.kernel.invokeFunction(\n",
              "            'suggestCharts', [key], {});\n",
              "      } catch (error) {\n",
              "        console.error('Error during call to suggestCharts:', error);\n",
              "      }\n",
              "      quickchartButtonEl.classList.remove('colab-df-spinner');\n",
              "      quickchartButtonEl.classList.add('colab-df-quickchart-complete');\n",
              "    }\n",
              "    (() => {\n",
              "      let quickchartButtonEl =\n",
              "        document.querySelector('#df-7a837c54-fd05-43c0-8621-f47ee2f44380 button');\n",
              "      quickchartButtonEl.style.display =\n",
              "        google.colab.kernel.accessAllowed ? 'block' : 'none';\n",
              "    })();\n",
              "  </script>\n",
              "</div>\n",
              "    </div>\n",
              "  </div>\n"
            ]
          },
          "metadata": {},
          "execution_count": 4
        }
      ]
    },
    {
      "cell_type": "code",
      "source": [
        "df.info()"
      ],
      "metadata": {
        "colab": {
          "base_uri": "https://localhost:8080/"
        },
        "id": "0bkMPV00_wQd",
        "outputId": "8502c4f8-11d3-40dd-cb68-01071e221028"
      },
      "execution_count": 5,
      "outputs": [
        {
          "output_type": "stream",
          "name": "stdout",
          "text": [
            "<class 'pandas.core.frame.DataFrame'>\n",
            "RangeIndex: 22735 entries, 0 to 22734\n",
            "Data columns (total 39 columns):\n",
            " #   Column              Non-Null Count  Dtype  \n",
            "---  ------              --------------  -----  \n",
            " 0   folio               22735 non-null  int64  \n",
            " 1   tag                 22735 non-null  object \n",
            " 2   folio_solicitud     22735 non-null  int64  \n",
            " 3   fecha               22735 non-null  object \n",
            " 4   marca               22735 non-null  object \n",
            " 5   modelo              22735 non-null  object \n",
            " 6   plazo               22735 non-null  object \n",
            " 7   precio              22735 non-null  float64\n",
            " 8   enganche            22735 non-null  float64\n",
            " 9   descuento           22735 non-null  float64\n",
            " 10  semana              22735 non-null  int64  \n",
            " 11  monto_financiado    22735 non-null  float64\n",
            " 12  costo_total         22735 non-null  int64  \n",
            " 13  monto_accesorios    22735 non-null  float64\n",
            " 14  agente_venta        22735 non-null  object \n",
            " 15  dis_venta           22735 non-null  object \n",
            " 16  status              22735 non-null  int64  \n",
            " 17  fraude              22735 non-null  int64  \n",
            " 18  empresa             22722 non-null  object \n",
            " 19  inversion           22735 non-null  int64  \n",
            " 20  pagos_realizados    22735 non-null  int64  \n",
            " 21  reautorizacion      22735 non-null  int64  \n",
            " 22  fecha_ultimo_pago   19379 non-null  object \n",
            " 23  fecha_pago_proximo  19379 non-null  object \n",
            " 24  status_cuenta       19421 non-null  object \n",
            " 25  puntos              22735 non-null  int64  \n",
            " 26  riesgo              22735 non-null  float64\n",
            " 27  score_buro          22735 non-null  int64  \n",
            " 28  razones_buro        15395 non-null  object \n",
            " 29  porc_eng            22735 non-null  float64\n",
            " 30  limite_credito      22735 non-null  object \n",
            " 31  semana_actual       22735 non-null  int64  \n",
            " 32  cp_cliente          15492 non-null  object \n",
            " 33  edad_cliente        22726 non-null  float64\n",
            " 34  cd_cliente          22735 non-null  object \n",
            " 35  edo_cliente         22727 non-null  object \n",
            " 36  cd_venta            22735 non-null  object \n",
            " 37  edo_venta           22735 non-null  object \n",
            " 38  curp                22735 non-null  object \n",
            "dtypes: float64(8), int64(12), object(19)\n",
            "memory usage: 6.8+ MB\n"
          ]
        }
      ]
    },
    {
      "cell_type": "markdown",
      "source": [
        "# Limpieza"
      ],
      "metadata": {
        "id": "qEXLTSQvLvVv"
      }
    },
    {
      "cell_type": "code",
      "source": [
        "valores_nulos = df.isnull().sum()\n",
        "columnas_nulos = valores_nulos[valores_nulos > 0]\n",
        "columnas_nulos"
      ],
      "metadata": {
        "colab": {
          "base_uri": "https://localhost:8080/"
        },
        "id": "g1uS-UxYAhhD",
        "outputId": "65ead503-735b-4ee3-be6b-14b749a4cfdb"
      },
      "execution_count": null,
      "outputs": [
        {
          "output_type": "execute_result",
          "data": {
            "text/plain": [
              "empresa                 13\n",
              "fecha_ultimo_pago     3356\n",
              "fecha_pago_proximo    3356\n",
              "status_cuenta         3314\n",
              "razones_buro          7340\n",
              "cp_cliente            7243\n",
              "edad_cliente             9\n",
              "edo_cliente              8\n",
              "dtype: int64"
            ]
          },
          "metadata": {},
          "execution_count": 326
        }
      ]
    },
    {
      "cell_type": "code",
      "source": [
        "df['limite_credito'] = df['limite_credito'].replace('SD', 0)\n",
        "df['limite_credito'] = df['limite_credito'].astype(float)"
      ],
      "metadata": {
        "id": "fBaU3YfSEOgE"
      },
      "execution_count": 6,
      "outputs": []
    },
    {
      "cell_type": "code",
      "source": [
        "variables = ['empresa', 'fecha_ultimo_pago', 'fecha_pago_proximo', 'status_cuenta', 'razones_buro', 'cp_cliente', 'edo_cliente']\n",
        "df[variables] = df[variables].bfill()\n",
        "df[variables] = df[variables].ffill()"
      ],
      "metadata": {
        "id": "4-k3O362I2h4"
      },
      "execution_count": 7,
      "outputs": []
    },
    {
      "cell_type": "code",
      "source": [
        "df_cn = df.select_dtypes(include=['int', 'float'])\n",
        "df_cl = df.select_dtypes(include=['object'])"
      ],
      "metadata": {
        "id": "NgO5mRhaMJoS"
      },
      "execution_count": 9,
      "outputs": []
    },
    {
      "cell_type": "code",
      "source": [
        "df_cn.info()"
      ],
      "metadata": {
        "id": "rGDkdD8CDlNt",
        "colab": {
          "base_uri": "https://localhost:8080/"
        },
        "outputId": "5ee77c5c-bcac-444a-bf5f-dce089f4a3ef"
      },
      "execution_count": 10,
      "outputs": [
        {
          "output_type": "stream",
          "name": "stdout",
          "text": [
            "<class 'pandas.core.frame.DataFrame'>\n",
            "RangeIndex: 22735 entries, 0 to 22734\n",
            "Data columns (total 21 columns):\n",
            " #   Column            Non-Null Count  Dtype  \n",
            "---  ------            --------------  -----  \n",
            " 0   folio             22735 non-null  int64  \n",
            " 1   folio_solicitud   22735 non-null  int64  \n",
            " 2   precio            22735 non-null  float64\n",
            " 3   enganche          22735 non-null  float64\n",
            " 4   descuento         22735 non-null  float64\n",
            " 5   semana            22735 non-null  int64  \n",
            " 6   monto_financiado  22735 non-null  float64\n",
            " 7   costo_total       22735 non-null  int64  \n",
            " 8   monto_accesorios  22735 non-null  float64\n",
            " 9   status            22735 non-null  int64  \n",
            " 10  fraude            22735 non-null  int64  \n",
            " 11  inversion         22735 non-null  int64  \n",
            " 12  pagos_realizados  22735 non-null  int64  \n",
            " 13  reautorizacion    22735 non-null  int64  \n",
            " 14  puntos            22735 non-null  int64  \n",
            " 15  riesgo            22735 non-null  float64\n",
            " 16  score_buro        22735 non-null  int64  \n",
            " 17  porc_eng          22735 non-null  float64\n",
            " 18  limite_credito    22735 non-null  float64\n",
            " 19  semana_actual     22735 non-null  int64  \n",
            " 20  edad_cliente      22726 non-null  float64\n",
            "dtypes: float64(9), int64(12)\n",
            "memory usage: 3.6 MB\n"
          ]
        }
      ]
    },
    {
      "cell_type": "code",
      "source": [
        "promedio_edad = df_cn['edad_cliente'].mean()\n",
        "df_cn['edad_cliente'].fillna(promedio_edad, inplace=True)"
      ],
      "metadata": {
        "id": "48Yd6Y-BerA5"
      },
      "execution_count": 11,
      "outputs": []
    },
    {
      "cell_type": "code",
      "source": [
        "valores_nulos = df_cn.isnull().sum()\n",
        "columnas_nulos = valores_nulos[valores_nulos > 0]\n",
        "columnas_nulos"
      ],
      "metadata": {
        "colab": {
          "base_uri": "https://localhost:8080/"
        },
        "id": "7QJRkPpKe31F",
        "outputId": "508affb9-33cc-4512-cd56-4c5e762ceaf3"
      },
      "execution_count": 12,
      "outputs": [
        {
          "output_type": "execute_result",
          "data": {
            "text/plain": [
              "Series([], dtype: int64)"
            ]
          },
          "metadata": {},
          "execution_count": 12
        }
      ]
    },
    {
      "cell_type": "code",
      "source": [
        "fig = plt.figure(figsize = (15, 8))\n",
        "df.plot(kind=\"box\", vert = False)\n",
        "plt.title(\"Valores Atípicos del Dataframe\")\n",
        "plt.show()"
      ],
      "metadata": {
        "colab": {
          "base_uri": "https://localhost:8080/",
          "height": 470
        },
        "id": "rXKpjrInfGh2",
        "outputId": "c4879471-8122-4b18-8ced-8b84879fd0d6"
      },
      "execution_count": 13,
      "outputs": [
        {
          "output_type": "display_data",
          "data": {
            "text/plain": [
              "<Figure size 1500x800 with 0 Axes>"
            ]
          },
          "metadata": {}
        },
        {
          "output_type": "display_data",
          "data": {
            "text/plain": [
              "<Figure size 640x480 with 1 Axes>"
            ],
            "image/png": "[encoded data removed]"
          },
          "metadata": {}
        }
      ]
    },
    {
      "cell_type": "code",
      "source": [
        "y=df_cn\n",
        "Limite_Superior= y.mean() + 3* y.std()\n",
        "Limite_Inferior= y.mean() - 3 * y.std()\n",
        "print(\"Limite Superior Permitido\", Limite_Superior)\n",
        "print(\"Limite Inferior Permitido\", Limite_Inferior)"
      ],
      "metadata": {
        "colab": {
          "base_uri": "https://localhost:8080/"
        },
        "id": "NehEoh9JfMGB",
        "outputId": "22650cb8-10da-42bc-d7b1-6835a79ef17c"
      },
      "execution_count": 14,
      "outputs": [
        {
          "output_type": "stream",
          "name": "stdout",
          "text": [
            "Limite Superior Permitido folio                31323.107698\n",
            "folio_solicitud     127723.906961\n",
            "precio                8081.558082\n",
            "enganche              2356.496845\n",
            "descuento              478.215020\n",
            "semana                 541.287392\n",
            "monto_financiado      6366.317810\n",
            "costo_total          12857.588246\n",
            "monto_accesorios       191.260880\n",
            "status                   2.611178\n",
            "fraude                   0.864131\n",
            "inversion                1.511599\n",
            "pagos_realizados        39.306132\n",
            "reautorizacion           0.578086\n",
            "puntos                  48.354233\n",
            "riesgo                  58.456322\n",
            "score_buro            1142.021000\n",
            "porc_eng                45.711306\n",
            "limite_credito       12331.577603\n",
            "semana_actual           64.380898\n",
            "edad_cliente           422.315226\n",
            "dtype: float64\n",
            "Limite Inferior Permitido folio               -8301.055796\n",
            "folio_solicitud    -36023.715538\n",
            "precio                -87.484900\n",
            "enganche             -503.622066\n",
            "descuento            -321.263535\n",
            "semana                -65.792692\n",
            "monto_financiado     -214.044583\n",
            "costo_total         -1458.203597\n",
            "monto_accesorios     -164.333344\n",
            "status                 -0.100423\n",
            "fraude                 -0.714494\n",
            "inversion              -1.038408\n",
            "pagos_realizados      -18.944575\n",
            "reautorizacion         -0.509998\n",
            "puntos                -20.040620\n",
            "riesgo                -47.924367\n",
            "score_buro           -562.113896\n",
            "porc_eng                0.702805\n",
            "limite_credito       -491.995461\n",
            "semana_actual         -23.157498\n",
            "edad_cliente         -335.005713\n",
            "dtype: float64\n"
          ]
        }
      ]
    },
    {
      "cell_type": "code",
      "source": [
        "df_cn= df_cn[(y<=Limite_Superior)&(y>=Limite_Inferior)]\n",
        "df_cn.head()"
      ],
      "metadata": {
        "colab": {
          "base_uri": "https://localhost:8080/",
          "height": 256
        },
        "id": "9FHtiwi1fR6Q",
        "outputId": "8a94cf8d-f9fa-4103-ff76-c9f0ceb3541a"
      },
      "execution_count": 16,
      "outputs": [
        {
          "output_type": "execute_result",
          "data": {
            "text/plain": [
              "   folio  folio_solicitud  precio  enganche  descuento  semana  \\\n",
              "0      3               30  1949.0     780.0        0.0    81.0   \n",
              "1      4               33  2999.0    1050.0        0.0   225.0   \n",
              "2      5               37  1959.0     490.0        0.0   170.0   \n",
              "3      6               38  1959.0     490.0        0.0   170.0   \n",
              "4      7               44  4299.0    1075.0        0.0   178.0   \n",
              "\n",
              "   monto_financiado  costo_total  monto_accesorios  status  ...  inversion  \\\n",
              "0            1169.0       2106.0               0.0     2.0  ...          0   \n",
              "1            1949.0       2925.0               0.0     2.0  ...          0   \n",
              "2            1469.0       2210.0               0.0     NaN  ...          0   \n",
              "3            1469.0       2210.0               0.0     2.0  ...          0   \n",
              "4            3224.0       6942.0               0.0     1.0  ...          0   \n",
              "\n",
              "   pagos_realizados  reautorizacion  puntos  riesgo  score_buro  porc_eng  \\\n",
              "0               0.0             0.0     0.0     0.0           0     40.02   \n",
              "1               0.0             0.0     0.0     0.0           0     35.01   \n",
              "2               0.0             0.0     0.0     0.0           0     25.01   \n",
              "3               0.0             0.0     0.0     0.0           0     25.01   \n",
              "4               0.0             0.0     0.0     0.0           0     25.01   \n",
              "\n",
              "   limite_credito  semana_actual  edad_cliente  \n",
              "0          5000.0           26.0          23.0  \n",
              "1          6000.0           13.0          60.0  \n",
              "2             0.0            NaN          58.0  \n",
              "3          7000.0           13.0          42.0  \n",
              "4          7000.0            NaN          33.0  \n",
              "\n",
              "[5 rows x 21 columns]"
            ],
            "text/html": [
              "\n",
              "  <div id=\"df-a54e34dc-2e28-4dbb-8da8-03acb9947a80\" class=\"colab-df-container\">\n",
              "    <div>\n",
              "<style scoped>\n",
              "    .dataframe tbody tr th:only-of-type {\n",
              "        vertical-align: middle;\n",
              "    }\n",
              "\n",
              "    .dataframe tbody tr th {\n",
              "        vertical-align: top;\n",
              "    }\n",
              "\n",
              "    .dataframe thead th {\n",
              "        text-align: right;\n",
              "    }\n",
              "</style>\n",
              "<table border=\"1\" class=\"dataframe\">\n",
              "  <thead>\n",
              "    <tr style=\"text-align: right;\">\n",
              "      <th></th>\n",
              "      <th>folio</th>\n",
              "      <th>folio_solicitud</th>\n",
              "      <th>precio</th>\n",
              "      <th>enganche</th>\n",
              "      <th>descuento</th>\n",
              "      <th>semana</th>\n",
              "      <th>monto_financiado</th>\n",
              "      <th>costo_total</th>\n",
              "      <th>monto_accesorios</th>\n",
              "      <th>status</th>\n",
              "      <th>...</th>\n",
              "      <th>inversion</th>\n",
              "      <th>pagos_realizados</th>\n",
              "      <th>reautorizacion</th>\n",
              "      <th>puntos</th>\n",
              "      <th>riesgo</th>\n",
              "      <th>score_buro</th>\n",
              "      <th>porc_eng</th>\n",
              "      <th>limite_credito</th>\n",
              "      <th>semana_actual</th>\n",
              "      <th>edad_cliente</th>\n",
              "    </tr>\n",
              "  </thead>\n",
              "  <tbody>\n",
              "    <tr>\n",
              "      <th>0</th>\n",
              "      <td>3</td>\n",
              "      <td>30</td>\n",
              "      <td>1949.0</td>\n",
              "      <td>780.0</td>\n",
              "      <td>0.0</td>\n",
              "      <td>81.0</td>\n",
              "      <td>1169.0</td>\n",
              "      <td>2106.0</td>\n",
              "      <td>0.0</td>\n",
              "      <td>2.0</td>\n",
              "      <td>...</td>\n",
              "      <td>0</td>\n",
              "      <td>0.0</td>\n",
              "      <td>0.0</td>\n",
              "      <td>0.0</td>\n",
              "      <td>0.0</td>\n",
              "      <td>0</td>\n",
              "      <td>40.02</td>\n",
              "      <td>5000.0</td>\n",
              "      <td>26.0</td>\n",
              "      <td>23.0</td>\n",
              "    </tr>\n",
              "    <tr>\n",
              "      <th>1</th>\n",
              "      <td>4</td>\n",
              "      <td>33</td>\n",
              "      <td>2999.0</td>\n",
              "      <td>1050.0</td>\n",
              "      <td>0.0</td>\n",
              "      <td>225.0</td>\n",
              "      <td>1949.0</td>\n",
              "      <td>2925.0</td>\n",
              "      <td>0.0</td>\n",
              "      <td>2.0</td>\n",
              "      <td>...</td>\n",
              "      <td>0</td>\n",
              "      <td>0.0</td>\n",
              "      <td>0.0</td>\n",
              "      <td>0.0</td>\n",
              "      <td>0.0</td>\n",
              "      <td>0</td>\n",
              "      <td>35.01</td>\n",
              "      <td>6000.0</td>\n",
              "      <td>13.0</td>\n",
              "      <td>60.0</td>\n",
              "    </tr>\n",
              "    <tr>\n",
              "      <th>2</th>\n",
              "      <td>5</td>\n",
              "      <td>37</td>\n",
              "      <td>1959.0</td>\n",
              "      <td>490.0</td>\n",
              "      <td>0.0</td>\n",
              "      <td>170.0</td>\n",
              "      <td>1469.0</td>\n",
              "      <td>2210.0</td>\n",
              "      <td>0.0</td>\n",
              "      <td>NaN</td>\n",
              "      <td>...</td>\n",
              "      <td>0</td>\n",
              "      <td>0.0</td>\n",
              "      <td>0.0</td>\n",
              "      <td>0.0</td>\n",
              "      <td>0.0</td>\n",
              "      <td>0</td>\n",
              "      <td>25.01</td>\n",
              "      <td>0.0</td>\n",
              "      <td>NaN</td>\n",
              "      <td>58.0</td>\n",
              "    </tr>\n",
              "    <tr>\n",
              "      <th>3</th>\n",
              "      <td>6</td>\n",
              "      <td>38</td>\n",
              "      <td>1959.0</td>\n",
              "      <td>490.0</td>\n",
              "      <td>0.0</td>\n",
              "      <td>170.0</td>\n",
              "      <td>1469.0</td>\n",
              "      <td>2210.0</td>\n",
              "      <td>0.0</td>\n",
              "      <td>2.0</td>\n",
              "      <td>...</td>\n",
              "      <td>0</td>\n",
              "      <td>0.0</td>\n",
              "      <td>0.0</td>\n",
              "      <td>0.0</td>\n",
              "      <td>0.0</td>\n",
              "      <td>0</td>\n",
              "      <td>25.01</td>\n",
              "      <td>7000.0</td>\n",
              "      <td>13.0</td>\n",
              "      <td>42.0</td>\n",
              "    </tr>\n",
              "    <tr>\n",
              "      <th>4</th>\n",
              "      <td>7</td>\n",
              "      <td>44</td>\n",
              "      <td>4299.0</td>\n",
              "      <td>1075.0</td>\n",
              "      <td>0.0</td>\n",
              "      <td>178.0</td>\n",
              "      <td>3224.0</td>\n",
              "      <td>6942.0</td>\n",
              "      <td>0.0</td>\n",
              "      <td>1.0</td>\n",
              "      <td>...</td>\n",
              "      <td>0</td>\n",
              "      <td>0.0</td>\n",
              "      <td>0.0</td>\n",
              "      <td>0.0</td>\n",
              "      <td>0.0</td>\n",
              "      <td>0</td>\n",
              "      <td>25.01</td>\n",
              "      <td>7000.0</td>\n",
              "      <td>NaN</td>\n",
              "      <td>33.0</td>\n",
              "    </tr>\n",
              "  </tbody>\n",
              "</table>\n",
              "<p>5 rows × 21 columns</p>\n",
              "</div>\n",
              "    <div class=\"colab-df-buttons\">\n",
              "\n",
              "  <div class=\"colab-df-container\">\n",
              "    <button class=\"colab-df-convert\" onclick=\"convertToInteractive('df-a54e34dc-2e28-4dbb-8da8-03acb9947a80')\"\n",
              "            title=\"Convert this dataframe to an interactive table.\"\n",
              "            style=\"display:none;\">\n",
              "\n",
              "  <svg xmlns=\"http://www.w3.org/2000/svg\" height=\"24px\" viewBox=\"0 -960 960 960\">\n",
              "    <path d=\"M120-120v-720h720v720H120Zm60-500h600v-160H180v160Zm220 220h160v-160H400v160Zm0 220h160v-160H400v160ZM180-400h160v-160H180v160Zm440 0h160v-160H620v160ZM180-180h160v-160H180v160Zm440 0h160v-160H620v160Z\"/>\n",
              "  </svg>\n",
              "    </button>\n",
              "\n",
              "  <style>\n",
              "    .colab-df-container {\n",
              "      display:flex;\n",
              "      gap: 12px;\n",
              "    }\n",
              "\n",
              "    .colab-df-convert {\n",
              "      background-color: #E8F0FE;\n",
              "      border: none;\n",
              "      border-radius: 50%;\n",
              "      cursor: pointer;\n",
              "      display: none;\n",
              "      fill: #1967D2;\n",
              "      height: 32px;\n",
              "      padding: 0 0 0 0;\n",
              "      width: 32px;\n",
              "    }\n",
              "\n",
              "    .colab-df-convert:hover {\n",
              "      background-color: #E2EBFA;\n",
              "      box-shadow: 0px 1px 2px rgba(60, 64, 67, 0.3), 0px 1px 3px 1px rgba(60, 64, 67, 0.15);\n",
              "      fill: #174EA6;\n",
              "    }\n",
              "\n",
              "    .colab-df-buttons div {\n",
              "      margin-bottom: 4px;\n",
              "    }\n",
              "\n",
              "    [theme=dark] .colab-df-convert {\n",
              "      background-color: #3B4455;\n",
              "      fill: #D2E3FC;\n",
              "    }\n",
              "\n",
              "    [theme=dark] .colab-df-convert:hover {\n",
              "      background-color: #434B5C;\n",
              "      box-shadow: 0px 1px 3px 1px rgba(0, 0, 0, 0.15);\n",
              "      filter: drop-shadow(0px 1px 2px rgba(0, 0, 0, 0.3));\n",
              "      fill: #FFFFFF;\n",
              "    }\n",
              "  </style>\n",
              "\n",
              "    <script>\n",
              "      const buttonEl =\n",
              "        document.querySelector('#df-a54e34dc-2e28-4dbb-8da8-03acb9947a80 button.colab-df-convert');\n",
              "      buttonEl.style.display =\n",
              "        google.colab.kernel.accessAllowed ? 'block' : 'none';\n",
              "\n",
              "      async function convertToInteractive(key) {\n",
              "        const element = document.querySelector('#df-a54e34dc-2e28-4dbb-8da8-03acb9947a80');\n",
              "        const dataTable =\n",
              "          await google.colab.kernel.invokeFunction('convertToInteractive',\n",
              "                                                    [key], {});\n",
              "        if (!dataTable) return;\n",
              "\n",
              "        const docLinkHtml = 'Like what you see? Visit the ' +\n",
              "          '<a target=\"_blank\" href=https://colab.research.google.com/notebooks/data_table.ipynb>data table notebook</a>'\n",
              "          + ' to learn more about interactive tables.';\n",
              "        element.innerHTML = '';\n",
              "        dataTable['output_type'] = 'display_data';\n",
              "        await google.colab.output.renderOutput(dataTable, element);\n",
              "        const docLink = document.createElement('div');\n",
              "        docLink.innerHTML = docLinkHtml;\n",
              "        element.appendChild(docLink);\n",
              "      }\n",
              "    </script>\n",
              "  </div>\n",
              "\n",
              "\n",
              "<div id=\"df-1a56e28c-cc8a-4edc-9024-89d31e86ffa1\">\n",
              "  <button class=\"colab-df-quickchart\" onclick=\"quickchart('df-1a56e28c-cc8a-4edc-9024-89d31e86ffa1')\"\n",
              "            title=\"Suggest charts.\"\n",
              "            style=\"display:none;\">\n",
              "\n",
              "<svg xmlns=\"http://www.w3.org/2000/svg\" height=\"24px\"viewBox=\"0 0 24 24\"\n",
              "     width=\"24px\">\n",
              "    <g>\n",
              "        <path d=\"M19 3H5c-1.1 0-2 .9-2 2v14c0 1.1.9 2 2 2h14c1.1 0 2-.9 2-2V5c0-1.1-.9-2-2-2zM9 17H7v-7h2v7zm4 0h-2V7h2v10zm4 0h-2v-4h2v4z\"/>\n",
              "    </g>\n",
              "</svg>\n",
              "  </button>\n",
              "\n",
              "<style>\n",
              "  .colab-df-quickchart {\n",
              "      --bg-color: #E8F0FE;\n",
              "      --fill-color: #1967D2;\n",
              "      --hover-bg-color: #E2EBFA;\n",
              "      --hover-fill-color: #174EA6;\n",
              "      --disabled-fill-color: #AAA;\n",
              "      --disabled-bg-color: #DDD;\n",
              "  }\n",
              "\n",
              "  [theme=dark] .colab-df-quickchart {\n",
              "      --bg-color: #3B4455;\n",
              "      --fill-color: #D2E3FC;\n",
              "      --hover-bg-color: #434B5C;\n",
              "      --hover-fill-color: #FFFFFF;\n",
              "      --disabled-bg-color: #3B4455;\n",
              "      --disabled-fill-color: #666;\n",
              "  }\n",
              "\n",
              "  .colab-df-quickchart {\n",
              "    background-color: var(--bg-color);\n",
              "    border: none;\n",
              "    border-radius: 50%;\n",
              "    cursor: pointer;\n",
              "    display: none;\n",
              "    fill: var(--fill-color);\n",
              "    height: 32px;\n",
              "    padding: 0;\n",
              "    width: 32px;\n",
              "  }\n",
              "\n",
              "  .colab-df-quickchart:hover {\n",
              "    background-color: var(--hover-bg-color);\n",
              "    box-shadow: 0 1px 2px rgba(60, 64, 67, 0.3), 0 1px 3px 1px rgba(60, 64, 67, 0.15);\n",
              "    fill: var(--button-hover-fill-color);\n",
              "  }\n",
              "\n",
              "  .colab-df-quickchart-complete:disabled,\n",
              "  .colab-df-quickchart-complete:disabled:hover {\n",
              "    background-color: var(--disabled-bg-color);\n",
              "    fill: var(--disabled-fill-color);\n",
              "    box-shadow: none;\n",
              "  }\n",
              "\n",
              "  .colab-df-spinner {\n",
              "    border: 2px solid var(--fill-color);\n",
              "    border-color: transparent;\n",
              "    border-bottom-color: var(--fill-color);\n",
              "    animation:\n",
              "      spin 1s steps(1) infinite;\n",
              "  }\n",
              "\n",
              "  @keyframes spin {\n",
              "    0% {\n",
              "      border-color: transparent;\n",
              "      border-bottom-color: var(--fill-color);\n",
              "      border-left-color: var(--fill-color);\n",
              "    }\n",
              "    20% {\n",
              "      border-color: transparent;\n",
              "      border-left-color: var(--fill-color);\n",
              "      border-top-color: var(--fill-color);\n",
              "    }\n",
              "    30% {\n",
              "      border-color: transparent;\n",
              "      border-left-color: var(--fill-color);\n",
              "      border-top-color: var(--fill-color);\n",
              "      border-right-color: var(--fill-color);\n",
              "    }\n",
              "    40% {\n",
              "      border-color: transparent;\n",
              "      border-right-color: var(--fill-color);\n",
              "      border-top-color: var(--fill-color);\n",
              "    }\n",
              "    60% {\n",
              "      border-color: transparent;\n",
              "      border-right-color: var(--fill-color);\n",
              "    }\n",
              "    80% {\n",
              "      border-color: transparent;\n",
              "      border-right-color: var(--fill-color);\n",
              "      border-bottom-color: var(--fill-color);\n",
              "    }\n",
              "    90% {\n",
              "      border-color: transparent;\n",
              "      border-bottom-color: var(--fill-color);\n",
              "    }\n",
              "  }\n",
              "</style>\n",
              "\n",
              "  <script>\n",
              "    async function quickchart(key) {\n",
              "      const quickchartButtonEl =\n",
              "        document.querySelector('#' + key + ' button');\n",
              "      quickchartButtonEl.disabled = true;  // To prevent multiple clicks.\n",
              "      quickchartButtonEl.classList.add('colab-df-spinner');\n",
              "      try {\n",
              "        const charts = await google.colab.kernel.invokeFunction(\n",
              "            'suggestCharts', [key], {});\n",
              "      } catch (error) {\n",
              "        console.error('Error during call to suggestCharts:', error);\n",
              "      }\n",
              "      quickchartButtonEl.classList.remove('colab-df-spinner');\n",
              "      quickchartButtonEl.classList.add('colab-df-quickchart-complete');\n",
              "    }\n",
              "    (() => {\n",
              "      let quickchartButtonEl =\n",
              "        document.querySelector('#df-1a56e28c-cc8a-4edc-9024-89d31e86ffa1 button');\n",
              "      quickchartButtonEl.style.display =\n",
              "        google.colab.kernel.accessAllowed ? 'block' : 'none';\n",
              "    })();\n",
              "  </script>\n",
              "</div>\n",
              "    </div>\n",
              "  </div>\n"
            ]
          },
          "metadata": {},
          "execution_count": 16
        }
      ]
    },
    {
      "cell_type": "code",
      "source": [
        "df_cn = df_cn.fillna(round(df_cn.mean(),1))\n",
        "df_cn"
      ],
      "metadata": {
        "colab": {
          "base_uri": "https://localhost:8080/",
          "height": 444
        },
        "id": "COGudywJfXFZ",
        "outputId": "2594ceef-58c0-408d-9728-714fe7651f67"
      },
      "execution_count": 17,
      "outputs": [
        {
          "output_type": "execute_result",
          "data": {
            "text/plain": [
              "       folio  folio_solicitud  precio  enganche  descuento  semana  \\\n",
              "0          3               30  1949.0     780.0        0.0    81.0   \n",
              "1          4               33  2999.0    1050.0        0.0   225.0   \n",
              "2          5               37  1959.0     490.0        0.0   170.0   \n",
              "3          6               38  1959.0     490.0        0.0   170.0   \n",
              "4          7               44  4299.0    1075.0        0.0   178.0   \n",
              "...      ...              ...     ...       ...        ...     ...   \n",
              "22730  22967            96502  3349.0     297.0        0.0   211.0   \n",
              "22731  22968            96479  4100.0    1209.0        0.0   200.0   \n",
              "22732  22969            96442  4849.0    1152.0        0.0   256.0   \n",
              "22733  22970            96536  3969.2     897.6        0.0   386.0   \n",
              "22734  22971            96534  5399.0    1086.0        0.0   299.0   \n",
              "\n",
              "       monto_financiado  costo_total  monto_accesorios  status  ...  \\\n",
              "0                1169.0       2106.0               0.0     2.0  ...   \n",
              "1                1949.0       2925.0               0.0     2.0  ...   \n",
              "2                1469.0       2210.0               0.0     1.2  ...   \n",
              "3                1469.0       2210.0               0.0     2.0  ...   \n",
              "4                3224.0       6942.0               0.0     1.0  ...   \n",
              "...                 ...          ...               ...     ...  ...   \n",
              "22730            3052.0       5486.0               0.0     1.0  ...   \n",
              "22731            2891.0       5200.0               0.0     1.0  ...   \n",
              "22732            3697.0       6656.0               0.0     1.0  ...   \n",
              "22733            3043.8       5588.6               0.0     1.0  ...   \n",
              "22734            4313.0       7774.0               0.0     1.0  ...   \n",
              "\n",
              "       inversion  pagos_realizados  reautorizacion  puntos  riesgo  \\\n",
              "0              0               0.0             0.0     0.0    0.00   \n",
              "1              0               0.0             0.0     0.0    0.00   \n",
              "2              0               0.0             0.0     0.0    0.00   \n",
              "3              0               0.0             0.0     0.0    0.00   \n",
              "4              0               0.0             0.0     0.0    0.00   \n",
              "...          ...               ...             ...     ...     ...   \n",
              "22730          0               0.0             0.0    10.0   27.40   \n",
              "22731          0               0.0             0.0     9.0   19.00   \n",
              "22732          0               0.0             0.0    11.0   26.65   \n",
              "22733          0               0.0             0.0    14.0  -17.35   \n",
              "22734          1               0.0             0.0    12.0   21.80   \n",
              "\n",
              "       score_buro  porc_eng  limite_credito  semana_actual  edad_cliente  \n",
              "0               0     40.02          5000.0           26.0          23.0  \n",
              "1               0     35.01          6000.0           13.0          60.0  \n",
              "2               0     25.01             0.0           20.2          58.0  \n",
              "3               0     25.01          7000.0           13.0          42.0  \n",
              "4               0     25.01          7000.0           20.2          33.0  \n",
              "...           ...       ...             ...            ...           ...  \n",
              "22730         469      8.87         10000.0            0.0          22.0  \n",
              "22731         502     29.49          5000.0            0.0          27.0  \n",
              "22732         459     23.76          4750.0            0.0          36.0  \n",
              "22733         699     28.56          7000.0            0.0          53.0  \n",
              "22734           0     20.11          4750.0            0.0          19.0  \n",
              "\n",
              "[22735 rows x 21 columns]"
            ],
            "text/html": [
              "\n",
              "  <div id=\"df-133e9136-5ffa-4aa2-a2cc-cfbc84465f2d\" class=\"colab-df-container\">\n",
              "    <div>\n",
              "<style scoped>\n",
              "    .dataframe tbody tr th:only-of-type {\n",
              "        vertical-align: middle;\n",
              "    }\n",
              "\n",
              "    .dataframe tbody tr th {\n",
              "        vertical-align: top;\n",
              "    }\n",
              "\n",
              "    .dataframe thead th {\n",
              "        text-align: right;\n",
              "    }\n",
              "</style>\n",
              "<table border=\"1\" class=\"dataframe\">\n",
              "  <thead>\n",
              "    <tr style=\"text-align: right;\">\n",
              "      <th></th>\n",
              "      <th>folio</th>\n",
              "      <th>folio_solicitud</th>\n",
              "      <th>precio</th>\n",
              "      <th>enganche</th>\n",
              "      <th>descuento</th>\n",
              "      <th>semana</th>\n",
              "      <th>monto_financiado</th>\n",
              "      <th>costo_total</th>\n",
              "      <th>monto_accesorios</th>\n",
              "      <th>status</th>\n",
              "      <th>...</th>\n",
              "      <th>inversion</th>\n",
              "      <th>pagos_realizados</th>\n",
              "      <th>reautorizacion</th>\n",
              "      <th>puntos</th>\n",
              "      <th>riesgo</th>\n",
              "      <th>score_buro</th>\n",
              "      <th>porc_eng</th>\n",
              "      <th>limite_credito</th>\n",
              "      <th>semana_actual</th>\n",
              "      <th>edad_cliente</th>\n",
              "    </tr>\n",
              "  </thead>\n",
              "  <tbody>\n",
              "    <tr>\n",
              "      <th>0</th>\n",
              "      <td>3</td>\n",
              "      <td>30</td>\n",
              "      <td>1949.0</td>\n",
              "      <td>780.0</td>\n",
              "      <td>0.0</td>\n",
              "      <td>81.0</td>\n",
              "      <td>1169.0</td>\n",
              "      <td>2106.0</td>\n",
              "      <td>0.0</td>\n",
              "      <td>2.0</td>\n",
              "      <td>...</td>\n",
              "      <td>0</td>\n",
              "      <td>0.0</td>\n",
              "      <td>0.0</td>\n",
              "      <td>0.0</td>\n",
              "      <td>0.00</td>\n",
              "      <td>0</td>\n",
              "      <td>40.02</td>\n",
              "      <td>5000.0</td>\n",
              "      <td>26.0</td>\n",
              "      <td>23.0</td>\n",
              "    </tr>\n",
              "    <tr>\n",
              "      <th>1</th>\n",
              "      <td>4</td>\n",
              "      <td>33</td>\n",
              "      <td>2999.0</td>\n",
              "      <td>1050.0</td>\n",
              "      <td>0.0</td>\n",
              "      <td>225.0</td>\n",
              "      <td>1949.0</td>\n",
              "      <td>2925.0</td>\n",
              "      <td>0.0</td>\n",
              "      <td>2.0</td>\n",
              "      <td>...</td>\n",
              "      <td>0</td>\n",
              "      <td>0.0</td>\n",
              "      <td>0.0</td>\n",
              "      <td>0.0</td>\n",
              "      <td>0.00</td>\n",
              "      <td>0</td>\n",
              "      <td>35.01</td>\n",
              "      <td>6000.0</td>\n",
              "      <td>13.0</td>\n",
              "      <td>60.0</td>\n",
              "    </tr>\n",
              "    <tr>\n",
              "      <th>2</th>\n",
              "      <td>5</td>\n",
              "      <td>37</td>\n",
              "      <td>1959.0</td>\n",
              "      <td>490.0</td>\n",
              "      <td>0.0</td>\n",
              "      <td>170.0</td>\n",
              "      <td>1469.0</td>\n",
              "      <td>2210.0</td>\n",
              "      <td>0.0</td>\n",
              "      <td>1.2</td>\n",
              "      <td>...</td>\n",
              "      <td>0</td>\n",
              "      <td>0.0</td>\n",
              "      <td>0.0</td>\n",
              "      <td>0.0</td>\n",
              "      <td>0.00</td>\n",
              "      <td>0</td>\n",
              "      <td>25.01</td>\n",
              "      <td>0.0</td>\n",
              "      <td>20.2</td>\n",
              "      <td>58.0</td>\n",
              "    </tr>\n",
              "    <tr>\n",
              "      <th>3</th>\n",
              "      <td>6</td>\n",
              "      <td>38</td>\n",
              "      <td>1959.0</td>\n",
              "      <td>490.0</td>\n",
              "      <td>0.0</td>\n",
              "      <td>170.0</td>\n",
              "      <td>1469.0</td>\n",
              "      <td>2210.0</td>\n",
              "      <td>0.0</td>\n",
              "      <td>2.0</td>\n",
              "      <td>...</td>\n",
              "      <td>0</td>\n",
              "      <td>0.0</td>\n",
              "      <td>0.0</td>\n",
              "      <td>0.0</td>\n",
              "      <td>0.00</td>\n",
              "      <td>0</td>\n",
              "      <td>25.01</td>\n",
              "      <td>7000.0</td>\n",
              "      <td>13.0</td>\n",
              "      <td>42.0</td>\n",
              "    </tr>\n",
              "    <tr>\n",
              "      <th>4</th>\n",
              "      <td>7</td>\n",
              "      <td>44</td>\n",
              "      <td>4299.0</td>\n",
              "      <td>1075.0</td>\n",
              "      <td>0.0</td>\n",
              "      <td>178.0</td>\n",
              "      <td>3224.0</td>\n",
              "      <td>6942.0</td>\n",
              "      <td>0.0</td>\n",
              "      <td>1.0</td>\n",
              "      <td>...</td>\n",
              "      <td>0</td>\n",
              "      <td>0.0</td>\n",
              "      <td>0.0</td>\n",
              "      <td>0.0</td>\n",
              "      <td>0.00</td>\n",
              "      <td>0</td>\n",
              "      <td>25.01</td>\n",
              "      <td>7000.0</td>\n",
              "      <td>20.2</td>\n",
              "      <td>33.0</td>\n",
              "    </tr>\n",
              "    <tr>\n",
              "      <th>...</th>\n",
              "      <td>...</td>\n",
              "      <td>...</td>\n",
              "      <td>...</td>\n",
              "      <td>...</td>\n",
              "      <td>...</td>\n",
              "      <td>...</td>\n",
              "      <td>...</td>\n",
              "      <td>...</td>\n",
              "      <td>...</td>\n",
              "      <td>...</td>\n",
              "      <td>...</td>\n",
              "      <td>...</td>\n",
              "      <td>...</td>\n",
              "      <td>...</td>\n",
              "      <td>...</td>\n",
              "      <td>...</td>\n",
              "      <td>...</td>\n",
              "      <td>...</td>\n",
              "      <td>...</td>\n",
              "      <td>...</td>\n",
              "      <td>...</td>\n",
              "    </tr>\n",
              "    <tr>\n",
              "      <th>22730</th>\n",
              "      <td>22967</td>\n",
              "      <td>96502</td>\n",
              "      <td>3349.0</td>\n",
              "      <td>297.0</td>\n",
              "      <td>0.0</td>\n",
              "      <td>211.0</td>\n",
              "      <td>3052.0</td>\n",
              "      <td>5486.0</td>\n",
              "      <td>0.0</td>\n",
              "      <td>1.0</td>\n",
              "      <td>...</td>\n",
              "      <td>0</td>\n",
              "      <td>0.0</td>\n",
              "      <td>0.0</td>\n",
              "      <td>10.0</td>\n",
              "      <td>27.40</td>\n",
              "      <td>469</td>\n",
              "      <td>8.87</td>\n",
              "      <td>10000.0</td>\n",
              "      <td>0.0</td>\n",
              "      <td>22.0</td>\n",
              "    </tr>\n",
              "    <tr>\n",
              "      <th>22731</th>\n",
              "      <td>22968</td>\n",
              "      <td>96479</td>\n",
              "      <td>4100.0</td>\n",
              "      <td>1209.0</td>\n",
              "      <td>0.0</td>\n",
              "      <td>200.0</td>\n",
              "      <td>2891.0</td>\n",
              "      <td>5200.0</td>\n",
              "      <td>0.0</td>\n",
              "      <td>1.0</td>\n",
              "      <td>...</td>\n",
              "      <td>0</td>\n",
              "      <td>0.0</td>\n",
              "      <td>0.0</td>\n",
              "      <td>9.0</td>\n",
              "      <td>19.00</td>\n",
              "      <td>502</td>\n",
              "      <td>29.49</td>\n",
              "      <td>5000.0</td>\n",
              "      <td>0.0</td>\n",
              "      <td>27.0</td>\n",
              "    </tr>\n",
              "    <tr>\n",
              "      <th>22732</th>\n",
              "      <td>22969</td>\n",
              "      <td>96442</td>\n",
              "      <td>4849.0</td>\n",
              "      <td>1152.0</td>\n",
              "      <td>0.0</td>\n",
              "      <td>256.0</td>\n",
              "      <td>3697.0</td>\n",
              "      <td>6656.0</td>\n",
              "      <td>0.0</td>\n",
              "      <td>1.0</td>\n",
              "      <td>...</td>\n",
              "      <td>0</td>\n",
              "      <td>0.0</td>\n",
              "      <td>0.0</td>\n",
              "      <td>11.0</td>\n",
              "      <td>26.65</td>\n",
              "      <td>459</td>\n",
              "      <td>23.76</td>\n",
              "      <td>4750.0</td>\n",
              "      <td>0.0</td>\n",
              "      <td>36.0</td>\n",
              "    </tr>\n",
              "    <tr>\n",
              "      <th>22733</th>\n",
              "      <td>22970</td>\n",
              "      <td>96536</td>\n",
              "      <td>3969.2</td>\n",
              "      <td>897.6</td>\n",
              "      <td>0.0</td>\n",
              "      <td>386.0</td>\n",
              "      <td>3043.8</td>\n",
              "      <td>5588.6</td>\n",
              "      <td>0.0</td>\n",
              "      <td>1.0</td>\n",
              "      <td>...</td>\n",
              "      <td>0</td>\n",
              "      <td>0.0</td>\n",
              "      <td>0.0</td>\n",
              "      <td>14.0</td>\n",
              "      <td>-17.35</td>\n",
              "      <td>699</td>\n",
              "      <td>28.56</td>\n",
              "      <td>7000.0</td>\n",
              "      <td>0.0</td>\n",
              "      <td>53.0</td>\n",
              "    </tr>\n",
              "    <tr>\n",
              "      <th>22734</th>\n",
              "      <td>22971</td>\n",
              "      <td>96534</td>\n",
              "      <td>5399.0</td>\n",
              "      <td>1086.0</td>\n",
              "      <td>0.0</td>\n",
              "      <td>299.0</td>\n",
              "      <td>4313.0</td>\n",
              "      <td>7774.0</td>\n",
              "      <td>0.0</td>\n",
              "      <td>1.0</td>\n",
              "      <td>...</td>\n",
              "      <td>1</td>\n",
              "      <td>0.0</td>\n",
              "      <td>0.0</td>\n",
              "      <td>12.0</td>\n",
              "      <td>21.80</td>\n",
              "      <td>0</td>\n",
              "      <td>20.11</td>\n",
              "      <td>4750.0</td>\n",
              "      <td>0.0</td>\n",
              "      <td>19.0</td>\n",
              "    </tr>\n",
              "  </tbody>\n",
              "</table>\n",
              "<p>22735 rows × 21 columns</p>\n",
              "</div>\n",
              "    <div class=\"colab-df-buttons\">\n",
              "\n",
              "  <div class=\"colab-df-container\">\n",
              "    <button class=\"colab-df-convert\" onclick=\"convertToInteractive('df-133e9136-5ffa-4aa2-a2cc-cfbc84465f2d')\"\n",
              "            title=\"Convert this dataframe to an interactive table.\"\n",
              "            style=\"display:none;\">\n",
              "\n",
              "  <svg xmlns=\"http://www.w3.org/2000/svg\" height=\"24px\" viewBox=\"0 -960 960 960\">\n",
              "    <path d=\"M120-120v-720h720v720H120Zm60-500h600v-160H180v160Zm220 220h160v-160H400v160Zm0 220h160v-160H400v160ZM180-400h160v-160H180v160Zm440 0h160v-160H620v160ZM180-180h160v-160H180v160Zm440 0h160v-160H620v160Z\"/>\n",
              "  </svg>\n",
              "    </button>\n",
              "\n",
              "  <style>\n",
              "    .colab-df-container {\n",
              "      display:flex;\n",
              "      gap: 12px;\n",
              "    }\n",
              "\n",
              "    .colab-df-convert {\n",
              "      background-color: #E8F0FE;\n",
              "      border: none;\n",
              "      border-radius: 50%;\n",
              "      cursor: pointer;\n",
              "      display: none;\n",
              "      fill: #1967D2;\n",
              "      height: 32px;\n",
              "      padding: 0 0 0 0;\n",
              "      width: 32px;\n",
              "    }\n",
              "\n",
              "    .colab-df-convert:hover {\n",
              "      background-color: #E2EBFA;\n",
              "      box-shadow: 0px 1px 2px rgba(60, 64, 67, 0.3), 0px 1px 3px 1px rgba(60, 64, 67, 0.15);\n",
              "      fill: #174EA6;\n",
              "    }\n",
              "\n",
              "    .colab-df-buttons div {\n",
              "      margin-bottom: 4px;\n",
              "    }\n",
              "\n",
              "    [theme=dark] .colab-df-convert {\n",
              "      background-color: #3B4455;\n",
              "      fill: #D2E3FC;\n",
              "    }\n",
              "\n",
              "    [theme=dark] .colab-df-convert:hover {\n",
              "      background-color: #434B5C;\n",
              "      box-shadow: 0px 1px 3px 1px rgba(0, 0, 0, 0.15);\n",
              "      filter: drop-shadow(0px 1px 2px rgba(0, 0, 0, 0.3));\n",
              "      fill: #FFFFFF;\n",
              "    }\n",
              "  </style>\n",
              "\n",
              "    <script>\n",
              "      const buttonEl =\n",
              "        document.querySelector('#df-133e9136-5ffa-4aa2-a2cc-cfbc84465f2d button.colab-df-convert');\n",
              "      buttonEl.style.display =\n",
              "        google.colab.kernel.accessAllowed ? 'block' : 'none';\n",
              "\n",
              "      async function convertToInteractive(key) {\n",
              "        const element = document.querySelector('#df-133e9136-5ffa-4aa2-a2cc-cfbc84465f2d');\n",
              "        const dataTable =\n",
              "          await google.colab.kernel.invokeFunction('convertToInteractive',\n",
              "                                                    [key], {});\n",
              "        if (!dataTable) return;\n",
              "\n",
              "        const docLinkHtml = 'Like what you see? Visit the ' +\n",
              "          '<a target=\"_blank\" href=https://colab.research.google.com/notebooks/data_table.ipynb>data table notebook</a>'\n",
              "          + ' to learn more about interactive tables.';\n",
              "        element.innerHTML = '';\n",
              "        dataTable['output_type'] = 'display_data';\n",
              "        await google.colab.output.renderOutput(dataTable, element);\n",
              "        const docLink = document.createElement('div');\n",
              "        docLink.innerHTML = docLinkHtml;\n",
              "        element.appendChild(docLink);\n",
              "      }\n",
              "    </script>\n",
              "  </div>\n",
              "\n",
              "\n",
              "<div id=\"df-163410fd-8a8b-42a0-8bbb-852fba0ec53a\">\n",
              "  <button class=\"colab-df-quickchart\" onclick=\"quickchart('df-163410fd-8a8b-42a0-8bbb-852fba0ec53a')\"\n",
              "            title=\"Suggest charts.\"\n",
              "            style=\"display:none;\">\n",
              "\n",
              "<svg xmlns=\"http://www.w3.org/2000/svg\" height=\"24px\"viewBox=\"0 0 24 24\"\n",
              "     width=\"24px\">\n",
              "    <g>\n",
              "        <path d=\"M19 3H5c-1.1 0-2 .9-2 2v14c0 1.1.9 2 2 2h14c1.1 0 2-.9 2-2V5c0-1.1-.9-2-2-2zM9 17H7v-7h2v7zm4 0h-2V7h2v10zm4 0h-2v-4h2v4z\"/>\n",
              "    </g>\n",
              "</svg>\n",
              "  </button>\n",
              "\n",
              "<style>\n",
              "  .colab-df-quickchart {\n",
              "      --bg-color: #E8F0FE;\n",
              "      --fill-color: #1967D2;\n",
              "      --hover-bg-color: #E2EBFA;\n",
              "      --hover-fill-color: #174EA6;\n",
              "      --disabled-fill-color: #AAA;\n",
              "      --disabled-bg-color: #DDD;\n",
              "  }\n",
              "\n",
              "  [theme=dark] .colab-df-quickchart {\n",
              "      --bg-color: #3B4455;\n",
              "      --fill-color: #D2E3FC;\n",
              "      --hover-bg-color: #434B5C;\n",
              "      --hover-fill-color: #FFFFFF;\n",
              "      --disabled-bg-color: #3B4455;\n",
              "      --disabled-fill-color: #666;\n",
              "  }\n",
              "\n",
              "  .colab-df-quickchart {\n",
              "    background-color: var(--bg-color);\n",
              "    border: none;\n",
              "    border-radius: 50%;\n",
              "    cursor: pointer;\n",
              "    display: none;\n",
              "    fill: var(--fill-color);\n",
              "    height: 32px;\n",
              "    padding: 0;\n",
              "    width: 32px;\n",
              "  }\n",
              "\n",
              "  .colab-df-quickchart:hover {\n",
              "    background-color: var(--hover-bg-color);\n",
              "    box-shadow: 0 1px 2px rgba(60, 64, 67, 0.3), 0 1px 3px 1px rgba(60, 64, 67, 0.15);\n",
              "    fill: var(--button-hover-fill-color);\n",
              "  }\n",
              "\n",
              "  .colab-df-quickchart-complete:disabled,\n",
              "  .colab-df-quickchart-complete:disabled:hover {\n",
              "    background-color: var(--disabled-bg-color);\n",
              "    fill: var(--disabled-fill-color);\n",
              "    box-shadow: none;\n",
              "  }\n",
              "\n",
              "  .colab-df-spinner {\n",
              "    border: 2px solid var(--fill-color);\n",
              "    border-color: transparent;\n",
              "    border-bottom-color: var(--fill-color);\n",
              "    animation:\n",
              "      spin 1s steps(1) infinite;\n",
              "  }\n",
              "\n",
              "  @keyframes spin {\n",
              "    0% {\n",
              "      border-color: transparent;\n",
              "      border-bottom-color: var(--fill-color);\n",
              "      border-left-color: var(--fill-color);\n",
              "    }\n",
              "    20% {\n",
              "      border-color: transparent;\n",
              "      border-left-color: var(--fill-color);\n",
              "      border-top-color: var(--fill-color);\n",
              "    }\n",
              "    30% {\n",
              "      border-color: transparent;\n",
              "      border-left-color: var(--fill-color);\n",
              "      border-top-color: var(--fill-color);\n",
              "      border-right-color: var(--fill-color);\n",
              "    }\n",
              "    40% {\n",
              "      border-color: transparent;\n",
              "      border-right-color: var(--fill-color);\n",
              "      border-top-color: var(--fill-color);\n",
              "    }\n",
              "    60% {\n",
              "      border-color: transparent;\n",
              "      border-right-color: var(--fill-color);\n",
              "    }\n",
              "    80% {\n",
              "      border-color: transparent;\n",
              "      border-right-color: var(--fill-color);\n",
              "      border-bottom-color: var(--fill-color);\n",
              "    }\n",
              "    90% {\n",
              "      border-color: transparent;\n",
              "      border-bottom-color: var(--fill-color);\n",
              "    }\n",
              "  }\n",
              "</style>\n",
              "\n",
              "  <script>\n",
              "    async function quickchart(key) {\n",
              "      const quickchartButtonEl =\n",
              "        document.querySelector('#' + key + ' button');\n",
              "      quickchartButtonEl.disabled = true;  // To prevent multiple clicks.\n",
              "      quickchartButtonEl.classList.add('colab-df-spinner');\n",
              "      try {\n",
              "        const charts = await google.colab.kernel.invokeFunction(\n",
              "            'suggestCharts', [key], {});\n",
              "      } catch (error) {\n",
              "        console.error('Error during call to suggestCharts:', error);\n",
              "      }\n",
              "      quickchartButtonEl.classList.remove('colab-df-spinner');\n",
              "      quickchartButtonEl.classList.add('colab-df-quickchart-complete');\n",
              "    }\n",
              "    (() => {\n",
              "      let quickchartButtonEl =\n",
              "        document.querySelector('#df-163410fd-8a8b-42a0-8bbb-852fba0ec53a button');\n",
              "      quickchartButtonEl.style.display =\n",
              "        google.colab.kernel.accessAllowed ? 'block' : 'none';\n",
              "    })();\n",
              "  </script>\n",
              "</div>\n",
              "    </div>\n",
              "  </div>\n"
            ]
          },
          "metadata": {},
          "execution_count": 17
        }
      ]
    },
    {
      "cell_type": "code",
      "source": [
        "df_cn.info()"
      ],
      "metadata": {
        "colab": {
          "base_uri": "https://localhost:8080/"
        },
        "id": "P7595B9GC46u",
        "outputId": "2efc39c9-9bce-4502-c7a2-952febb8a794"
      },
      "execution_count": 18,
      "outputs": [
        {
          "output_type": "stream",
          "name": "stdout",
          "text": [
            "<class 'pandas.core.frame.DataFrame'>\n",
            "RangeIndex: 22735 entries, 0 to 22734\n",
            "Data columns (total 21 columns):\n",
            " #   Column            Non-Null Count  Dtype  \n",
            "---  ------            --------------  -----  \n",
            " 0   folio             22735 non-null  int64  \n",
            " 1   folio_solicitud   22735 non-null  int64  \n",
            " 2   precio            22735 non-null  float64\n",
            " 3   enganche          22735 non-null  float64\n",
            " 4   descuento         22735 non-null  float64\n",
            " 5   semana            22735 non-null  float64\n",
            " 6   monto_financiado  22735 non-null  float64\n",
            " 7   costo_total       22735 non-null  float64\n",
            " 8   monto_accesorios  22735 non-null  float64\n",
            " 9   status            22735 non-null  float64\n",
            " 10  fraude            22735 non-null  float64\n",
            " 11  inversion         22735 non-null  int64  \n",
            " 12  pagos_realizados  22735 non-null  float64\n",
            " 13  reautorizacion    22735 non-null  float64\n",
            " 14  puntos            22735 non-null  float64\n",
            " 15  riesgo            22735 non-null  float64\n",
            " 16  score_buro        22735 non-null  int64  \n",
            " 17  porc_eng          22735 non-null  float64\n",
            " 18  limite_credito    22735 non-null  float64\n",
            " 19  semana_actual     22735 non-null  float64\n",
            " 20  edad_cliente      22735 non-null  float64\n",
            "dtypes: float64(17), int64(4)\n",
            "memory usage: 3.6 MB\n"
          ]
        }
      ]
    },
    {
      "cell_type": "code",
      "source": [
        "df_cl.info()"
      ],
      "metadata": {
        "colab": {
          "base_uri": "https://localhost:8080/"
        },
        "id": "OG5W1I0HMlu1",
        "outputId": "f2c5928b-8f08-4203-b2dd-6bf2e0b796d1"
      },
      "execution_count": 19,
      "outputs": [
        {
          "output_type": "stream",
          "name": "stdout",
          "text": [
            "<class 'pandas.core.frame.DataFrame'>\n",
            "RangeIndex: 22735 entries, 0 to 22734\n",
            "Data columns (total 18 columns):\n",
            " #   Column              Non-Null Count  Dtype \n",
            "---  ------              --------------  ----- \n",
            " 0   tag                 22735 non-null  object\n",
            " 1   fecha               22735 non-null  object\n",
            " 2   marca               22735 non-null  object\n",
            " 3   modelo              22735 non-null  object\n",
            " 4   plazo               22735 non-null  object\n",
            " 5   agente_venta        22735 non-null  object\n",
            " 6   dis_venta           22735 non-null  object\n",
            " 7   empresa             22735 non-null  object\n",
            " 8   fecha_ultimo_pago   22735 non-null  object\n",
            " 9   fecha_pago_proximo  22735 non-null  object\n",
            " 10  status_cuenta       22735 non-null  object\n",
            " 11  razones_buro        22735 non-null  object\n",
            " 12  cp_cliente          22735 non-null  object\n",
            " 13  cd_cliente          22735 non-null  object\n",
            " 14  edo_cliente         22735 non-null  object\n",
            " 15  cd_venta            22735 non-null  object\n",
            " 16  edo_venta           22735 non-null  object\n",
            " 17  curp                22735 non-null  object\n",
            "dtypes: object(18)\n",
            "memory usage: 3.1+ MB\n"
          ]
        }
      ]
    },
    {
      "cell_type": "code",
      "source": [
        "#Concatenamos los df\n",
        "df = pd.concat([df_cl, df_cn], axis=1)\n",
        "df.info()"
      ],
      "metadata": {
        "colab": {
          "base_uri": "https://localhost:8080/"
        },
        "id": "71jYVI7ZMx31",
        "outputId": "0df49480-9893-4445-8125-fdf1b43ac070"
      },
      "execution_count": 20,
      "outputs": [
        {
          "output_type": "stream",
          "name": "stdout",
          "text": [
            "<class 'pandas.core.frame.DataFrame'>\n",
            "RangeIndex: 22735 entries, 0 to 22734\n",
            "Data columns (total 39 columns):\n",
            " #   Column              Non-Null Count  Dtype  \n",
            "---  ------              --------------  -----  \n",
            " 0   tag                 22735 non-null  object \n",
            " 1   fecha               22735 non-null  object \n",
            " 2   marca               22735 non-null  object \n",
            " 3   modelo              22735 non-null  object \n",
            " 4   plazo               22735 non-null  object \n",
            " 5   agente_venta        22735 non-null  object \n",
            " 6   dis_venta           22735 non-null  object \n",
            " 7   empresa             22735 non-null  object \n",
            " 8   fecha_ultimo_pago   22735 non-null  object \n",
            " 9   fecha_pago_proximo  22735 non-null  object \n",
            " 10  status_cuenta       22735 non-null  object \n",
            " 11  razones_buro        22735 non-null  object \n",
            " 12  cp_cliente          22735 non-null  object \n",
            " 13  cd_cliente          22735 non-null  object \n",
            " 14  edo_cliente         22735 non-null  object \n",
            " 15  cd_venta            22735 non-null  object \n",
            " 16  edo_venta           22735 non-null  object \n",
            " 17  curp                22735 non-null  object \n",
            " 18  folio               22735 non-null  int64  \n",
            " 19  folio_solicitud     22735 non-null  int64  \n",
            " 20  precio              22735 non-null  float64\n",
            " 21  enganche            22735 non-null  float64\n",
            " 22  descuento           22735 non-null  float64\n",
            " 23  semana              22735 non-null  float64\n",
            " 24  monto_financiado    22735 non-null  float64\n",
            " 25  costo_total         22735 non-null  float64\n",
            " 26  monto_accesorios    22735 non-null  float64\n",
            " 27  status              22735 non-null  float64\n",
            " 28  fraude              22735 non-null  float64\n",
            " 29  inversion           22735 non-null  int64  \n",
            " 30  pagos_realizados    22735 non-null  float64\n",
            " 31  reautorizacion      22735 non-null  float64\n",
            " 32  puntos              22735 non-null  float64\n",
            " 33  riesgo              22735 non-null  float64\n",
            " 34  score_buro          22735 non-null  int64  \n",
            " 35  porc_eng            22735 non-null  float64\n",
            " 36  limite_credito      22735 non-null  float64\n",
            " 37  semana_actual       22735 non-null  float64\n",
            " 38  edad_cliente        22735 non-null  float64\n",
            "dtypes: float64(17), int64(4), object(18)\n",
            "memory usage: 6.8+ MB\n"
          ]
        }
      ]
    },
    {
      "cell_type": "markdown",
      "source": [
        "# Regresión Logística"
      ],
      "metadata": {
        "id": "vkYoYcrZNlVJ"
      }
    },
    {
      "cell_type": "code",
      "source": [
        "df.head()"
      ],
      "metadata": {
        "colab": {
          "base_uri": "https://localhost:8080/",
          "height": 516
        },
        "id": "6gRNnq2NaExC",
        "outputId": "580846c6-2cb9-4316-aa0e-3f9f48c88391"
      },
      "execution_count": 21,
      "outputs": [
        {
          "output_type": "execute_result",
          "data": {
            "text/plain": [
              "        tag             fecha     marca                        modelo plazo  \\\n",
              "0  HDNAWQ3A  12/11/2021 19:00       ZTE            Blade A3 2020 RO B   26S   \n",
              "1  M418YNR4  12/11/2021 19:15  MOTOROLA  LTE XT2097-12 E7I POWER Azul   13S   \n",
              "2  SZ7V3NZT  13/11/2021 14:13       ZTE            BLADE A3 2020 Gris   13S   \n",
              "3  9I08UIQZ  13/11/2021 15:45       ZTE            BLADE A3 2020 Gris   13S   \n",
              "4  JMF4LKYU  13/11/2021 16:10  MOTOROLA                         G10 B   39S   \n",
              "\n",
              "                      agente_venta dis_venta   empresa fecha_ultimo_pago  \\\n",
              "0  Sintia Verenice Tenorio Perez E   mic0437  microtec  05/03/2022 00:00   \n",
              "1            Alvaro Rafael Pascual    mic015  microtec  05/03/2022 00:00   \n",
              "2  Sintia Verenice Tenorio Perez E   mic0437  microtec  05/03/2022 00:00   \n",
              "3       Luz Aylin Hernandez Lopez1   mic0748  microtec  05/03/2022 00:00   \n",
              "4  Sintia Verenice Tenorio Perez E   mic0437  microtec  05/03/2022 00:00   \n",
              "\n",
              "  fecha_pago_proximo  ... inversion pagos_realizados reautorizacion puntos  \\\n",
              "0   12/03/2022 00:00  ...         0              0.0            0.0    0.0   \n",
              "1   12/03/2022 00:00  ...         0              0.0            0.0    0.0   \n",
              "2   12/03/2022 00:00  ...         0              0.0            0.0    0.0   \n",
              "3   12/03/2022 00:00  ...         0              0.0            0.0    0.0   \n",
              "4   12/03/2022 00:00  ...         0              0.0            0.0    0.0   \n",
              "\n",
              "  riesgo score_buro porc_eng limite_credito  semana_actual  edad_cliente  \n",
              "0    0.0          0    40.02         5000.0           26.0          23.0  \n",
              "1    0.0          0    35.01         6000.0           13.0          60.0  \n",
              "2    0.0          0    25.01            0.0           20.2          58.0  \n",
              "3    0.0          0    25.01         7000.0           13.0          42.0  \n",
              "4    0.0          0    25.01         7000.0           20.2          33.0  \n",
              "\n",
              "[5 rows x 39 columns]"
            ],
            "text/html": [
              "\n",
              "  <div id=\"df-ececd352-28ea-45c9-8681-4874ac371f89\" class=\"colab-df-container\">\n",
              "    <div>\n",
              "<style scoped>\n",
              "    .dataframe tbody tr th:only-of-type {\n",
              "        vertical-align: middle;\n",
              "    }\n",
              "\n",
              "    .dataframe tbody tr th {\n",
              "        vertical-align: top;\n",
              "    }\n",
              "\n",
              "    .dataframe thead th {\n",
              "        text-align: right;\n",
              "    }\n",
              "</style>\n",
              "<table border=\"1\" class=\"dataframe\">\n",
              "  <thead>\n",
              "    <tr style=\"text-align: right;\">\n",
              "      <th></th>\n",
              "      <th>tag</th>\n",
              "      <th>fecha</th>\n",
              "      <th>marca</th>\n",
              "      <th>modelo</th>\n",
              "      <th>plazo</th>\n",
              "      <th>agente_venta</th>\n",
              "      <th>dis_venta</th>\n",
              "      <th>empresa</th>\n",
              "      <th>fecha_ultimo_pago</th>\n",
              "      <th>fecha_pago_proximo</th>\n",
              "      <th>...</th>\n",
              "      <th>inversion</th>\n",
              "      <th>pagos_realizados</th>\n",
              "      <th>reautorizacion</th>\n",
              "      <th>puntos</th>\n",
              "      <th>riesgo</th>\n",
              "      <th>score_buro</th>\n",
              "      <th>porc_eng</th>\n",
              "      <th>limite_credito</th>\n",
              "      <th>semana_actual</th>\n",
              "      <th>edad_cliente</th>\n",
              "    </tr>\n",
              "  </thead>\n",
              "  <tbody>\n",
              "    <tr>\n",
              "      <th>0</th>\n",
              "      <td>HDNAWQ3A</td>\n",
              "      <td>12/11/2021 19:00</td>\n",
              "      <td>ZTE</td>\n",
              "      <td>Blade A3 2020 RO B</td>\n",
              "      <td>26S</td>\n",
              "      <td>Sintia Verenice Tenorio Perez E</td>\n",
              "      <td>mic0437</td>\n",
              "      <td>microtec</td>\n",
              "      <td>05/03/2022 00:00</td>\n",
              "      <td>12/03/2022 00:00</td>\n",
              "      <td>...</td>\n",
              "      <td>0</td>\n",
              "      <td>0.0</td>\n",
              "      <td>0.0</td>\n",
              "      <td>0.0</td>\n",
              "      <td>0.0</td>\n",
              "      <td>0</td>\n",
              "      <td>40.02</td>\n",
              "      <td>5000.0</td>\n",
              "      <td>26.0</td>\n",
              "      <td>23.0</td>\n",
              "    </tr>\n",
              "    <tr>\n",
              "      <th>1</th>\n",
              "      <td>M418YNR4</td>\n",
              "      <td>12/11/2021 19:15</td>\n",
              "      <td>MOTOROLA</td>\n",
              "      <td>LTE XT2097-12 E7I POWER Azul</td>\n",
              "      <td>13S</td>\n",
              "      <td>Alvaro Rafael Pascual</td>\n",
              "      <td>mic015</td>\n",
              "      <td>microtec</td>\n",
              "      <td>05/03/2022 00:00</td>\n",
              "      <td>12/03/2022 00:00</td>\n",
              "      <td>...</td>\n",
              "      <td>0</td>\n",
              "      <td>0.0</td>\n",
              "      <td>0.0</td>\n",
              "      <td>0.0</td>\n",
              "      <td>0.0</td>\n",
              "      <td>0</td>\n",
              "      <td>35.01</td>\n",
              "      <td>6000.0</td>\n",
              "      <td>13.0</td>\n",
              "      <td>60.0</td>\n",
              "    </tr>\n",
              "    <tr>\n",
              "      <th>2</th>\n",
              "      <td>SZ7V3NZT</td>\n",
              "      <td>13/11/2021 14:13</td>\n",
              "      <td>ZTE</td>\n",
              "      <td>BLADE A3 2020 Gris</td>\n",
              "      <td>13S</td>\n",
              "      <td>Sintia Verenice Tenorio Perez E</td>\n",
              "      <td>mic0437</td>\n",
              "      <td>microtec</td>\n",
              "      <td>05/03/2022 00:00</td>\n",
              "      <td>12/03/2022 00:00</td>\n",
              "      <td>...</td>\n",
              "      <td>0</td>\n",
              "      <td>0.0</td>\n",
              "      <td>0.0</td>\n",
              "      <td>0.0</td>\n",
              "      <td>0.0</td>\n",
              "      <td>0</td>\n",
              "      <td>25.01</td>\n",
              "      <td>0.0</td>\n",
              "      <td>20.2</td>\n",
              "      <td>58.0</td>\n",
              "    </tr>\n",
              "    <tr>\n",
              "      <th>3</th>\n",
              "      <td>9I08UIQZ</td>\n",
              "      <td>13/11/2021 15:45</td>\n",
              "      <td>ZTE</td>\n",
              "      <td>BLADE A3 2020 Gris</td>\n",
              "      <td>13S</td>\n",
              "      <td>Luz Aylin Hernandez Lopez1</td>\n",
              "      <td>mic0748</td>\n",
              "      <td>microtec</td>\n",
              "      <td>05/03/2022 00:00</td>\n",
              "      <td>12/03/2022 00:00</td>\n",
              "      <td>...</td>\n",
              "      <td>0</td>\n",
              "      <td>0.0</td>\n",
              "      <td>0.0</td>\n",
              "      <td>0.0</td>\n",
              "      <td>0.0</td>\n",
              "      <td>0</td>\n",
              "      <td>25.01</td>\n",
              "      <td>7000.0</td>\n",
              "      <td>13.0</td>\n",
              "      <td>42.0</td>\n",
              "    </tr>\n",
              "    <tr>\n",
              "      <th>4</th>\n",
              "      <td>JMF4LKYU</td>\n",
              "      <td>13/11/2021 16:10</td>\n",
              "      <td>MOTOROLA</td>\n",
              "      <td>G10 B</td>\n",
              "      <td>39S</td>\n",
              "      <td>Sintia Verenice Tenorio Perez E</td>\n",
              "      <td>mic0437</td>\n",
              "      <td>microtec</td>\n",
              "      <td>05/03/2022 00:00</td>\n",
              "      <td>12/03/2022 00:00</td>\n",
              "      <td>...</td>\n",
              "      <td>0</td>\n",
              "      <td>0.0</td>\n",
              "      <td>0.0</td>\n",
              "      <td>0.0</td>\n",
              "      <td>0.0</td>\n",
              "      <td>0</td>\n",
              "      <td>25.01</td>\n",
              "      <td>7000.0</td>\n",
              "      <td>20.2</td>\n",
              "      <td>33.0</td>\n",
              "    </tr>\n",
              "  </tbody>\n",
              "</table>\n",
              "<p>5 rows × 39 columns</p>\n",
              "</div>\n",
              "    <div class=\"colab-df-buttons\">\n",
              "\n",
              "  <div class=\"colab-df-container\">\n",
              "    <button class=\"colab-df-convert\" onclick=\"convertToInteractive('df-ececd352-28ea-45c9-8681-4874ac371f89')\"\n",
              "            title=\"Convert this dataframe to an interactive table.\"\n",
              "            style=\"display:none;\">\n",
              "\n",
              "  <svg xmlns=\"http://www.w3.org/2000/svg\" height=\"24px\" viewBox=\"0 -960 960 960\">\n",
              "    <path d=\"M120-120v-720h720v720H120Zm60-500h600v-160H180v160Zm220 220h160v-160H400v160Zm0 220h160v-160H400v160ZM180-400h160v-160H180v160Zm440 0h160v-160H620v160ZM180-180h160v-160H180v160Zm440 0h160v-160H620v160Z\"/>\n",
              "  </svg>\n",
              "    </button>\n",
              "\n",
              "  <style>\n",
              "    .colab-df-container {\n",
              "      display:flex;\n",
              "      gap: 12px;\n",
              "    }\n",
              "\n",
              "    .colab-df-convert {\n",
              "      background-color: #E8F0FE;\n",
              "      border: none;\n",
              "      border-radius: 50%;\n",
              "      cursor: pointer;\n",
              "      display: none;\n",
              "      fill: #1967D2;\n",
              "      height: 32px;\n",
              "      padding: 0 0 0 0;\n",
              "      width: 32px;\n",
              "    }\n",
              "\n",
              "    .colab-df-convert:hover {\n",
              "      background-color: #E2EBFA;\n",
              "      box-shadow: 0px 1px 2px rgba(60, 64, 67, 0.3), 0px 1px 3px 1px rgba(60, 64, 67, 0.15);\n",
              "      fill: #174EA6;\n",
              "    }\n",
              "\n",
              "    .colab-df-buttons div {\n",
              "      margin-bottom: 4px;\n",
              "    }\n",
              "\n",
              "    [theme=dark] .colab-df-convert {\n",
              "      background-color: #3B4455;\n",
              "      fill: #D2E3FC;\n",
              "    }\n",
              "\n",
              "    [theme=dark] .colab-df-convert:hover {\n",
              "      background-color: #434B5C;\n",
              "      box-shadow: 0px 1px 3px 1px rgba(0, 0, 0, 0.15);\n",
              "      filter: drop-shadow(0px 1px 2px rgba(0, 0, 0, 0.3));\n",
              "      fill: #FFFFFF;\n",
              "    }\n",
              "  </style>\n",
              "\n",
              "    <script>\n",
              "      const buttonEl =\n",
              "        document.querySelector('#df-ececd352-28ea-45c9-8681-4874ac371f89 button.colab-df-convert');\n",
              "      buttonEl.style.display =\n",
              "        google.colab.kernel.accessAllowed ? 'block' : 'none';\n",
              "\n",
              "      async function convertToInteractive(key) {\n",
              "        const element = document.querySelector('#df-ececd352-28ea-45c9-8681-4874ac371f89');\n",
              "        const dataTable =\n",
              "          await google.colab.kernel.invokeFunction('convertToInteractive',\n",
              "                                                    [key], {});\n",
              "        if (!dataTable) return;\n",
              "\n",
              "        const docLinkHtml = 'Like what you see? Visit the ' +\n",
              "          '<a target=\"_blank\" href=https://colab.research.google.com/notebooks/data_table.ipynb>data table notebook</a>'\n",
              "          + ' to learn more about interactive tables.';\n",
              "        element.innerHTML = '';\n",
              "        dataTable['output_type'] = 'display_data';\n",
              "        await google.colab.output.renderOutput(dataTable, element);\n",
              "        const docLink = document.createElement('div');\n",
              "        docLink.innerHTML = docLinkHtml;\n",
              "        element.appendChild(docLink);\n",
              "      }\n",
              "    </script>\n",
              "  </div>\n",
              "\n",
              "\n",
              "<div id=\"df-4951a5f4-f465-4d1b-8bf9-71c5c19a9ca1\">\n",
              "  <button class=\"colab-df-quickchart\" onclick=\"quickchart('df-4951a5f4-f465-4d1b-8bf9-71c5c19a9ca1')\"\n",
              "            title=\"Suggest charts.\"\n",
              "            style=\"display:none;\">\n",
              "\n",
              "<svg xmlns=\"http://www.w3.org/2000/svg\" height=\"24px\"viewBox=\"0 0 24 24\"\n",
              "     width=\"24px\">\n",
              "    <g>\n",
              "        <path d=\"M19 3H5c-1.1 0-2 .9-2 2v14c0 1.1.9 2 2 2h14c1.1 0 2-.9 2-2V5c0-1.1-.9-2-2-2zM9 17H7v-7h2v7zm4 0h-2V7h2v10zm4 0h-2v-4h2v4z\"/>\n",
              "    </g>\n",
              "</svg>\n",
              "  </button>\n",
              "\n",
              "<style>\n",
              "  .colab-df-quickchart {\n",
              "      --bg-color: #E8F0FE;\n",
              "      --fill-color: #1967D2;\n",
              "      --hover-bg-color: #E2EBFA;\n",
              "      --hover-fill-color: #174EA6;\n",
              "      --disabled-fill-color: #AAA;\n",
              "      --disabled-bg-color: #DDD;\n",
              "  }\n",
              "\n",
              "  [theme=dark] .colab-df-quickchart {\n",
              "      --bg-color: #3B4455;\n",
              "      --fill-color: #D2E3FC;\n",
              "      --hover-bg-color: #434B5C;\n",
              "      --hover-fill-color: #FFFFFF;\n",
              "      --disabled-bg-color: #3B4455;\n",
              "      --disabled-fill-color: #666;\n",
              "  }\n",
              "\n",
              "  .colab-df-quickchart {\n",
              "    background-color: var(--bg-color);\n",
              "    border: none;\n",
              "    border-radius: 50%;\n",
              "    cursor: pointer;\n",
              "    display: none;\n",
              "    fill: var(--fill-color);\n",
              "    height: 32px;\n",
              "    padding: 0;\n",
              "    width: 32px;\n",
              "  }\n",
              "\n",
              "  .colab-df-quickchart:hover {\n",
              "    background-color: var(--hover-bg-color);\n",
              "    box-shadow: 0 1px 2px rgba(60, 64, 67, 0.3), 0 1px 3px 1px rgba(60, 64, 67, 0.15);\n",
              "    fill: var(--button-hover-fill-color);\n",
              "  }\n",
              "\n",
              "  .colab-df-quickchart-complete:disabled,\n",
              "  .colab-df-quickchart-complete:disabled:hover {\n",
              "    background-color: var(--disabled-bg-color);\n",
              "    fill: var(--disabled-fill-color);\n",
              "    box-shadow: none;\n",
              "  }\n",
              "\n",
              "  .colab-df-spinner {\n",
              "    border: 2px solid var(--fill-color);\n",
              "    border-color: transparent;\n",
              "    border-bottom-color: var(--fill-color);\n",
              "    animation:\n",
              "      spin 1s steps(1) infinite;\n",
              "  }\n",
              "\n",
              "  @keyframes spin {\n",
              "    0% {\n",
              "      border-color: transparent;\n",
              "      border-bottom-color: var(--fill-color);\n",
              "      border-left-color: var(--fill-color);\n",
              "    }\n",
              "    20% {\n",
              "      border-color: transparent;\n",
              "      border-left-color: var(--fill-color);\n",
              "      border-top-color: var(--fill-color);\n",
              "    }\n",
              "    30% {\n",
              "      border-color: transparent;\n",
              "      border-left-color: var(--fill-color);\n",
              "      border-top-color: var(--fill-color);\n",
              "      border-right-color: var(--fill-color);\n",
              "    }\n",
              "    40% {\n",
              "      border-color: transparent;\n",
              "      border-right-color: var(--fill-color);\n",
              "      border-top-color: var(--fill-color);\n",
              "    }\n",
              "    60% {\n",
              "      border-color: transparent;\n",
              "      border-right-color: var(--fill-color);\n",
              "    }\n",
              "    80% {\n",
              "      border-color: transparent;\n",
              "      border-right-color: var(--fill-color);\n",
              "      border-bottom-color: var(--fill-color);\n",
              "    }\n",
              "    90% {\n",
              "      border-color: transparent;\n",
              "      border-bottom-color: var(--fill-color);\n",
              "    }\n",
              "  }\n",
              "</style>\n",
              "\n",
              "  <script>\n",
              "    async function quickchart(key) {\n",
              "      const quickchartButtonEl =\n",
              "        document.querySelector('#' + key + ' button');\n",
              "      quickchartButtonEl.disabled = true;  // To prevent multiple clicks.\n",
              "      quickchartButtonEl.classList.add('colab-df-spinner');\n",
              "      try {\n",
              "        const charts = await google.colab.kernel.invokeFunction(\n",
              "            'suggestCharts', [key], {});\n",
              "      } catch (error) {\n",
              "        console.error('Error during call to suggestCharts:', error);\n",
              "      }\n",
              "      quickchartButtonEl.classList.remove('colab-df-spinner');\n",
              "      quickchartButtonEl.classList.add('colab-df-quickchart-complete');\n",
              "    }\n",
              "    (() => {\n",
              "      let quickchartButtonEl =\n",
              "        document.querySelector('#df-4951a5f4-f465-4d1b-8bf9-71c5c19a9ca1 button');\n",
              "      quickchartButtonEl.style.display =\n",
              "        google.colab.kernel.accessAllowed ? 'block' : 'none';\n",
              "    })();\n",
              "  </script>\n",
              "</div>\n",
              "    </div>\n",
              "  </div>\n"
            ]
          },
          "metadata": {},
          "execution_count": 21
        }
      ]
    },
    {
      "cell_type": "code",
      "source": [
        "conteo_valores = df['dis_venta'].value_counts()\n",
        "conteo_valores"
      ],
      "metadata": {
        "colab": {
          "base_uri": "https://localhost:8080/"
        },
        "id": "CFI0iDaNaT2R",
        "outputId": "bacdde99-1e74-488b-e308-35bb95658586"
      },
      "execution_count": 22,
      "outputs": [
        {
          "output_type": "execute_result",
          "data": {
            "text/plain": [
              "mic0912    526\n",
              "svc001     432\n",
              "mic014     398\n",
              "mic015     381\n",
              "svc003     316\n",
              "          ... \n",
              "mai005       1\n",
              "stl019       1\n",
              "yvs036       1\n",
              "lek016       1\n",
              "RMC003       1\n",
              "Name: dis_venta, Length: 585, dtype: int64"
            ]
          },
          "metadata": {},
          "execution_count": 22
        }
      ]
    },
    {
      "cell_type": "code",
      "source": [
        "df.corr()"
      ],
      "metadata": {
        "colab": {
          "base_uri": "https://localhost:8080/",
          "height": 792
        },
        "id": "tWnK5kBAZlLY",
        "outputId": "499bb4bf-bc68-4376-e109-3a808f46e4e8"
      },
      "execution_count": 23,
      "outputs": [
        {
          "output_type": "stream",
          "name": "stderr",
          "text": [
            "<ipython-input-23-2f6f6606aa2c>:1: FutureWarning: The default value of numeric_only in DataFrame.corr is deprecated. In a future version, it will default to False. Select only valid columns or specify the value of numeric_only to silence this warning.\n",
            "  df.corr()\n"
          ]
        },
        {
          "output_type": "execute_result",
          "data": {
            "text/plain": [
              "                     folio  folio_solicitud    precio  enganche  descuento  \\\n",
              "folio             1.000000         0.971332  0.089539  0.125603   0.134939   \n",
              "folio_solicitud   0.971332         1.000000  0.090329  0.122568   0.131475   \n",
              "precio            0.089539         0.090329  1.000000  0.690542   0.018582   \n",
              "enganche          0.125603         0.122568  0.690542  1.000000  -0.025831   \n",
              "descuento         0.134939         0.131475  0.018582 -0.025831   1.000000   \n",
              "semana            0.097617         0.099369  0.611028  0.379107  -0.019941   \n",
              "monto_financiado  0.070554         0.072683  0.935647  0.515344   0.033970   \n",
              "costo_total       0.048342         0.049955  0.838116  0.448240   0.050457   \n",
              "monto_accesorios  0.105582         0.094277 -0.024338 -0.015719   0.025154   \n",
              "status           -0.401955        -0.391637 -0.097610 -0.074212  -0.068609   \n",
              "fraude                 NaN              NaN       NaN       NaN        NaN   \n",
              "inversion        -0.139744        -0.130940 -0.009418 -0.106344   0.243043   \n",
              "pagos_realizados -0.462108        -0.453260  0.021131 -0.088180   0.043343   \n",
              "reautorizacion         NaN              NaN       NaN       NaN        NaN   \n",
              "puntos           -0.120519        -0.136636  0.072409 -0.211252  -0.084649   \n",
              "riesgo            0.360565         0.348446 -0.042131  0.300962   0.044845   \n",
              "score_buro        0.548206         0.527624  0.077478  0.069650   0.106815   \n",
              "porc_eng          0.085404         0.079580 -0.037848  0.550980  -0.058823   \n",
              "limite_credito   -0.389241        -0.373411  0.071461 -0.363672  -0.099430   \n",
              "semana_actual    -0.809617        -0.787954 -0.007976 -0.085123  -0.123154   \n",
              "edad_cliente     -0.012752        -0.013639 -0.078688 -0.106747  -0.019187   \n",
              "\n",
              "                    semana  monto_financiado  costo_total  monto_accesorios  \\\n",
              "folio             0.097617          0.070554     0.048342          0.105582   \n",
              "folio_solicitud   0.099369          0.072683     0.049955          0.094277   \n",
              "precio            0.611028          0.935647     0.838116         -0.024338   \n",
              "enganche          0.379107          0.515344     0.448240         -0.015719   \n",
              "descuento        -0.019941          0.033970     0.050457          0.025154   \n",
              "semana            1.000000          0.602361     0.351682         -0.014543   \n",
              "monto_financiado  0.602361          1.000000     0.880544         -0.014844   \n",
              "costo_total       0.351682          0.880544     1.000000          0.006631   \n",
              "monto_accesorios -0.014543         -0.014844     0.006631          1.000000   \n",
              "status            0.140207         -0.104128    -0.191657         -0.041099   \n",
              "fraude                 NaN               NaN          NaN               NaN   \n",
              "inversion         0.016371          0.031904     0.026717         -0.022554   \n",
              "pagos_realizados -0.116870          0.054574     0.120742         -0.055976   \n",
              "reautorizacion         NaN               NaN          NaN               NaN   \n",
              "puntos            0.084549          0.164210     0.154028         -0.028959   \n",
              "riesgo           -0.071684         -0.173172    -0.170579          0.059309   \n",
              "score_buro        0.060466          0.073016     0.077757          0.061045   \n",
              "porc_eng         -0.115531         -0.253541    -0.256799          0.000023   \n",
              "limite_credito    0.097151          0.215092     0.216293         -0.054168   \n",
              "semana_actual    -0.174343          0.020533     0.098423         -0.085508   \n",
              "edad_cliente     -0.027617         -0.058117    -0.055271          0.003137   \n",
              "\n",
              "                    status  ...  inversion  pagos_realizados  reautorizacion  \\\n",
              "folio            -0.401955  ...  -0.139744         -0.462108             NaN   \n",
              "folio_solicitud  -0.391637  ...  -0.130940         -0.453260             NaN   \n",
              "precio           -0.097610  ...  -0.009418          0.021131             NaN   \n",
              "enganche         -0.074212  ...  -0.106344         -0.088180             NaN   \n",
              "descuento        -0.068609  ...   0.243043          0.043343             NaN   \n",
              "semana            0.140207  ...   0.016371         -0.116870             NaN   \n",
              "monto_financiado -0.104128  ...   0.031904          0.054574             NaN   \n",
              "costo_total      -0.191657  ...   0.026717          0.120742             NaN   \n",
              "monto_accesorios -0.041099  ...  -0.022554         -0.055976             NaN   \n",
              "status            1.000000  ...   0.091192          0.296808             NaN   \n",
              "fraude                 NaN  ...        NaN               NaN             NaN   \n",
              "inversion         0.091192  ...   1.000000          0.181974             NaN   \n",
              "pagos_realizados  0.296808  ...   0.181974          1.000000             NaN   \n",
              "reautorizacion         NaN  ...        NaN               NaN             NaN   \n",
              "puntos            0.072987  ...   0.079969          0.197550             NaN   \n",
              "riesgo           -0.163089  ...  -0.137175         -0.240760             NaN   \n",
              "score_buro       -0.229747  ...  -0.097543         -0.202109             NaN   \n",
              "porc_eng         -0.012792  ...  -0.178517         -0.162108             NaN   \n",
              "limite_credito    0.157092  ...   0.128977          0.248289             NaN   \n",
              "semana_actual    -0.003240  ...   0.110362          0.377028             NaN   \n",
              "edad_cliente      0.067626  ...  -0.020892          0.031724             NaN   \n",
              "\n",
              "                    puntos    riesgo  score_buro  porc_eng  limite_credito  \\\n",
              "folio            -0.120519  0.360565    0.548206  0.085404       -0.389241   \n",
              "folio_solicitud  -0.136636  0.348446    0.527624  0.079580       -0.373411   \n",
              "precio            0.072409 -0.042131    0.077478 -0.037848        0.071461   \n",
              "enganche         -0.211252  0.300962    0.069650  0.550980       -0.363672   \n",
              "descuento        -0.084649  0.044845    0.106815 -0.058823       -0.099430   \n",
              "semana            0.084549 -0.071684    0.060466 -0.115531        0.097151   \n",
              "monto_financiado  0.164210 -0.173172    0.073016 -0.253541        0.215092   \n",
              "costo_total       0.154028 -0.170579    0.077757 -0.256799        0.216293   \n",
              "monto_accesorios -0.028959  0.059309    0.061045  0.000023       -0.054168   \n",
              "status            0.072987 -0.163089   -0.229747 -0.012792        0.157092   \n",
              "fraude                 NaN       NaN         NaN       NaN             NaN   \n",
              "inversion         0.079969 -0.137175   -0.097543 -0.178517        0.128977   \n",
              "pagos_realizados  0.197550 -0.240760   -0.202109 -0.162108        0.248289   \n",
              "reautorizacion         NaN       NaN         NaN       NaN             NaN   \n",
              "puntos            1.000000 -0.454679   -0.223929 -0.432247        0.517592   \n",
              "riesgo           -0.454679  1.000000   -0.059013  0.539659       -0.736227   \n",
              "score_buro       -0.223929 -0.059013    1.000000  0.018615       -0.153349   \n",
              "porc_eng         -0.432247  0.539659    0.018615  1.000000       -0.664914   \n",
              "limite_credito    0.517592 -0.736227   -0.153349 -0.664914        1.000000   \n",
              "semana_actual     0.158190 -0.316308   -0.447617 -0.116929        0.339811   \n",
              "edad_cliente      0.018151 -0.180580    0.114360 -0.081078        0.128775   \n",
              "\n",
              "                  semana_actual  edad_cliente  \n",
              "folio                 -0.809617     -0.012752  \n",
              "folio_solicitud       -0.787954     -0.013639  \n",
              "precio                -0.007976     -0.078688  \n",
              "enganche              -0.085123     -0.106747  \n",
              "descuento             -0.123154     -0.019187  \n",
              "semana                -0.174343     -0.027617  \n",
              "monto_financiado       0.020533     -0.058117  \n",
              "costo_total            0.098423     -0.055271  \n",
              "monto_accesorios      -0.085508      0.003137  \n",
              "status                -0.003240      0.067626  \n",
              "fraude                      NaN           NaN  \n",
              "inversion              0.110362     -0.020892  \n",
              "pagos_realizados       0.377028      0.031724  \n",
              "reautorizacion              NaN           NaN  \n",
              "puntos                 0.158190      0.018151  \n",
              "riesgo                -0.316308     -0.180580  \n",
              "score_buro            -0.447617      0.114360  \n",
              "porc_eng              -0.116929     -0.081078  \n",
              "limite_credito         0.339811      0.128775  \n",
              "semana_actual          1.000000     -0.014700  \n",
              "edad_cliente          -0.014700      1.000000  \n",
              "\n",
              "[21 rows x 21 columns]"
            ],
            "text/html": [
              "\n",
              "  <div id=\"df-f65d7114-dc0c-47d6-8d52-bb4a0b7a8313\" class=\"colab-df-container\">\n",
              "    <div>\n",
              "<style scoped>\n",
              "    .dataframe tbody tr th:only-of-type {\n",
              "        vertical-align: middle;\n",
              "    }\n",
              "\n",
              "    .dataframe tbody tr th {\n",
              "        vertical-align: top;\n",
              "    }\n",
              "\n",
              "    .dataframe thead th {\n",
              "        text-align: right;\n",
              "    }\n",
              "</style>\n",
              "<table border=\"1\" class=\"dataframe\">\n",
              "  <thead>\n",
              "    <tr style=\"text-align: right;\">\n",
              "      <th></th>\n",
              "      <th>folio</th>\n",
              "      <th>folio_solicitud</th>\n",
              "      <th>precio</th>\n",
              "      <th>enganche</th>\n",
              "      <th>descuento</th>\n",
              "      <th>semana</th>\n",
              "      <th>monto_financiado</th>\n",
              "      <th>costo_total</th>\n",
              "      <th>monto_accesorios</th>\n",
              "      <th>status</th>\n",
              "      <th>...</th>\n",
              "      <th>inversion</th>\n",
              "      <th>pagos_realizados</th>\n",
              "      <th>reautorizacion</th>\n",
              "      <th>puntos</th>\n",
              "      <th>riesgo</th>\n",
              "      <th>score_buro</th>\n",
              "      <th>porc_eng</th>\n",
              "      <th>limite_credito</th>\n",
              "      <th>semana_actual</th>\n",
              "      <th>edad_cliente</th>\n",
              "    </tr>\n",
              "  </thead>\n",
              "  <tbody>\n",
              "    <tr>\n",
              "      <th>folio</th>\n",
              "      <td>1.000000</td>\n",
              "      <td>0.971332</td>\n",
              "      <td>0.089539</td>\n",
              "      <td>0.125603</td>\n",
              "      <td>0.134939</td>\n",
              "      <td>0.097617</td>\n",
              "      <td>0.070554</td>\n",
              "      <td>0.048342</td>\n",
              "      <td>0.105582</td>\n",
              "      <td>-0.401955</td>\n",
              "      <td>...</td>\n",
              "      <td>-0.139744</td>\n",
              "      <td>-0.462108</td>\n",
              "      <td>NaN</td>\n",
              "      <td>-0.120519</td>\n",
              "      <td>0.360565</td>\n",
              "      <td>0.548206</td>\n",
              "      <td>0.085404</td>\n",
              "      <td>-0.389241</td>\n",
              "      <td>-0.809617</td>\n",
              "      <td>-0.012752</td>\n",
              "    </tr>\n",
              "    <tr>\n",
              "      <th>folio_solicitud</th>\n",
              "      <td>0.971332</td>\n",
              "      <td>1.000000</td>\n",
              "      <td>0.090329</td>\n",
              "      <td>0.122568</td>\n",
              "      <td>0.131475</td>\n",
              "      <td>0.099369</td>\n",
              "      <td>0.072683</td>\n",
              "      <td>0.049955</td>\n",
              "      <td>0.094277</td>\n",
              "      <td>-0.391637</td>\n",
              "      <td>...</td>\n",
              "      <td>-0.130940</td>\n",
              "      <td>-0.453260</td>\n",
              "      <td>NaN</td>\n",
              "      <td>-0.136636</td>\n",
              "      <td>0.348446</td>\n",
              "      <td>0.527624</td>\n",
              "      <td>0.079580</td>\n",
              "      <td>-0.373411</td>\n",
              "      <td>-0.787954</td>\n",
              "      <td>-0.013639</td>\n",
              "    </tr>\n",
              "    <tr>\n",
              "      <th>precio</th>\n",
              "      <td>0.089539</td>\n",
              "      <td>0.090329</td>\n",
              "      <td>1.000000</td>\n",
              "      <td>0.690542</td>\n",
              "      <td>0.018582</td>\n",
              "      <td>0.611028</td>\n",
              "      <td>0.935647</td>\n",
              "      <td>0.838116</td>\n",
              "      <td>-0.024338</td>\n",
              "      <td>-0.097610</td>\n",
              "      <td>...</td>\n",
              "      <td>-0.009418</td>\n",
              "      <td>0.021131</td>\n",
              "      <td>NaN</td>\n",
              "      <td>0.072409</td>\n",
              "      <td>-0.042131</td>\n",
              "      <td>0.077478</td>\n",
              "      <td>-0.037848</td>\n",
              "      <td>0.071461</td>\n",
              "      <td>-0.007976</td>\n",
              "      <td>-0.078688</td>\n",
              "    </tr>\n",
              "    <tr>\n",
              "      <th>enganche</th>\n",
              "      <td>0.125603</td>\n",
              "      <td>0.122568</td>\n",
              "      <td>0.690542</td>\n",
              "      <td>1.000000</td>\n",
              "      <td>-0.025831</td>\n",
              "      <td>0.379107</td>\n",
              "      <td>0.515344</td>\n",
              "      <td>0.448240</td>\n",
              "      <td>-0.015719</td>\n",
              "      <td>-0.074212</td>\n",
              "      <td>...</td>\n",
              "      <td>-0.106344</td>\n",
              "      <td>-0.088180</td>\n",
              "      <td>NaN</td>\n",
              "      <td>-0.211252</td>\n",
              "      <td>0.300962</td>\n",
              "      <td>0.069650</td>\n",
              "      <td>0.550980</td>\n",
              "      <td>-0.363672</td>\n",
              "      <td>-0.085123</td>\n",
              "      <td>-0.106747</td>\n",
              "    </tr>\n",
              "    <tr>\n",
              "      <th>descuento</th>\n",
              "      <td>0.134939</td>\n",
              "      <td>0.131475</td>\n",
              "      <td>0.018582</td>\n",
              "      <td>-0.025831</td>\n",
              "      <td>1.000000</td>\n",
              "      <td>-0.019941</td>\n",
              "      <td>0.033970</td>\n",
              "      <td>0.050457</td>\n",
              "      <td>0.025154</td>\n",
              "      <td>-0.068609</td>\n",
              "      <td>...</td>\n",
              "      <td>0.243043</td>\n",
              "      <td>0.043343</td>\n",
              "      <td>NaN</td>\n",
              "      <td>-0.084649</td>\n",
              "      <td>0.044845</td>\n",
              "      <td>0.106815</td>\n",
              "      <td>-0.058823</td>\n",
              "      <td>-0.099430</td>\n",
              "      <td>-0.123154</td>\n",
              "      <td>-0.019187</td>\n",
              "    </tr>\n",
              "    <tr>\n",
              "      <th>semana</th>\n",
              "      <td>0.097617</td>\n",
              "      <td>0.099369</td>\n",
              "      <td>0.611028</td>\n",
              "      <td>0.379107</td>\n",
              "      <td>-0.019941</td>\n",
              "      <td>1.000000</td>\n",
              "      <td>0.602361</td>\n",
              "      <td>0.351682</td>\n",
              "      <td>-0.014543</td>\n",
              "      <td>0.140207</td>\n",
              "      <td>...</td>\n",
              "      <td>0.016371</td>\n",
              "      <td>-0.116870</td>\n",
              "      <td>NaN</td>\n",
              "      <td>0.084549</td>\n",
              "      <td>-0.071684</td>\n",
              "      <td>0.060466</td>\n",
              "      <td>-0.115531</td>\n",
              "      <td>0.097151</td>\n",
              "      <td>-0.174343</td>\n",
              "      <td>-0.027617</td>\n",
              "    </tr>\n",
              "    <tr>\n",
              "      <th>monto_financiado</th>\n",
              "      <td>0.070554</td>\n",
              "      <td>0.072683</td>\n",
              "      <td>0.935647</td>\n",
              "      <td>0.515344</td>\n",
              "      <td>0.033970</td>\n",
              "      <td>0.602361</td>\n",
              "      <td>1.000000</td>\n",
              "      <td>0.880544</td>\n",
              "      <td>-0.014844</td>\n",
              "      <td>-0.104128</td>\n",
              "      <td>...</td>\n",
              "      <td>0.031904</td>\n",
              "      <td>0.054574</td>\n",
              "      <td>NaN</td>\n",
              "      <td>0.164210</td>\n",
              "      <td>-0.173172</td>\n",
              "      <td>0.073016</td>\n",
              "      <td>-0.253541</td>\n",
              "      <td>0.215092</td>\n",
              "      <td>0.020533</td>\n",
              "      <td>-0.058117</td>\n",
              "    </tr>\n",
              "    <tr>\n",
              "      <th>costo_total</th>\n",
              "      <td>0.048342</td>\n",
              "      <td>0.049955</td>\n",
              "      <td>0.838116</td>\n",
              "      <td>0.448240</td>\n",
              "      <td>0.050457</td>\n",
              "      <td>0.351682</td>\n",
              "      <td>0.880544</td>\n",
              "      <td>1.000000</td>\n",
              "      <td>0.006631</td>\n",
              "      <td>-0.191657</td>\n",
              "      <td>...</td>\n",
              "      <td>0.026717</td>\n",
              "      <td>0.120742</td>\n",
              "      <td>NaN</td>\n",
              "      <td>0.154028</td>\n",
              "      <td>-0.170579</td>\n",
              "      <td>0.077757</td>\n",
              "      <td>-0.256799</td>\n",
              "      <td>0.216293</td>\n",
              "      <td>0.098423</td>\n",
              "      <td>-0.055271</td>\n",
              "    </tr>\n",
              "    <tr>\n",
              "      <th>monto_accesorios</th>\n",
              "      <td>0.105582</td>\n",
              "      <td>0.094277</td>\n",
              "      <td>-0.024338</td>\n",
              "      <td>-0.015719</td>\n",
              "      <td>0.025154</td>\n",
              "      <td>-0.014543</td>\n",
              "      <td>-0.014844</td>\n",
              "      <td>0.006631</td>\n",
              "      <td>1.000000</td>\n",
              "      <td>-0.041099</td>\n",
              "      <td>...</td>\n",
              "      <td>-0.022554</td>\n",
              "      <td>-0.055976</td>\n",
              "      <td>NaN</td>\n",
              "      <td>-0.028959</td>\n",
              "      <td>0.059309</td>\n",
              "      <td>0.061045</td>\n",
              "      <td>0.000023</td>\n",
              "      <td>-0.054168</td>\n",
              "      <td>-0.085508</td>\n",
              "      <td>0.003137</td>\n",
              "    </tr>\n",
              "    <tr>\n",
              "      <th>status</th>\n",
              "      <td>-0.401955</td>\n",
              "      <td>-0.391637</td>\n",
              "      <td>-0.097610</td>\n",
              "      <td>-0.074212</td>\n",
              "      <td>-0.068609</td>\n",
              "      <td>0.140207</td>\n",
              "      <td>-0.104128</td>\n",
              "      <td>-0.191657</td>\n",
              "      <td>-0.041099</td>\n",
              "      <td>1.000000</td>\n",
              "      <td>...</td>\n",
              "      <td>0.091192</td>\n",
              "      <td>0.296808</td>\n",
              "      <td>NaN</td>\n",
              "      <td>0.072987</td>\n",
              "      <td>-0.163089</td>\n",
              "      <td>-0.229747</td>\n",
              "      <td>-0.012792</td>\n",
              "      <td>0.157092</td>\n",
              "      <td>-0.003240</td>\n",
              "      <td>0.067626</td>\n",
              "    </tr>\n",
              "    <tr>\n",
              "      <th>fraude</th>\n",
              "      <td>NaN</td>\n",
              "      <td>NaN</td>\n",
              "      <td>NaN</td>\n",
              "      <td>NaN</td>\n",
              "      <td>NaN</td>\n",
              "      <td>NaN</td>\n",
              "      <td>NaN</td>\n",
              "      <td>NaN</td>\n",
              "      <td>NaN</td>\n",
              "      <td>NaN</td>\n",
              "      <td>...</td>\n",
              "      <td>NaN</td>\n",
              "      <td>NaN</td>\n",
              "      <td>NaN</td>\n",
              "      <td>NaN</td>\n",
              "      <td>NaN</td>\n",
              "      <td>NaN</td>\n",
              "      <td>NaN</td>\n",
              "      <td>NaN</td>\n",
              "      <td>NaN</td>\n",
              "      <td>NaN</td>\n",
              "    </tr>\n",
              "    <tr>\n",
              "      <th>inversion</th>\n",
              "      <td>-0.139744</td>\n",
              "      <td>-0.130940</td>\n",
              "      <td>-0.009418</td>\n",
              "      <td>-0.106344</td>\n",
              "      <td>0.243043</td>\n",
              "      <td>0.016371</td>\n",
              "      <td>0.031904</td>\n",
              "      <td>0.026717</td>\n",
              "      <td>-0.022554</td>\n",
              "      <td>0.091192</td>\n",
              "      <td>...</td>\n",
              "      <td>1.000000</td>\n",
              "      <td>0.181974</td>\n",
              "      <td>NaN</td>\n",
              "      <td>0.079969</td>\n",
              "      <td>-0.137175</td>\n",
              "      <td>-0.097543</td>\n",
              "      <td>-0.178517</td>\n",
              "      <td>0.128977</td>\n",
              "      <td>0.110362</td>\n",
              "      <td>-0.020892</td>\n",
              "    </tr>\n",
              "    <tr>\n",
              "      <th>pagos_realizados</th>\n",
              "      <td>-0.462108</td>\n",
              "      <td>-0.453260</td>\n",
              "      <td>0.021131</td>\n",
              "      <td>-0.088180</td>\n",
              "      <td>0.043343</td>\n",
              "      <td>-0.116870</td>\n",
              "      <td>0.054574</td>\n",
              "      <td>0.120742</td>\n",
              "      <td>-0.055976</td>\n",
              "      <td>0.296808</td>\n",
              "      <td>...</td>\n",
              "      <td>0.181974</td>\n",
              "      <td>1.000000</td>\n",
              "      <td>NaN</td>\n",
              "      <td>0.197550</td>\n",
              "      <td>-0.240760</td>\n",
              "      <td>-0.202109</td>\n",
              "      <td>-0.162108</td>\n",
              "      <td>0.248289</td>\n",
              "      <td>0.377028</td>\n",
              "      <td>0.031724</td>\n",
              "    </tr>\n",
              "    <tr>\n",
              "      <th>reautorizacion</th>\n",
              "      <td>NaN</td>\n",
              "      <td>NaN</td>\n",
              "      <td>NaN</td>\n",
              "      <td>NaN</td>\n",
              "      <td>NaN</td>\n",
              "      <td>NaN</td>\n",
              "      <td>NaN</td>\n",
              "      <td>NaN</td>\n",
              "      <td>NaN</td>\n",
              "      <td>NaN</td>\n",
              "      <td>...</td>\n",
              "      <td>NaN</td>\n",
              "      <td>NaN</td>\n",
              "      <td>NaN</td>\n",
              "      <td>NaN</td>\n",
              "      <td>NaN</td>\n",
              "      <td>NaN</td>\n",
              "      <td>NaN</td>\n",
              "      <td>NaN</td>\n",
              "      <td>NaN</td>\n",
              "      <td>NaN</td>\n",
              "    </tr>\n",
              "    <tr>\n",
              "      <th>puntos</th>\n",
              "      <td>-0.120519</td>\n",
              "      <td>-0.136636</td>\n",
              "      <td>0.072409</td>\n",
              "      <td>-0.211252</td>\n",
              "      <td>-0.084649</td>\n",
              "      <td>0.084549</td>\n",
              "      <td>0.164210</td>\n",
              "      <td>0.154028</td>\n",
              "      <td>-0.028959</td>\n",
              "      <td>0.072987</td>\n",
              "      <td>...</td>\n",
              "      <td>0.079969</td>\n",
              "      <td>0.197550</td>\n",
              "      <td>NaN</td>\n",
              "      <td>1.000000</td>\n",
              "      <td>-0.454679</td>\n",
              "      <td>-0.223929</td>\n",
              "      <td>-0.432247</td>\n",
              "      <td>0.517592</td>\n",
              "      <td>0.158190</td>\n",
              "      <td>0.018151</td>\n",
              "    </tr>\n",
              "    <tr>\n",
              "      <th>riesgo</th>\n",
              "      <td>0.360565</td>\n",
              "      <td>0.348446</td>\n",
              "      <td>-0.042131</td>\n",
              "      <td>0.300962</td>\n",
              "      <td>0.044845</td>\n",
              "      <td>-0.071684</td>\n",
              "      <td>-0.173172</td>\n",
              "      <td>-0.170579</td>\n",
              "      <td>0.059309</td>\n",
              "      <td>-0.163089</td>\n",
              "      <td>...</td>\n",
              "      <td>-0.137175</td>\n",
              "      <td>-0.240760</td>\n",
              "      <td>NaN</td>\n",
              "      <td>-0.454679</td>\n",
              "      <td>1.000000</td>\n",
              "      <td>-0.059013</td>\n",
              "      <td>0.539659</td>\n",
              "      <td>-0.736227</td>\n",
              "      <td>-0.316308</td>\n",
              "      <td>-0.180580</td>\n",
              "    </tr>\n",
              "    <tr>\n",
              "      <th>score_buro</th>\n",
              "      <td>0.548206</td>\n",
              "      <td>0.527624</td>\n",
              "      <td>0.077478</td>\n",
              "      <td>0.069650</td>\n",
              "      <td>0.106815</td>\n",
              "      <td>0.060466</td>\n",
              "      <td>0.073016</td>\n",
              "      <td>0.077757</td>\n",
              "      <td>0.061045</td>\n",
              "      <td>-0.229747</td>\n",
              "      <td>...</td>\n",
              "      <td>-0.097543</td>\n",
              "      <td>-0.202109</td>\n",
              "      <td>NaN</td>\n",
              "      <td>-0.223929</td>\n",
              "      <td>-0.059013</td>\n",
              "      <td>1.000000</td>\n",
              "      <td>0.018615</td>\n",
              "      <td>-0.153349</td>\n",
              "      <td>-0.447617</td>\n",
              "      <td>0.114360</td>\n",
              "    </tr>\n",
              "    <tr>\n",
              "      <th>porc_eng</th>\n",
              "      <td>0.085404</td>\n",
              "      <td>0.079580</td>\n",
              "      <td>-0.037848</td>\n",
              "      <td>0.550980</td>\n",
              "      <td>-0.058823</td>\n",
              "      <td>-0.115531</td>\n",
              "      <td>-0.253541</td>\n",
              "      <td>-0.256799</td>\n",
              "      <td>0.000023</td>\n",
              "      <td>-0.012792</td>\n",
              "      <td>...</td>\n",
              "      <td>-0.178517</td>\n",
              "      <td>-0.162108</td>\n",
              "      <td>NaN</td>\n",
              "      <td>-0.432247</td>\n",
              "      <td>0.539659</td>\n",
              "      <td>0.018615</td>\n",
              "      <td>1.000000</td>\n",
              "      <td>-0.664914</td>\n",
              "      <td>-0.116929</td>\n",
              "      <td>-0.081078</td>\n",
              "    </tr>\n",
              "    <tr>\n",
              "      <th>limite_credito</th>\n",
              "      <td>-0.389241</td>\n",
              "      <td>-0.373411</td>\n",
              "      <td>0.071461</td>\n",
              "      <td>-0.363672</td>\n",
              "      <td>-0.099430</td>\n",
              "      <td>0.097151</td>\n",
              "      <td>0.215092</td>\n",
              "      <td>0.216293</td>\n",
              "      <td>-0.054168</td>\n",
              "      <td>0.157092</td>\n",
              "      <td>...</td>\n",
              "      <td>0.128977</td>\n",
              "      <td>0.248289</td>\n",
              "      <td>NaN</td>\n",
              "      <td>0.517592</td>\n",
              "      <td>-0.736227</td>\n",
              "      <td>-0.153349</td>\n",
              "      <td>-0.664914</td>\n",
              "      <td>1.000000</td>\n",
              "      <td>0.339811</td>\n",
              "      <td>0.128775</td>\n",
              "    </tr>\n",
              "    <tr>\n",
              "      <th>semana_actual</th>\n",
              "      <td>-0.809617</td>\n",
              "      <td>-0.787954</td>\n",
              "      <td>-0.007976</td>\n",
              "      <td>-0.085123</td>\n",
              "      <td>-0.123154</td>\n",
              "      <td>-0.174343</td>\n",
              "      <td>0.020533</td>\n",
              "      <td>0.098423</td>\n",
              "      <td>-0.085508</td>\n",
              "      <td>-0.003240</td>\n",
              "      <td>...</td>\n",
              "      <td>0.110362</td>\n",
              "      <td>0.377028</td>\n",
              "      <td>NaN</td>\n",
              "      <td>0.158190</td>\n",
              "      <td>-0.316308</td>\n",
              "      <td>-0.447617</td>\n",
              "      <td>-0.116929</td>\n",
              "      <td>0.339811</td>\n",
              "      <td>1.000000</td>\n",
              "      <td>-0.014700</td>\n",
              "    </tr>\n",
              "    <tr>\n",
              "      <th>edad_cliente</th>\n",
              "      <td>-0.012752</td>\n",
              "      <td>-0.013639</td>\n",
              "      <td>-0.078688</td>\n",
              "      <td>-0.106747</td>\n",
              "      <td>-0.019187</td>\n",
              "      <td>-0.027617</td>\n",
              "      <td>-0.058117</td>\n",
              "      <td>-0.055271</td>\n",
              "      <td>0.003137</td>\n",
              "      <td>0.067626</td>\n",
              "      <td>...</td>\n",
              "      <td>-0.020892</td>\n",
              "      <td>0.031724</td>\n",
              "      <td>NaN</td>\n",
              "      <td>0.018151</td>\n",
              "      <td>-0.180580</td>\n",
              "      <td>0.114360</td>\n",
              "      <td>-0.081078</td>\n",
              "      <td>0.128775</td>\n",
              "      <td>-0.014700</td>\n",
              "      <td>1.000000</td>\n",
              "    </tr>\n",
              "  </tbody>\n",
              "</table>\n",
              "<p>21 rows × 21 columns</p>\n",
              "</div>\n",
              "    <div class=\"colab-df-buttons\">\n",
              "\n",
              "  <div class=\"colab-df-container\">\n",
              "    <button class=\"colab-df-convert\" onclick=\"convertToInteractive('df-f65d7114-dc0c-47d6-8d52-bb4a0b7a8313')\"\n",
              "            title=\"Convert this dataframe to an interactive table.\"\n",
              "            style=\"display:none;\">\n",
              "\n",
              "  <svg xmlns=\"http://www.w3.org/2000/svg\" height=\"24px\" viewBox=\"0 -960 960 960\">\n",
              "    <path d=\"M120-120v-720h720v720H120Zm60-500h600v-160H180v160Zm220 220h160v-160H400v160Zm0 220h160v-160H400v160ZM180-400h160v-160H180v160Zm440 0h160v-160H620v160ZM180-180h160v-160H180v160Zm440 0h160v-160H620v160Z\"/>\n",
              "  </svg>\n",
              "    </button>\n",
              "\n",
              "  <style>\n",
              "    .colab-df-container {\n",
              "      display:flex;\n",
              "      gap: 12px;\n",
              "    }\n",
              "\n",
              "    .colab-df-convert {\n",
              "      background-color: #E8F0FE;\n",
              "      border: none;\n",
              "      border-radius: 50%;\n",
              "      cursor: pointer;\n",
              "      display: none;\n",
              "      fill: #1967D2;\n",
              "      height: 32px;\n",
              "      padding: 0 0 0 0;\n",
              "      width: 32px;\n",
              "    }\n",
              "\n",
              "    .colab-df-convert:hover {\n",
              "      background-color: #E2EBFA;\n",
              "      box-shadow: 0px 1px 2px rgba(60, 64, 67, 0.3), 0px 1px 3px 1px rgba(60, 64, 67, 0.15);\n",
              "      fill: #174EA6;\n",
              "    }\n",
              "\n",
              "    .colab-df-buttons div {\n",
              "      margin-bottom: 4px;\n",
              "    }\n",
              "\n",
              "    [theme=dark] .colab-df-convert {\n",
              "      background-color: #3B4455;\n",
              "      fill: #D2E3FC;\n",
              "    }\n",
              "\n",
              "    [theme=dark] .colab-df-convert:hover {\n",
              "      background-color: #434B5C;\n",
              "      box-shadow: 0px 1px 3px 1px rgba(0, 0, 0, 0.15);\n",
              "      filter: drop-shadow(0px 1px 2px rgba(0, 0, 0, 0.3));\n",
              "      fill: #FFFFFF;\n",
              "    }\n",
              "  </style>\n",
              "\n",
              "    <script>\n",
              "      const buttonEl =\n",
              "        document.querySelector('#df-f65d7114-dc0c-47d6-8d52-bb4a0b7a8313 button.colab-df-convert');\n",
              "      buttonEl.style.display =\n",
              "        google.colab.kernel.accessAllowed ? 'block' : 'none';\n",
              "\n",
              "      async function convertToInteractive(key) {\n",
              "        const element = document.querySelector('#df-f65d7114-dc0c-47d6-8d52-bb4a0b7a8313');\n",
              "        const dataTable =\n",
              "          await google.colab.kernel.invokeFunction('convertToInteractive',\n",
              "                                                    [key], {});\n",
              "        if (!dataTable) return;\n",
              "\n",
              "        const docLinkHtml = 'Like what you see? Visit the ' +\n",
              "          '<a target=\"_blank\" href=https://colab.research.google.com/notebooks/data_table.ipynb>data table notebook</a>'\n",
              "          + ' to learn more about interactive tables.';\n",
              "        element.innerHTML = '';\n",
              "        dataTable['output_type'] = 'display_data';\n",
              "        await google.colab.output.renderOutput(dataTable, element);\n",
              "        const docLink = document.createElement('div');\n",
              "        docLink.innerHTML = docLinkHtml;\n",
              "        element.appendChild(docLink);\n",
              "      }\n",
              "    </script>\n",
              "  </div>\n",
              "\n",
              "\n",
              "<div id=\"df-b5b83cd2-1bf3-451e-b957-772748d1328c\">\n",
              "  <button class=\"colab-df-quickchart\" onclick=\"quickchart('df-b5b83cd2-1bf3-451e-b957-772748d1328c')\"\n",
              "            title=\"Suggest charts.\"\n",
              "            style=\"display:none;\">\n",
              "\n",
              "<svg xmlns=\"http://www.w3.org/2000/svg\" height=\"24px\"viewBox=\"0 0 24 24\"\n",
              "     width=\"24px\">\n",
              "    <g>\n",
              "        <path d=\"M19 3H5c-1.1 0-2 .9-2 2v14c0 1.1.9 2 2 2h14c1.1 0 2-.9 2-2V5c0-1.1-.9-2-2-2zM9 17H7v-7h2v7zm4 0h-2V7h2v10zm4 0h-2v-4h2v4z\"/>\n",
              "    </g>\n",
              "</svg>\n",
              "  </button>\n",
              "\n",
              "<style>\n",
              "  .colab-df-quickchart {\n",
              "      --bg-color: #E8F0FE;\n",
              "      --fill-color: #1967D2;\n",
              "      --hover-bg-color: #E2EBFA;\n",
              "      --hover-fill-color: #174EA6;\n",
              "      --disabled-fill-color: #AAA;\n",
              "      --disabled-bg-color: #DDD;\n",
              "  }\n",
              "\n",
              "  [theme=dark] .colab-df-quickchart {\n",
              "      --bg-color: #3B4455;\n",
              "      --fill-color: #D2E3FC;\n",
              "      --hover-bg-color: #434B5C;\n",
              "      --hover-fill-color: #FFFFFF;\n",
              "      --disabled-bg-color: #3B4455;\n",
              "      --disabled-fill-color: #666;\n",
              "  }\n",
              "\n",
              "  .colab-df-quickchart {\n",
              "    background-color: var(--bg-color);\n",
              "    border: none;\n",
              "    border-radius: 50%;\n",
              "    cursor: pointer;\n",
              "    display: none;\n",
              "    fill: var(--fill-color);\n",
              "    height: 32px;\n",
              "    padding: 0;\n",
              "    width: 32px;\n",
              "  }\n",
              "\n",
              "  .colab-df-quickchart:hover {\n",
              "    background-color: var(--hover-bg-color);\n",
              "    box-shadow: 0 1px 2px rgba(60, 64, 67, 0.3), 0 1px 3px 1px rgba(60, 64, 67, 0.15);\n",
              "    fill: var(--button-hover-fill-color);\n",
              "  }\n",
              "\n",
              "  .colab-df-quickchart-complete:disabled,\n",
              "  .colab-df-quickchart-complete:disabled:hover {\n",
              "    background-color: var(--disabled-bg-color);\n",
              "    fill: var(--disabled-fill-color);\n",
              "    box-shadow: none;\n",
              "  }\n",
              "\n",
              "  .colab-df-spinner {\n",
              "    border: 2px solid var(--fill-color);\n",
              "    border-color: transparent;\n",
              "    border-bottom-color: var(--fill-color);\n",
              "    animation:\n",
              "      spin 1s steps(1) infinite;\n",
              "  }\n",
              "\n",
              "  @keyframes spin {\n",
              "    0% {\n",
              "      border-color: transparent;\n",
              "      border-bottom-color: var(--fill-color);\n",
              "      border-left-color: var(--fill-color);\n",
              "    }\n",
              "    20% {\n",
              "      border-color: transparent;\n",
              "      border-left-color: var(--fill-color);\n",
              "      border-top-color: var(--fill-color);\n",
              "    }\n",
              "    30% {\n",
              "      border-color: transparent;\n",
              "      border-left-color: var(--fill-color);\n",
              "      border-top-color: var(--fill-color);\n",
              "      border-right-color: var(--fill-color);\n",
              "    }\n",
              "    40% {\n",
              "      border-color: transparent;\n",
              "      border-right-color: var(--fill-color);\n",
              "      border-top-color: var(--fill-color);\n",
              "    }\n",
              "    60% {\n",
              "      border-color: transparent;\n",
              "      border-right-color: var(--fill-color);\n",
              "    }\n",
              "    80% {\n",
              "      border-color: transparent;\n",
              "      border-right-color: var(--fill-color);\n",
              "      border-bottom-color: var(--fill-color);\n",
              "    }\n",
              "    90% {\n",
              "      border-color: transparent;\n",
              "      border-bottom-color: var(--fill-color);\n",
              "    }\n",
              "  }\n",
              "</style>\n",
              "\n",
              "  <script>\n",
              "    async function quickchart(key) {\n",
              "      const quickchartButtonEl =\n",
              "        document.querySelector('#' + key + ' button');\n",
              "      quickchartButtonEl.disabled = true;  // To prevent multiple clicks.\n",
              "      quickchartButtonEl.classList.add('colab-df-spinner');\n",
              "      try {\n",
              "        const charts = await google.colab.kernel.invokeFunction(\n",
              "            'suggestCharts', [key], {});\n",
              "      } catch (error) {\n",
              "        console.error('Error during call to suggestCharts:', error);\n",
              "      }\n",
              "      quickchartButtonEl.classList.remove('colab-df-spinner');\n",
              "      quickchartButtonEl.classList.add('colab-df-quickchart-complete');\n",
              "    }\n",
              "    (() => {\n",
              "      let quickchartButtonEl =\n",
              "        document.querySelector('#df-b5b83cd2-1bf3-451e-b957-772748d1328c button');\n",
              "      quickchartButtonEl.style.display =\n",
              "        google.colab.kernel.accessAllowed ? 'block' : 'none';\n",
              "    })();\n",
              "  </script>\n",
              "</div>\n",
              "    </div>\n",
              "  </div>\n"
            ]
          },
          "metadata": {},
          "execution_count": 23
        }
      ]
    },
    {
      "cell_type": "markdown",
      "source": [
        "##**Análisis 1**\n",
        "**Variable dependiente:** inversión\n",
        "\n",
        "**Variables independientes:** precio, semana, edad_cliente"
      ],
      "metadata": {
        "id": "dO7GaCrlZcqG"
      }
    },
    {
      "cell_type": "code",
      "source": [
        "#Declaramos las variables dependientes e independientes para la regresión Logística\n",
        "Vars_Indep= df[['precio', 'semana', 'edad_cliente']]\n",
        "Var_Dep= df['inversion']"
      ],
      "metadata": {
        "id": "-A_sNTbz8jHB"
      },
      "execution_count": 72,
      "outputs": []
    },
    {
      "cell_type": "code",
      "source": [
        "#Redefinimos las variables\n",
        "X= Vars_Indep\n",
        "y= Var_Dep"
      ],
      "metadata": {
        "id": "lRPn9buv9FPj"
      },
      "execution_count": 73,
      "outputs": []
    },
    {
      "cell_type": "code",
      "source": [
        "#Dividimos el conjunto de datos en la parte de entrenamiento y prueba:\n",
        "X_train, X_test, y_train, y_test = train_test_split(X, y, test_size=0.3, random_state =None)"
      ],
      "metadata": {
        "id": "tG1wYacT9Qqc"
      },
      "execution_count": 74,
      "outputs": []
    },
    {
      "cell_type": "code",
      "source": [
        "#Se escalan todos los datos\n",
        "escalar = StandardScaler()"
      ],
      "metadata": {
        "id": "R85X4Bc4911M"
      },
      "execution_count": 75,
      "outputs": []
    },
    {
      "cell_type": "code",
      "source": [
        "#Para realizar el escalamiento de las variables “X” tanto de entrenamiento como de prueba, utilizaremos fit_transform\n",
        "X_train = escalar.fit_transform(X_train)\n",
        "X_test = escalar.transform(X_test)"
      ],
      "metadata": {
        "id": "FJ8YzI3x-CAz"
      },
      "execution_count": 76,
      "outputs": []
    },
    {
      "cell_type": "code",
      "source": [
        "#Definimos el algoritmo a utilizar\n",
        "from sklearn.linear_model import LogisticRegression\n",
        "algoritmo = LogisticRegression()"
      ],
      "metadata": {
        "id": "GRnSZiRw-ZNw"
      },
      "execution_count": 77,
      "outputs": []
    },
    {
      "cell_type": "code",
      "source": [
        "#Entrenamos el modelo\n",
        "algoritmo.fit(X_train, y_train)"
      ],
      "metadata": {
        "colab": {
          "base_uri": "https://localhost:8080/",
          "height": 75
        },
        "id": "9T58hUGt-sCt",
        "outputId": "949ceab9-8f74-4ee0-ce09-6e91d1f23aef"
      },
      "execution_count": 78,
      "outputs": [
        {
          "output_type": "execute_result",
          "data": {
            "text/plain": [
              "LogisticRegression()"
            ],
            "text/html": [
              "<style>#sk-container-id-4 {color: black;background-color: white;}#sk-container-id-4 pre{padding: 0;}#sk-container-id-4 div.sk-toggleable {background-color: white;}#sk-container-id-4 label.sk-toggleable__label {cursor: pointer;display: block;width: 100%;margin-bottom: 0;padding: 0.3em;box-sizing: border-box;text-align: center;}#sk-container-id-4 label.sk-toggleable__label-arrow:before {content: \"▸\";float: left;margin-right: 0.25em;color: #696969;}#sk-container-id-4 label.sk-toggleable__label-arrow:hover:before {color: black;}#sk-container-id-4 div.sk-estimator:hover label.sk-toggleable__label-arrow:before {color: black;}#sk-container-id-4 div.sk-toggleable__content {max-height: 0;max-width: 0;overflow: hidden;text-align: left;background-color: #f0f8ff;}#sk-container-id-4 div.sk-toggleable__content pre {margin: 0.2em;color: black;border-radius: 0.25em;background-color: #f0f8ff;}#sk-container-id-4 input.sk-toggleable__control:checked~div.sk-toggleable__content {max-height: 200px;max-width: 100%;overflow: auto;}#sk-container-id-4 input.sk-toggleable__control:checked~label.sk-toggleable__label-arrow:before {content: \"▾\";}#sk-container-id-4 div.sk-estimator input.sk-toggleable__control:checked~label.sk-toggleable__label {background-color: #d4ebff;}#sk-container-id-4 div.sk-label input.sk-toggleable__control:checked~label.sk-toggleable__label {background-color: #d4ebff;}#sk-container-id-4 input.sk-hidden--visually {border: 0;clip: rect(1px 1px 1px 1px);clip: rect(1px, 1px, 1px, 1px);height: 1px;margin: -1px;overflow: hidden;padding: 0;position: absolute;width: 1px;}#sk-container-id-4 div.sk-estimator {font-family: monospace;background-color: #f0f8ff;border: 1px dotted black;border-radius: 0.25em;box-sizing: border-box;margin-bottom: 0.5em;}#sk-container-id-4 div.sk-estimator:hover {background-color: #d4ebff;}#sk-container-id-4 div.sk-parallel-item::after {content: \"\";width: 100%;border-bottom: 1px solid gray;flex-grow: 1;}#sk-container-id-4 div.sk-label:hover label.sk-toggleable__label {background-color: #d4ebff;}#sk-container-id-4 div.sk-serial::before {content: \"\";position: absolute;border-left: 1px solid gray;box-sizing: border-box;top: 0;bottom: 0;left: 50%;z-index: 0;}#sk-container-id-4 div.sk-serial {display: flex;flex-direction: column;align-items: center;background-color: white;padding-right: 0.2em;padding-left: 0.2em;position: relative;}#sk-container-id-4 div.sk-item {position: relative;z-index: 1;}#sk-container-id-4 div.sk-parallel {display: flex;align-items: stretch;justify-content: center;background-color: white;position: relative;}#sk-container-id-4 div.sk-item::before, #sk-container-id-4 div.sk-parallel-item::before {content: \"\";position: absolute;border-left: 1px solid gray;box-sizing: border-box;top: 0;bottom: 0;left: 50%;z-index: -1;}#sk-container-id-4 div.sk-parallel-item {display: flex;flex-direction: column;z-index: 1;position: relative;background-color: white;}#sk-container-id-4 div.sk-parallel-item:first-child::after {align-self: flex-end;width: 50%;}#sk-container-id-4 div.sk-parallel-item:last-child::after {align-self: flex-start;width: 50%;}#sk-container-id-4 div.sk-parallel-item:only-child::after {width: 0;}#sk-container-id-4 div.sk-dashed-wrapped {border: 1px dashed gray;margin: 0 0.4em 0.5em 0.4em;box-sizing: border-box;padding-bottom: 0.4em;background-color: white;}#sk-container-id-4 div.sk-label label {font-family: monospace;font-weight: bold;display: inline-block;line-height: 1.2em;}#sk-container-id-4 div.sk-label-container {text-align: center;}#sk-container-id-4 div.sk-container {/* jupyter's `normalize.less` sets `[hidden] { display: none; }` but bootstrap.min.css set `[hidden] { display: none !important; }` so we also need the `!important` here to be able to override the default hidden behavior on the sphinx rendered scikit-learn.org. See: https://github.com/scikit-learn/scikit-learn/issues/21755 */display: inline-block !important;position: relative;}#sk-container-id-4 div.sk-text-repr-fallback {display: none;}</style><div id=\"sk-container-id-4\" class=\"sk-top-container\"><div class=\"sk-text-repr-fallback\"><pre>LogisticRegression()</pre><b>In a Jupyter environment, please rerun this cell to show the HTML representation or trust the notebook. <br />On GitHub, the HTML representation is unable to render, please try loading this page with nbviewer.org.</b></div><div class=\"sk-container\" hidden><div class=\"sk-item\"><div class=\"sk-estimator sk-toggleable\"><input class=\"sk-toggleable__control sk-hidden--visually\" id=\"sk-estimator-id-4\" type=\"checkbox\" checked><label for=\"sk-estimator-id-4\" class=\"sk-toggleable__label sk-toggleable__label-arrow\">LogisticRegression</label><div class=\"sk-toggleable__content\"><pre>LogisticRegression()</pre></div></div></div></div></div>"
            ]
          },
          "metadata": {},
          "execution_count": 78
        }
      ]
    },
    {
      "cell_type": "code",
      "source": [
        "#Realizamos una predicción\n",
        "y_pred = algoritmo.predict(X_test)\n",
        "y_pred"
      ],
      "metadata": {
        "colab": {
          "base_uri": "https://localhost:8080/"
        },
        "id": "lY4fAnq1_I5b",
        "outputId": "4cb3cf86-5155-4500-ffdb-96cca52287a8"
      },
      "execution_count": 79,
      "outputs": [
        {
          "output_type": "execute_result",
          "data": {
            "text/plain": [
              "array([0, 0, 0, ..., 0, 0, 0])"
            ]
          },
          "metadata": {},
          "execution_count": 79
        }
      ]
    },
    {
      "cell_type": "code",
      "source": [
        "#Verifico la matriz de Confusión\n",
        "from sklearn.metrics import confusion_matrix\n",
        "matriz = confusion_matrix(y_test, y_pred)\n",
        "print('Matriz de Confusión:')\n",
        "print(matriz)"
      ],
      "metadata": {
        "colab": {
          "base_uri": "https://localhost:8080/"
        },
        "id": "Wg2Z3U04_o61",
        "outputId": "495973c8-0764-471c-a389-05e9b9bc47f2"
      },
      "execution_count": 80,
      "outputs": [
        {
          "output_type": "stream",
          "name": "stdout",
          "text": [
            "Matriz de Confusión:\n",
            "[[5180    0]\n",
            " [1641    0]]\n"
          ]
        }
      ]
    },
    {
      "cell_type": "code",
      "source": [
        "#Evaluación\n",
        "precision1 = precision_score(y_test, y_pred, average=\"macro\", pos_label=\"yes\")\n",
        "print(f'Precisión del modelo: {precision1* 100:.2f}%')\n",
        "exactitud1 = accuracy_score(y_test, y_pred)\n",
        "print(f'Exactitud del modelo: {exactitud1* 100:.2f}%')\n",
        "sensibilidad1 = recall_score(y_test, y_pred, average=\"macro\", pos_label=\"yes\")\n",
        "print(f'Sensibilidad del modelo: {sensibilidad1* 100:.2f}%')\n",
        "puntajef11 = f1_score(y_test, y_pred, average=\"macro\", pos_label=\"yes\")\n",
        "print(f'Puntaje F1 del modelo: {puntajef11* 100:.2f}%')"
      ],
      "metadata": {
        "colab": {
          "base_uri": "https://localhost:8080/"
        },
        "id": "_mL-E66dBw7W",
        "outputId": "bf296df3-1e31-4d04-d174-2069b8e1ef17"
      },
      "execution_count": 81,
      "outputs": [
        {
          "output_type": "stream",
          "name": "stdout",
          "text": [
            "Precisión del modelo: 37.97%\n",
            "Exactitud del modelo: 75.94%\n",
            "Sensibilidad del modelo: 50.00%\n",
            "Puntaje F1 del modelo: 43.16%\n"
          ]
        },
        {
          "output_type": "stream",
          "name": "stderr",
          "text": [
            "/usr/local/lib/python3.10/dist-packages/sklearn/metrics/_classification.py:1396: UserWarning: Note that pos_label (set to 'yes') is ignored when average != 'binary' (got 'macro'). You may use labels=[pos_label] to specify a single positive class.\n",
            "  warnings.warn(\n",
            "/usr/local/lib/python3.10/dist-packages/sklearn/metrics/_classification.py:1344: UndefinedMetricWarning: Precision is ill-defined and being set to 0.0 in labels with no predicted samples. Use `zero_division` parameter to control this behavior.\n",
            "  _warn_prf(average, modifier, msg_start, len(result))\n",
            "/usr/local/lib/python3.10/dist-packages/sklearn/metrics/_classification.py:1396: UserWarning: Note that pos_label (set to 'yes') is ignored when average != 'binary' (got 'macro'). You may use labels=[pos_label] to specify a single positive class.\n",
            "  warnings.warn(\n",
            "/usr/local/lib/python3.10/dist-packages/sklearn/metrics/_classification.py:1396: UserWarning: Note that pos_label (set to 'yes') is ignored when average != 'binary' (got 'macro'). You may use labels=[pos_label] to specify a single positive class.\n",
            "  warnings.warn(\n"
          ]
        }
      ]
    },
    {
      "cell_type": "markdown",
      "source": [
        "##**Análisis 2**\n",
        "**Variable dependiente:** plazo\n",
        "\n",
        "**Variables independientes:** descuento, pagos_realizados, porc_eng"
      ],
      "metadata": {
        "id": "YaD-MctzsqJ3"
      }
    },
    {
      "cell_type": "code",
      "source": [
        "#Declaramos las variables dependientes e independientes para la regresión Logística\n",
        "Vars_Indep= df[['descuento', 'pagos_realizados', 'porc_eng']]\n",
        "Var_Dep= df['plazo']"
      ],
      "metadata": {
        "id": "AYR_V0v6sqKB"
      },
      "execution_count": 41,
      "outputs": []
    },
    {
      "cell_type": "code",
      "source": [
        "#Redefinimos las variables\n",
        "X= Vars_Indep\n",
        "y= Var_Dep"
      ],
      "metadata": {
        "id": "dSh2UEWpsqKB"
      },
      "execution_count": 42,
      "outputs": []
    },
    {
      "cell_type": "code",
      "source": [
        "#Dividimos el conjunto de datos en la parte de entrenamiento y prueba:\n",
        "X_train, X_test, y_train, y_test = train_test_split(X, y, test_size=0.3, random_state =None)"
      ],
      "metadata": {
        "id": "m0Zx0dfXsqKB"
      },
      "execution_count": 43,
      "outputs": []
    },
    {
      "cell_type": "code",
      "source": [
        "#Se escalan todos los datos\n",
        "escalar = StandardScaler()"
      ],
      "metadata": {
        "id": "yYedDmX8sqKB"
      },
      "execution_count": 44,
      "outputs": []
    },
    {
      "cell_type": "code",
      "source": [
        "#Para realizar el escalamiento de las variables “X” tanto de entrenamiento como de prueba, utilizaremos fit_transform\n",
        "X_train = escalar.fit_transform(X_train)\n",
        "X_test = escalar.transform(X_test)"
      ],
      "metadata": {
        "id": "XOwsAVjhsqKB"
      },
      "execution_count": 45,
      "outputs": []
    },
    {
      "cell_type": "code",
      "source": [
        "#Definimos el algoritmo a utilizar\n",
        "from sklearn.linear_model import LogisticRegression\n",
        "algoritmo = LogisticRegression()"
      ],
      "metadata": {
        "id": "2in6Yf1osqKC"
      },
      "execution_count": 46,
      "outputs": []
    },
    {
      "cell_type": "code",
      "source": [
        "#Entrenamos el modelo\n",
        "algoritmo.fit(X_train, y_train)"
      ],
      "metadata": {
        "colab": {
          "base_uri": "https://localhost:8080/",
          "height": 75
        },
        "outputId": "6e0b8fa3-db21-435d-f118-9ebecd193d52",
        "id": "Ulv2BPxQsqKC"
      },
      "execution_count": 47,
      "outputs": [
        {
          "output_type": "execute_result",
          "data": {
            "text/plain": [
              "LogisticRegression()"
            ],
            "text/html": [
              "<style>#sk-container-id-2 {color: black;background-color: white;}#sk-container-id-2 pre{padding: 0;}#sk-container-id-2 div.sk-toggleable {background-color: white;}#sk-container-id-2 label.sk-toggleable__label {cursor: pointer;display: block;width: 100%;margin-bottom: 0;padding: 0.3em;box-sizing: border-box;text-align: center;}#sk-container-id-2 label.sk-toggleable__label-arrow:before {content: \"▸\";float: left;margin-right: 0.25em;color: #696969;}#sk-container-id-2 label.sk-toggleable__label-arrow:hover:before {color: black;}#sk-container-id-2 div.sk-estimator:hover label.sk-toggleable__label-arrow:before {color: black;}#sk-container-id-2 div.sk-toggleable__content {max-height: 0;max-width: 0;overflow: hidden;text-align: left;background-color: #f0f8ff;}#sk-container-id-2 div.sk-toggleable__content pre {margin: 0.2em;color: black;border-radius: 0.25em;background-color: #f0f8ff;}#sk-container-id-2 input.sk-toggleable__control:checked~div.sk-toggleable__content {max-height: 200px;max-width: 100%;overflow: auto;}#sk-container-id-2 input.sk-toggleable__control:checked~label.sk-toggleable__label-arrow:before {content: \"▾\";}#sk-container-id-2 div.sk-estimator input.sk-toggleable__control:checked~label.sk-toggleable__label {background-color: #d4ebff;}#sk-container-id-2 div.sk-label input.sk-toggleable__control:checked~label.sk-toggleable__label {background-color: #d4ebff;}#sk-container-id-2 input.sk-hidden--visually {border: 0;clip: rect(1px 1px 1px 1px);clip: rect(1px, 1px, 1px, 1px);height: 1px;margin: -1px;overflow: hidden;padding: 0;position: absolute;width: 1px;}#sk-container-id-2 div.sk-estimator {font-family: monospace;background-color: #f0f8ff;border: 1px dotted black;border-radius: 0.25em;box-sizing: border-box;margin-bottom: 0.5em;}#sk-container-id-2 div.sk-estimator:hover {background-color: #d4ebff;}#sk-container-id-2 div.sk-parallel-item::after {content: \"\";width: 100%;border-bottom: 1px solid gray;flex-grow: 1;}#sk-container-id-2 div.sk-label:hover label.sk-toggleable__label {background-color: #d4ebff;}#sk-container-id-2 div.sk-serial::before {content: \"\";position: absolute;border-left: 1px solid gray;box-sizing: border-box;top: 0;bottom: 0;left: 50%;z-index: 0;}#sk-container-id-2 div.sk-serial {display: flex;flex-direction: column;align-items: center;background-color: white;padding-right: 0.2em;padding-left: 0.2em;position: relative;}#sk-container-id-2 div.sk-item {position: relative;z-index: 1;}#sk-container-id-2 div.sk-parallel {display: flex;align-items: stretch;justify-content: center;background-color: white;position: relative;}#sk-container-id-2 div.sk-item::before, #sk-container-id-2 div.sk-parallel-item::before {content: \"\";position: absolute;border-left: 1px solid gray;box-sizing: border-box;top: 0;bottom: 0;left: 50%;z-index: -1;}#sk-container-id-2 div.sk-parallel-item {display: flex;flex-direction: column;z-index: 1;position: relative;background-color: white;}#sk-container-id-2 div.sk-parallel-item:first-child::after {align-self: flex-end;width: 50%;}#sk-container-id-2 div.sk-parallel-item:last-child::after {align-self: flex-start;width: 50%;}#sk-container-id-2 div.sk-parallel-item:only-child::after {width: 0;}#sk-container-id-2 div.sk-dashed-wrapped {border: 1px dashed gray;margin: 0 0.4em 0.5em 0.4em;box-sizing: border-box;padding-bottom: 0.4em;background-color: white;}#sk-container-id-2 div.sk-label label {font-family: monospace;font-weight: bold;display: inline-block;line-height: 1.2em;}#sk-container-id-2 div.sk-label-container {text-align: center;}#sk-container-id-2 div.sk-container {/* jupyter's `normalize.less` sets `[hidden] { display: none; }` but bootstrap.min.css set `[hidden] { display: none !important; }` so we also need the `!important` here to be able to override the default hidden behavior on the sphinx rendered scikit-learn.org. See: https://github.com/scikit-learn/scikit-learn/issues/21755 */display: inline-block !important;position: relative;}#sk-container-id-2 div.sk-text-repr-fallback {display: none;}</style><div id=\"sk-container-id-2\" class=\"sk-top-container\"><div class=\"sk-text-repr-fallback\"><pre>LogisticRegression()</pre><b>In a Jupyter environment, please rerun this cell to show the HTML representation or trust the notebook. <br />On GitHub, the HTML representation is unable to render, please try loading this page with nbviewer.org.</b></div><div class=\"sk-container\" hidden><div class=\"sk-item\"><div class=\"sk-estimator sk-toggleable\"><input class=\"sk-toggleable__control sk-hidden--visually\" id=\"sk-estimator-id-2\" type=\"checkbox\" checked><label for=\"sk-estimator-id-2\" class=\"sk-toggleable__label sk-toggleable__label-arrow\">LogisticRegression</label><div class=\"sk-toggleable__content\"><pre>LogisticRegression()</pre></div></div></div></div></div>"
            ]
          },
          "metadata": {},
          "execution_count": 47
        }
      ]
    },
    {
      "cell_type": "code",
      "source": [
        "#Realizamos una predicción\n",
        "y_pred = algoritmo.predict(X_test)\n",
        "y_pred"
      ],
      "metadata": {
        "colab": {
          "base_uri": "https://localhost:8080/"
        },
        "outputId": "86ef65e4-e312-492f-8c59-a60782aabd01",
        "id": "GALUB-0wsqKC"
      },
      "execution_count": 48,
      "outputs": [
        {
          "output_type": "execute_result",
          "data": {
            "text/plain": [
              "array(['26S', '26S', '13S', ..., '26S', '26S', '26S'], dtype=object)"
            ]
          },
          "metadata": {},
          "execution_count": 48
        }
      ]
    },
    {
      "cell_type": "code",
      "source": [
        "#Verifico la matriz de Confusión\n",
        "from sklearn.metrics import confusion_matrix\n",
        "matriz = confusion_matrix(y_test, y_pred)\n",
        "print('Matriz de Confusión:')\n",
        "print(matriz)"
      ],
      "metadata": {
        "colab": {
          "base_uri": "https://localhost:8080/"
        },
        "outputId": "26b758c3-f3f4-4302-df66-e076875eb07b",
        "id": "QrL1w71vsqKC"
      },
      "execution_count": 49,
      "outputs": [
        {
          "output_type": "stream",
          "name": "stdout",
          "text": [
            "Matriz de Confusión:\n",
            "[[ 370 1533    9    0]\n",
            " [ 385 2774   31    0]\n",
            " [ 158 1412   16    0]\n",
            " [  12  119    2    0]]\n"
          ]
        }
      ]
    },
    {
      "cell_type": "code",
      "source": [
        "#Evaluación\n",
        "\n",
        "precision2 = precision_score(y_test, y_pred, average=\"macro\", pos_label=\"yes\")\n",
        "print(f'Precisión del modelo: {precision2* 100:.2f}%')\n",
        "exactitud2 = accuracy_score(y_test, y_pred)\n",
        "print(f'Exactitud del modelo: {exactitud2* 100:.2f}%')\n",
        "sensibilidad2 = recall_score(y_test, y_pred, average=\"macro\", pos_label=\"yes\")\n",
        "print(f'Sensibilidad del modelo: {sensibilidad2* 100:.2f}%')\n",
        "puntajef12 = f1_score(y_test, y_pred, average=\"macro\", pos_label=\"yes\")\n",
        "print(f'Puntaje F1 del modelo: {puntajef12* 100:.2f}%')"
      ],
      "metadata": {
        "colab": {
          "base_uri": "https://localhost:8080/"
        },
        "outputId": "1cc13bbd-e4fc-4f32-a47f-0a8d8e5eb2d8",
        "id": "GZ_F2ykdsqKC"
      },
      "execution_count": 68,
      "outputs": [
        {
          "output_type": "stream",
          "name": "stdout",
          "text": [
            "Precisión del modelo: 8.98%\n",
            "Exactitud del modelo: 44.51%\n",
            "Sensibilidad del modelo: 8.30%\n",
            "Puntaje F1 del modelo: 6.92%\n"
          ]
        },
        {
          "output_type": "stream",
          "name": "stderr",
          "text": [
            "/usr/local/lib/python3.10/dist-packages/sklearn/metrics/_classification.py:1396: UserWarning: Note that pos_label (set to 'yes') is ignored when average != 'binary' (got 'macro'). You may use labels=[pos_label] to specify a single positive class.\n",
            "  warnings.warn(\n",
            "/usr/local/lib/python3.10/dist-packages/sklearn/metrics/_classification.py:1344: UndefinedMetricWarning: Precision is ill-defined and being set to 0.0 in labels with no predicted samples. Use `zero_division` parameter to control this behavior.\n",
            "  _warn_prf(average, modifier, msg_start, len(result))\n",
            "/usr/local/lib/python3.10/dist-packages/sklearn/metrics/_classification.py:1396: UserWarning: Note that pos_label (set to 'yes') is ignored when average != 'binary' (got 'macro'). You may use labels=[pos_label] to specify a single positive class.\n",
            "  warnings.warn(\n",
            "/usr/local/lib/python3.10/dist-packages/sklearn/metrics/_classification.py:1396: UserWarning: Note that pos_label (set to 'yes') is ignored when average != 'binary' (got 'macro'). You may use labels=[pos_label] to specify a single positive class.\n",
            "  warnings.warn(\n"
          ]
        }
      ]
    },
    {
      "cell_type": "markdown",
      "source": [
        "## **Análisis 3**\n",
        "**Variable dependiente:** razones_buro\n",
        "\n",
        "**Variables independientes:** precio, descuento, limite_credito"
      ],
      "metadata": {
        "id": "bEU-vqeotmju"
      }
    },
    {
      "cell_type": "code",
      "source": [
        "#Declaramos las variables dependientes e independientes para la regresión Logística\n",
        "Vars_Indep= df[['descuento', 'precio', 'enganche']]\n",
        "Var_Dep= df['razones_buro']"
      ],
      "metadata": {
        "id": "Gth4H-Wntmj1"
      },
      "execution_count": 105,
      "outputs": []
    },
    {
      "cell_type": "code",
      "source": [
        "#Redefinimos las variables\n",
        "X= Vars_Indep\n",
        "y= Var_Dep"
      ],
      "metadata": {
        "id": "JUPMgb1ytmj1"
      },
      "execution_count": 106,
      "outputs": []
    },
    {
      "cell_type": "code",
      "source": [
        "#Dividimos el conjunto de datos en la parte de entrenamiento y prueba:\n",
        "X_train, X_test, y_train, y_test = train_test_split(X, y, test_size=0.3, random_state =None)"
      ],
      "metadata": {
        "id": "xnMjUOPvtmj1"
      },
      "execution_count": 107,
      "outputs": []
    },
    {
      "cell_type": "code",
      "source": [
        "#Se escalan todos los datos\n",
        "escalar = StandardScaler()"
      ],
      "metadata": {
        "id": "dYdDF-Lutmj1"
      },
      "execution_count": 108,
      "outputs": []
    },
    {
      "cell_type": "code",
      "source": [
        "#Para realizar el escalamiento de las variables “X” tanto de entrenamiento como de prueba, utilizaremos fit_transform\n",
        "X_train = escalar.fit_transform(X_train)\n",
        "X_test = escalar.transform(X_test)"
      ],
      "metadata": {
        "id": "IMlhSKEMtmj1"
      },
      "execution_count": 109,
      "outputs": []
    },
    {
      "cell_type": "code",
      "source": [
        "#Definimos el algoritmo a utilizar\n",
        "from sklearn.linear_model import LogisticRegression\n",
        "algoritmo = LogisticRegression()"
      ],
      "metadata": {
        "id": "mRnFTFGAtmj2"
      },
      "execution_count": 110,
      "outputs": []
    },
    {
      "cell_type": "code",
      "source": [
        "#Entrenamos el modelo\n",
        "algoritmo.fit(X_train, y_train)"
      ],
      "metadata": {
        "colab": {
          "base_uri": "https://localhost:8080/",
          "height": 234
        },
        "outputId": "8fe5c2db-a90e-4521-f6cd-db2d35f7717f",
        "id": "PESDchNdtmj2"
      },
      "execution_count": 111,
      "outputs": [
        {
          "output_type": "stream",
          "name": "stderr",
          "text": [
            "/usr/local/lib/python3.10/dist-packages/sklearn/linear_model/_logistic.py:458: ConvergenceWarning: lbfgs failed to converge (status=1):\n",
            "STOP: TOTAL NO. of ITERATIONS REACHED LIMIT.\n",
            "\n",
            "Increase the number of iterations (max_iter) or scale the data as shown in:\n",
            "    https://scikit-learn.org/stable/modules/preprocessing.html\n",
            "Please also refer to the documentation for alternative solver options:\n",
            "    https://scikit-learn.org/stable/modules/linear_model.html#logistic-regression\n",
            "  n_iter_i = _check_optimize_result(\n"
          ]
        },
        {
          "output_type": "execute_result",
          "data": {
            "text/plain": [
              "LogisticRegression()"
            ],
            "text/html": [
              "<style>#sk-container-id-7 {color: black;background-color: white;}#sk-container-id-7 pre{padding: 0;}#sk-container-id-7 div.sk-toggleable {background-color: white;}#sk-container-id-7 label.sk-toggleable__label {cursor: pointer;display: block;width: 100%;margin-bottom: 0;padding: 0.3em;box-sizing: border-box;text-align: center;}#sk-container-id-7 label.sk-toggleable__label-arrow:before {content: \"▸\";float: left;margin-right: 0.25em;color: #696969;}#sk-container-id-7 label.sk-toggleable__label-arrow:hover:before {color: black;}#sk-container-id-7 div.sk-estimator:hover label.sk-toggleable__label-arrow:before {color: black;}#sk-container-id-7 div.sk-toggleable__content {max-height: 0;max-width: 0;overflow: hidden;text-align: left;background-color: #f0f8ff;}#sk-container-id-7 div.sk-toggleable__content pre {margin: 0.2em;color: black;border-radius: 0.25em;background-color: #f0f8ff;}#sk-container-id-7 input.sk-toggleable__control:checked~div.sk-toggleable__content {max-height: 200px;max-width: 100%;overflow: auto;}#sk-container-id-7 input.sk-toggleable__control:checked~label.sk-toggleable__label-arrow:before {content: \"▾\";}#sk-container-id-7 div.sk-estimator input.sk-toggleable__control:checked~label.sk-toggleable__label {background-color: #d4ebff;}#sk-container-id-7 div.sk-label input.sk-toggleable__control:checked~label.sk-toggleable__label {background-color: #d4ebff;}#sk-container-id-7 input.sk-hidden--visually {border: 0;clip: rect(1px 1px 1px 1px);clip: rect(1px, 1px, 1px, 1px);height: 1px;margin: -1px;overflow: hidden;padding: 0;position: absolute;width: 1px;}#sk-container-id-7 div.sk-estimator {font-family: monospace;background-color: #f0f8ff;border: 1px dotted black;border-radius: 0.25em;box-sizing: border-box;margin-bottom: 0.5em;}#sk-container-id-7 div.sk-estimator:hover {background-color: #d4ebff;}#sk-container-id-7 div.sk-parallel-item::after {content: \"\";width: 100%;border-bottom: 1px solid gray;flex-grow: 1;}#sk-container-id-7 div.sk-label:hover label.sk-toggleable__label {background-color: #d4ebff;}#sk-container-id-7 div.sk-serial::before {content: \"\";position: absolute;border-left: 1px solid gray;box-sizing: border-box;top: 0;bottom: 0;left: 50%;z-index: 0;}#sk-container-id-7 div.sk-serial {display: flex;flex-direction: column;align-items: center;background-color: white;padding-right: 0.2em;padding-left: 0.2em;position: relative;}#sk-container-id-7 div.sk-item {position: relative;z-index: 1;}#sk-container-id-7 div.sk-parallel {display: flex;align-items: stretch;justify-content: center;background-color: white;position: relative;}#sk-container-id-7 div.sk-item::before, #sk-container-id-7 div.sk-parallel-item::before {content: \"\";position: absolute;border-left: 1px solid gray;box-sizing: border-box;top: 0;bottom: 0;left: 50%;z-index: -1;}#sk-container-id-7 div.sk-parallel-item {display: flex;flex-direction: column;z-index: 1;position: relative;background-color: white;}#sk-container-id-7 div.sk-parallel-item:first-child::after {align-self: flex-end;width: 50%;}#sk-container-id-7 div.sk-parallel-item:last-child::after {align-self: flex-start;width: 50%;}#sk-container-id-7 div.sk-parallel-item:only-child::after {width: 0;}#sk-container-id-7 div.sk-dashed-wrapped {border: 1px dashed gray;margin: 0 0.4em 0.5em 0.4em;box-sizing: border-box;padding-bottom: 0.4em;background-color: white;}#sk-container-id-7 div.sk-label label {font-family: monospace;font-weight: bold;display: inline-block;line-height: 1.2em;}#sk-container-id-7 div.sk-label-container {text-align: center;}#sk-container-id-7 div.sk-container {/* jupyter's `normalize.less` sets `[hidden] { display: none; }` but bootstrap.min.css set `[hidden] { display: none !important; }` so we also need the `!important` here to be able to override the default hidden behavior on the sphinx rendered scikit-learn.org. See: https://github.com/scikit-learn/scikit-learn/issues/21755 */display: inline-block !important;position: relative;}#sk-container-id-7 div.sk-text-repr-fallback {display: none;}</style><div id=\"sk-container-id-7\" class=\"sk-top-container\"><div class=\"sk-text-repr-fallback\"><pre>LogisticRegression()</pre><b>In a Jupyter environment, please rerun this cell to show the HTML representation or trust the notebook. <br />On GitHub, the HTML representation is unable to render, please try loading this page with nbviewer.org.</b></div><div class=\"sk-container\" hidden><div class=\"sk-item\"><div class=\"sk-estimator sk-toggleable\"><input class=\"sk-toggleable__control sk-hidden--visually\" id=\"sk-estimator-id-7\" type=\"checkbox\" checked><label for=\"sk-estimator-id-7\" class=\"sk-toggleable__label sk-toggleable__label-arrow\">LogisticRegression</label><div class=\"sk-toggleable__content\"><pre>LogisticRegression()</pre></div></div></div></div></div>"
            ]
          },
          "metadata": {},
          "execution_count": 111
        }
      ]
    },
    {
      "cell_type": "code",
      "source": [
        "#Realizamos una predicción\n",
        "y_pred = algoritmo.predict(X_test)\n",
        "y_pred"
      ],
      "metadata": {
        "colab": {
          "base_uri": "https://localhost:8080/"
        },
        "outputId": "14abce90-b96d-4bfc-95b8-57129b878ef9",
        "id": "O8BR5Woctmj2"
      },
      "execution_count": 112,
      "outputs": [
        {
          "output_type": "execute_result",
          "data": {
            "text/plain": [
              "array(['C4', 'C4', 'C4', ..., 'C4', 'C4', 'C4'], dtype=object)"
            ]
          },
          "metadata": {},
          "execution_count": 112
        }
      ]
    },
    {
      "cell_type": "code",
      "source": [
        "#Verifico la matriz de Confusión\n",
        "from sklearn.metrics import confusion_matrix\n",
        "matriz = confusion_matrix(y_test, y_pred)\n",
        "print('Matriz de Confusión:')\n",
        "print(matriz)"
      ],
      "metadata": {
        "colab": {
          "base_uri": "https://localhost:8080/"
        },
        "outputId": "9d51e4e5-24a4-4e1e-bf65-f971f80a9063",
        "id": "atMB5anItmj2"
      },
      "execution_count": 113,
      "outputs": [
        {
          "output_type": "stream",
          "name": "stdout",
          "text": [
            "Matriz de Confusión:\n",
            "[[0 0 0 ... 0 0 0]\n",
            " [0 0 0 ... 0 0 0]\n",
            " [0 0 0 ... 0 0 0]\n",
            " ...\n",
            " [0 0 0 ... 0 0 0]\n",
            " [0 0 0 ... 0 0 0]\n",
            " [0 0 0 ... 0 0 0]]\n"
          ]
        }
      ]
    },
    {
      "cell_type": "code",
      "source": [
        "#Evaluación\n",
        "precision3 = precision_score(y_test, y_pred, average=\"macro\", pos_label=\"yes\")\n",
        "print(f'Precisión del modelo: {precision3* 100:.2f}%')\n",
        "exactitud3 = accuracy_score(y_test, y_pred)\n",
        "print(f'Exactitud del modelo: {exactitud3* 100:.2f}%')\n",
        "sensibilidad3 = recall_score(y_test, y_pred, average=\"macro\", pos_label=\"yes\")\n",
        "print(f'Sensibilidad del modelo: {sensibilidad3* 100:.2f}%')\n",
        "puntajef13 = f1_score(y_test, y_pred, average=\"macro\", pos_label=\"yes\")\n",
        "print(f'Puntaje F1 del modelo: {puntajef13* 100:.2f}%')"
      ],
      "metadata": {
        "colab": {
          "base_uri": "https://localhost:8080/"
        },
        "outputId": "2614abcd-ac84-4c34-c83e-d919d5883617",
        "id": "iOY9FZQjtmj2"
      },
      "execution_count": 114,
      "outputs": [
        {
          "output_type": "stream",
          "name": "stderr",
          "text": [
            "/usr/local/lib/python3.10/dist-packages/sklearn/metrics/_classification.py:1396: UserWarning: Note that pos_label (set to 'yes') is ignored when average != 'binary' (got 'macro'). You may use labels=[pos_label] to specify a single positive class.\n",
            "  warnings.warn(\n",
            "/usr/local/lib/python3.10/dist-packages/sklearn/metrics/_classification.py:1344: UndefinedMetricWarning: Precision is ill-defined and being set to 0.0 in labels with no predicted samples. Use `zero_division` parameter to control this behavior.\n",
            "  _warn_prf(average, modifier, msg_start, len(result))\n",
            "/usr/local/lib/python3.10/dist-packages/sklearn/metrics/_classification.py:1396: UserWarning: Note that pos_label (set to 'yes') is ignored when average != 'binary' (got 'macro'). You may use labels=[pos_label] to specify a single positive class.\n",
            "  warnings.warn(\n"
          ]
        },
        {
          "output_type": "stream",
          "name": "stdout",
          "text": [
            "Precisión del modelo: 0.11%\n",
            "Exactitud del modelo: 30.96%\n",
            "Sensibilidad del modelo: 0.20%\n",
            "Puntaje F1 del modelo: 0.13%\n"
          ]
        },
        {
          "output_type": "stream",
          "name": "stderr",
          "text": [
            "/usr/local/lib/python3.10/dist-packages/sklearn/metrics/_classification.py:1396: UserWarning: Note that pos_label (set to 'yes') is ignored when average != 'binary' (got 'macro'). You may use labels=[pos_label] to specify a single positive class.\n",
            "  warnings.warn(\n"
          ]
        }
      ]
    },
    {
      "cell_type": "code",
      "source": [
        "#Calculo la exactitud del modelo\n",
        "from sklearn.metrics import accuracy_score\n",
        "\n",
        "exactitud3 = accuracy_score(y_test, y_pred)\n",
        "print('Exactitud del modelo:')\n",
        "print(exactitud3)"
      ],
      "metadata": {
        "colab": {
          "base_uri": "https://localhost:8080/"
        },
        "outputId": "0d7b0e51-6e3e-42b6-a1f7-c7b28322cd5b",
        "id": "ZlM9xyAWtmj2"
      },
      "execution_count": 115,
      "outputs": [
        {
          "output_type": "stream",
          "name": "stdout",
          "text": [
            "Exactitud del modelo:\n",
            "0.3096320187655769\n"
          ]
        }
      ]
    },
    {
      "cell_type": "code",
      "source": [
        "#Calculo la sensibilidad del modelo\n",
        "from sklearn.metrics import recall_score\n",
        "\n",
        "sensibilidad3 = recall_score(y_test, y_pred, average=\"macro\", pos_label=\"yes\")\n",
        "print('Sensibilidad del modelo:')\n",
        "print(sensibilidad3)"
      ],
      "metadata": {
        "colab": {
          "base_uri": "https://localhost:8080/"
        },
        "outputId": "f74c8235-e831-40fe-c41c-912bc8417ca9",
        "id": "7qPZb9fTtmj2"
      },
      "execution_count": 116,
      "outputs": [
        {
          "output_type": "stream",
          "name": "stdout",
          "text": [
            "Sensibilidad del modelo:\n",
            "0.0019746956347645945\n"
          ]
        },
        {
          "output_type": "stream",
          "name": "stderr",
          "text": [
            "/usr/local/lib/python3.10/dist-packages/sklearn/metrics/_classification.py:1396: UserWarning: Note that pos_label (set to 'yes') is ignored when average != 'binary' (got 'macro'). You may use labels=[pos_label] to specify a single positive class.\n",
            "  warnings.warn(\n"
          ]
        }
      ]
    },
    {
      "cell_type": "code",
      "source": [
        "# el puntaje F1 que es una combinación entre la precisión y la sensibilidad, para esto importamos f1_score.\n",
        "#Calculo el Puntaje F1 del modelo\n",
        "from sklearn.metrics import f1_score\n",
        "puntajef13 = f1_score(y_test, y_pred, average=\"macro\", pos_label=\"yes\")\n",
        "print('Puntaje F1 del modelo:')\n",
        "print(puntajef13)"
      ],
      "metadata": {
        "colab": {
          "base_uri": "https://localhost:8080/"
        },
        "outputId": "d575bbe7-2c4f-4384-acd5-c0b55ccfcb38",
        "id": "q0iOX_jetmj3"
      },
      "execution_count": 117,
      "outputs": [
        {
          "output_type": "stream",
          "name": "stderr",
          "text": [
            "/usr/local/lib/python3.10/dist-packages/sklearn/metrics/_classification.py:1396: UserWarning: Note that pos_label (set to 'yes') is ignored when average != 'binary' (got 'macro'). You may use labels=[pos_label] to specify a single positive class.\n",
            "  warnings.warn(\n"
          ]
        },
        {
          "output_type": "stream",
          "name": "stdout",
          "text": [
            "Puntaje F1 del modelo:\n",
            "0.0012718276963912365\n"
          ]
        }
      ]
    },
    {
      "cell_type": "markdown",
      "source": [
        "##**Análisis 4**\n",
        "**Variable dependiente:** marca\n",
        "\n",
        "**Variables independientes:** descuento, enganche, precio"
      ],
      "metadata": {
        "id": "9Ee2-bbJyFm1"
      }
    },
    {
      "cell_type": "code",
      "source": [
        "#Declaramos las variables dependientes e independientes para la regresión Logística\n",
        "Vars_Indep= df[['descuento', 'enganche', 'precio']]\n",
        "Var_Dep= df['marca']"
      ],
      "metadata": {
        "id": "gKcZYCAgyFm1"
      },
      "execution_count": 118,
      "outputs": []
    },
    {
      "cell_type": "code",
      "source": [
        "#Redefinimos las variables\n",
        "X= Vars_Indep\n",
        "y= Var_Dep"
      ],
      "metadata": {
        "id": "qPspH5YvyFm1"
      },
      "execution_count": 119,
      "outputs": []
    },
    {
      "cell_type": "code",
      "source": [
        "#Dividimos el conjunto de datos en la parte de entrenamiento y prueba:\n",
        "X_train, X_test, y_train, y_test = train_test_split(X, y, test_size=0.3, random_state =None)"
      ],
      "metadata": {
        "id": "zE1po88KyFm1"
      },
      "execution_count": 120,
      "outputs": []
    },
    {
      "cell_type": "code",
      "source": [
        "#Se escalan todos los datos\n",
        "escalar = StandardScaler()"
      ],
      "metadata": {
        "id": "88u480iSyFm1"
      },
      "execution_count": 121,
      "outputs": []
    },
    {
      "cell_type": "code",
      "source": [
        "#Para realizar el escalamiento de las variables “X” tanto de entrenamiento como de prueba, utilizaremos fit_transform\n",
        "X_train = escalar.fit_transform(X_train)\n",
        "X_test = escalar.transform(X_test)"
      ],
      "metadata": {
        "id": "E8YTR9XqyFm2"
      },
      "execution_count": 122,
      "outputs": []
    },
    {
      "cell_type": "code",
      "source": [
        "#Definimos el algoritmo a utilizar\n",
        "from sklearn.linear_model import LogisticRegression\n",
        "algoritmo = LogisticRegression()"
      ],
      "metadata": {
        "id": "Hv6n-IX2yFm2"
      },
      "execution_count": 123,
      "outputs": []
    },
    {
      "cell_type": "code",
      "source": [
        "#Entrenamos el modelo\n",
        "algoritmo.fit(X_train, y_train)"
      ],
      "metadata": {
        "colab": {
          "base_uri": "https://localhost:8080/",
          "height": 234
        },
        "outputId": "9f24a7c3-b5b1-471e-accc-6254b4005508",
        "id": "i1hH2sPJyFm2"
      },
      "execution_count": 124,
      "outputs": [
        {
          "output_type": "stream",
          "name": "stderr",
          "text": [
            "/usr/local/lib/python3.10/dist-packages/sklearn/linear_model/_logistic.py:458: ConvergenceWarning: lbfgs failed to converge (status=1):\n",
            "STOP: TOTAL NO. of ITERATIONS REACHED LIMIT.\n",
            "\n",
            "Increase the number of iterations (max_iter) or scale the data as shown in:\n",
            "    https://scikit-learn.org/stable/modules/preprocessing.html\n",
            "Please also refer to the documentation for alternative solver options:\n",
            "    https://scikit-learn.org/stable/modules/linear_model.html#logistic-regression\n",
            "  n_iter_i = _check_optimize_result(\n"
          ]
        },
        {
          "output_type": "execute_result",
          "data": {
            "text/plain": [
              "LogisticRegression()"
            ],
            "text/html": [
              "<style>#sk-container-id-8 {color: black;background-color: white;}#sk-container-id-8 pre{padding: 0;}#sk-container-id-8 div.sk-toggleable {background-color: white;}#sk-container-id-8 label.sk-toggleable__label {cursor: pointer;display: block;width: 100%;margin-bottom: 0;padding: 0.3em;box-sizing: border-box;text-align: center;}#sk-container-id-8 label.sk-toggleable__label-arrow:before {content: \"▸\";float: left;margin-right: 0.25em;color: #696969;}#sk-container-id-8 label.sk-toggleable__label-arrow:hover:before {color: black;}#sk-container-id-8 div.sk-estimator:hover label.sk-toggleable__label-arrow:before {color: black;}#sk-container-id-8 div.sk-toggleable__content {max-height: 0;max-width: 0;overflow: hidden;text-align: left;background-color: #f0f8ff;}#sk-container-id-8 div.sk-toggleable__content pre {margin: 0.2em;color: black;border-radius: 0.25em;background-color: #f0f8ff;}#sk-container-id-8 input.sk-toggleable__control:checked~div.sk-toggleable__content {max-height: 200px;max-width: 100%;overflow: auto;}#sk-container-id-8 input.sk-toggleable__control:checked~label.sk-toggleable__label-arrow:before {content: \"▾\";}#sk-container-id-8 div.sk-estimator input.sk-toggleable__control:checked~label.sk-toggleable__label {background-color: #d4ebff;}#sk-container-id-8 div.sk-label input.sk-toggleable__control:checked~label.sk-toggleable__label {background-color: #d4ebff;}#sk-container-id-8 input.sk-hidden--visually {border: 0;clip: rect(1px 1px 1px 1px);clip: rect(1px, 1px, 1px, 1px);height: 1px;margin: -1px;overflow: hidden;padding: 0;position: absolute;width: 1px;}#sk-container-id-8 div.sk-estimator {font-family: monospace;background-color: #f0f8ff;border: 1px dotted black;border-radius: 0.25em;box-sizing: border-box;margin-bottom: 0.5em;}#sk-container-id-8 div.sk-estimator:hover {background-color: #d4ebff;}#sk-container-id-8 div.sk-parallel-item::after {content: \"\";width: 100%;border-bottom: 1px solid gray;flex-grow: 1;}#sk-container-id-8 div.sk-label:hover label.sk-toggleable__label {background-color: #d4ebff;}#sk-container-id-8 div.sk-serial::before {content: \"\";position: absolute;border-left: 1px solid gray;box-sizing: border-box;top: 0;bottom: 0;left: 50%;z-index: 0;}#sk-container-id-8 div.sk-serial {display: flex;flex-direction: column;align-items: center;background-color: white;padding-right: 0.2em;padding-left: 0.2em;position: relative;}#sk-container-id-8 div.sk-item {position: relative;z-index: 1;}#sk-container-id-8 div.sk-parallel {display: flex;align-items: stretch;justify-content: center;background-color: white;position: relative;}#sk-container-id-8 div.sk-item::before, #sk-container-id-8 div.sk-parallel-item::before {content: \"\";position: absolute;border-left: 1px solid gray;box-sizing: border-box;top: 0;bottom: 0;left: 50%;z-index: -1;}#sk-container-id-8 div.sk-parallel-item {display: flex;flex-direction: column;z-index: 1;position: relative;background-color: white;}#sk-container-id-8 div.sk-parallel-item:first-child::after {align-self: flex-end;width: 50%;}#sk-container-id-8 div.sk-parallel-item:last-child::after {align-self: flex-start;width: 50%;}#sk-container-id-8 div.sk-parallel-item:only-child::after {width: 0;}#sk-container-id-8 div.sk-dashed-wrapped {border: 1px dashed gray;margin: 0 0.4em 0.5em 0.4em;box-sizing: border-box;padding-bottom: 0.4em;background-color: white;}#sk-container-id-8 div.sk-label label {font-family: monospace;font-weight: bold;display: inline-block;line-height: 1.2em;}#sk-container-id-8 div.sk-label-container {text-align: center;}#sk-container-id-8 div.sk-container {/* jupyter's `normalize.less` sets `[hidden] { display: none; }` but bootstrap.min.css set `[hidden] { display: none !important; }` so we also need the `!important` here to be able to override the default hidden behavior on the sphinx rendered scikit-learn.org. See: https://github.com/scikit-learn/scikit-learn/issues/21755 */display: inline-block !important;position: relative;}#sk-container-id-8 div.sk-text-repr-fallback {display: none;}</style><div id=\"sk-container-id-8\" class=\"sk-top-container\"><div class=\"sk-text-repr-fallback\"><pre>LogisticRegression()</pre><b>In a Jupyter environment, please rerun this cell to show the HTML representation or trust the notebook. <br />On GitHub, the HTML representation is unable to render, please try loading this page with nbviewer.org.</b></div><div class=\"sk-container\" hidden><div class=\"sk-item\"><div class=\"sk-estimator sk-toggleable\"><input class=\"sk-toggleable__control sk-hidden--visually\" id=\"sk-estimator-id-8\" type=\"checkbox\" checked><label for=\"sk-estimator-id-8\" class=\"sk-toggleable__label sk-toggleable__label-arrow\">LogisticRegression</label><div class=\"sk-toggleable__content\"><pre>LogisticRegression()</pre></div></div></div></div></div>"
            ]
          },
          "metadata": {},
          "execution_count": 124
        }
      ]
    },
    {
      "cell_type": "code",
      "source": [
        "#Realizamos una predicción\n",
        "y_pred = algoritmo.predict(X_test)\n",
        "y_pred"
      ],
      "metadata": {
        "colab": {
          "base_uri": "https://localhost:8080/"
        },
        "outputId": "d416874b-c77b-471f-ed2b-f88a2e098245",
        "id": "_JGuITREyFm2"
      },
      "execution_count": 125,
      "outputs": [
        {
          "output_type": "execute_result",
          "data": {
            "text/plain": [
              "array(['Samsung', 'Samsung', 'Samsung', ..., 'Samsung', 'Samsung',\n",
              "       'Samsung'], dtype=object)"
            ]
          },
          "metadata": {},
          "execution_count": 125
        }
      ]
    },
    {
      "cell_type": "code",
      "source": [
        "#Verifico la matriz de Confusión\n",
        "from sklearn.metrics import confusion_matrix\n",
        "matriz = confusion_matrix(y_test, y_pred)\n",
        "print('Matriz de Confusión:')\n",
        "print(matriz)"
      ],
      "metadata": {
        "colab": {
          "base_uri": "https://localhost:8080/"
        },
        "outputId": "44adead4-154a-429e-b4db-b3b8fa3d05ff",
        "id": "_98HLUt8yFm2"
      },
      "execution_count": 126,
      "outputs": [
        {
          "output_type": "stream",
          "name": "stdout",
          "text": [
            "Matriz de Confusión:\n",
            "[[   0    0    0    0    0    0    0    0    0    0    0    0    0    0\n",
            "     0   29    0    0    0    0    0    0   45]\n",
            " [   0    0    0    0    0    0    0    0    0    0    0    1    0    0\n",
            "     0    9    0    0    0    0    0    0   17]\n",
            " [   0    0    0    0    0    0    0    0    0    0    0    0    0    0\n",
            "     0    0    0    0    0    0    0    0    1]\n",
            " [   0    0    0    0    0    0    0    0    0    0    0    0    0    0\n",
            "     0   36    0    0    1    0    0    0   37]\n",
            " [   0    0    0    0    0    0    0    0    0    0    0    1    0    0\n",
            "     3  106    0    0    2    0    0    0   26]\n",
            " [   0    0    0    0    0    0    0    0    0    0    0    0    0    0\n",
            "     0    0    0    0    0    0    0    0    1]\n",
            " [   0    0    0    0    0    0    0    0    0    0    0    0    0    0\n",
            "     0    0    0    0    0    0    0    0    2]\n",
            " [   0    0    0    0    0    0    0    0    0    0    0    0    0    0\n",
            "     0    6    0    0    0    0    0    0    2]\n",
            " [   0    0    0    0    0    0    0    0    0    0    0    1    0    0\n",
            "     0    6    0    0    1    0    0    0   20]\n",
            " [   0    0    0    0    0    0    0    0    0   46    0    3    0    0\n",
            "    15  861    0    0    0    0    0    0    2]\n",
            " [   0    0    0    0    0    0    0    0    0   29    0    2    0    0\n",
            "    11  431    0    0    0    0    0    0    1]\n",
            " [   0    0    0    0    0    0    0    0    0    1    0    2    0    0\n",
            "     7  226    0    0    1    0    0    0   82]\n",
            " [   0    0    0    0    0    0    0    0    0    0    0    0    0    0\n",
            "     0    0    0    0    0    0    0    0    2]\n",
            " [   0    0    0    0    0    0    0    0    0    0    0    1    0    0\n",
            "     0   55    0    0    0    0    0    0   19]\n",
            " [   0    0    0    0    0    0    0    0    0   33    0    8    0    0\n",
            "    27  965    0    0    0    0    0    0   42]\n",
            " [   0    0    0    0    0    0    0    0    0   48    0   14    0    0\n",
            "    26 2526    0    0    2    0    0    0   87]\n",
            " [   0    0    0    0    0    0    0    0    0    1    0    1    0    0\n",
            "     1   23    0    0    0    0    0    0    2]\n",
            " [   0    0    0    0    0    0    0    0    0    0    0    0    0    0\n",
            "     0    1    0    0    0    0    0    0    0]\n",
            " [   0    0    0    0    0    0    0    0    0    0    0    0    0    0\n",
            "     0  134    0    0   37    0    0    0   67]\n",
            " [   0    0    0    0    0    0    0    0    0    1    0    0    0    0\n",
            "     0   19    0    0    0    0    0    0    0]\n",
            " [   0    0    0    0    0    0    0    0    0    1    0    0    0    0\n",
            "     1   17    0    0    0    0    0    0    0]\n",
            " [   0    0    0    0    0    0    0    0    0    0    0    0    0    0\n",
            "     0    2    0    0    0    0    0    0    0]\n",
            " [   0    0    0    0    0    0    0    0    0    0    0    1    0    0\n",
            "     1  126    0    0   25    0    0    0  432]]\n"
          ]
        }
      ]
    },
    {
      "cell_type": "code",
      "source": [
        "#Evaluación\n",
        "precision4 = precision_score(y_test, y_pred, average=\"macro\", pos_label=\"yes\")\n",
        "print(f'Precisión del modelo: {precision4* 100:.2f}%')\n",
        "exactitud4 = accuracy_score(y_test, y_pred)\n",
        "print(f'Exactitud del modelo: {exactitud4* 100:.2f}%')\n",
        "sensibilidad4 = recall_score(y_test, y_pred, average=\"macro\", pos_label=\"yes\")\n",
        "print(f'Sensibilidad del modelo: {sensibilidad4* 100:.2f}%')\n",
        "puntajef14 = f1_score(y_test, y_pred, average=\"macro\", pos_label=\"yes\")\n",
        "print(f'Puntaje F1 del modelo: {puntajef14* 100:.2f}%')"
      ],
      "metadata": {
        "colab": {
          "base_uri": "https://localhost:8080/"
        },
        "outputId": "1d56a246-830d-4fbf-e9c2-6b59e8e10794",
        "id": "A1g0O36qyFm2"
      },
      "execution_count": 127,
      "outputs": [
        {
          "output_type": "stream",
          "name": "stderr",
          "text": [
            "/usr/local/lib/python3.10/dist-packages/sklearn/metrics/_classification.py:1396: UserWarning: Note that pos_label (set to 'yes') is ignored when average != 'binary' (got 'macro'). You may use labels=[pos_label] to specify a single positive class.\n",
            "  warnings.warn(\n",
            "/usr/local/lib/python3.10/dist-packages/sklearn/metrics/_classification.py:1344: UndefinedMetricWarning: Precision is ill-defined and being set to 0.0 in labels with no predicted samples. Use `zero_division` parameter to control this behavior.\n",
            "  _warn_prf(average, modifier, msg_start, len(result))\n",
            "/usr/local/lib/python3.10/dist-packages/sklearn/metrics/_classification.py:1396: UserWarning: Note that pos_label (set to 'yes') is ignored when average != 'binary' (got 'macro'). You may use labels=[pos_label] to specify a single positive class.\n",
            "  warnings.warn(\n",
            "/usr/local/lib/python3.10/dist-packages/sklearn/metrics/_classification.py:1396: UserWarning: Note that pos_label (set to 'yes') is ignored when average != 'binary' (got 'macro'). You may use labels=[pos_label] to specify a single positive class.\n",
            "  warnings.warn(\n"
          ]
        },
        {
          "output_type": "stream",
          "name": "stdout",
          "text": [
            "Precisión del modelo: 9.19%\n",
            "Exactitud del modelo: 45.01%\n",
            "Sensibilidad del modelo: 8.30%\n",
            "Puntaje F1 del modelo: 6.87%\n"
          ]
        }
      ]
    },
    {
      "cell_type": "markdown",
      "source": [
        "## **Análisis 5**\n",
        "**Variable dependiente:** empresa\n",
        "\n",
        "**Variables independientes:** porc_eng, monto_accesorios, precio"
      ],
      "metadata": {
        "id": "wXDXfMtG0ACd"
      }
    },
    {
      "cell_type": "code",
      "source": [
        "#Declaramos las variables dependientes e independientes para la regresión Logística\n",
        "Vars_Indep= df[['porc_eng', 'monto_accesorios', 'precio']]\n",
        "Var_Dep= df['empresa']"
      ],
      "metadata": {
        "id": "0kHJ11Xs0AC2"
      },
      "execution_count": null,
      "outputs": []
    },
    {
      "cell_type": "code",
      "source": [
        "#Redefinimos las variables\n",
        "X= Vars_Indep\n",
        "y= Var_Dep"
      ],
      "metadata": {
        "id": "7UFhuaFg0AC3"
      },
      "execution_count": null,
      "outputs": []
    },
    {
      "cell_type": "code",
      "source": [
        "#Dividimos el conjunto de datos en la parte de entrenamiento y prueba:\n",
        "X_train, X_test, y_train, y_test = train_test_split(X, y, test_size=0.3, random_state =None)"
      ],
      "metadata": {
        "id": "9RonGfY90AC3"
      },
      "execution_count": null,
      "outputs": []
    },
    {
      "cell_type": "code",
      "source": [
        "#Se escalan todos los datos\n",
        "escalar = StandardScaler()"
      ],
      "metadata": {
        "id": "jD93RPsl0AC3"
      },
      "execution_count": null,
      "outputs": []
    },
    {
      "cell_type": "code",
      "source": [
        "#Para realizar el escalamiento de las variables “X” tanto de entrenamiento como de prueba, utilizaremos fit_transform\n",
        "X_train = escalar.fit_transform(X_train)\n",
        "X_test = escalar.transform(X_test)"
      ],
      "metadata": {
        "id": "6bSAMvcl0AC4"
      },
      "execution_count": null,
      "outputs": []
    },
    {
      "cell_type": "code",
      "source": [
        "#Definimos el algoritmo a utilizar\n",
        "from sklearn.linear_model import LogisticRegression\n",
        "algoritmo = LogisticRegression()"
      ],
      "metadata": {
        "id": "p_NUrD6g0AC4"
      },
      "execution_count": null,
      "outputs": []
    },
    {
      "cell_type": "code",
      "source": [
        "#Entrenamos el modelo\n",
        "algoritmo.fit(X_train, y_train)"
      ],
      "metadata": {
        "colab": {
          "base_uri": "https://localhost:8080/",
          "height": 214
        },
        "outputId": "f9055166-a41b-469f-cd31-e10b97f03dee",
        "id": "kJQJ5P7t0AC4"
      },
      "execution_count": null,
      "outputs": [
        {
          "output_type": "stream",
          "name": "stderr",
          "text": [
            "/usr/local/lib/python3.10/dist-packages/sklearn/linear_model/_logistic.py:458: ConvergenceWarning: lbfgs failed to converge (status=1):\n",
            "STOP: TOTAL NO. of ITERATIONS REACHED LIMIT.\n",
            "\n",
            "Increase the number of iterations (max_iter) or scale the data as shown in:\n",
            "    https://scikit-learn.org/stable/modules/preprocessing.html\n",
            "Please also refer to the documentation for alternative solver options:\n",
            "    https://scikit-learn.org/stable/modules/linear_model.html#logistic-regression\n",
            "  n_iter_i = _check_optimize_result(\n"
          ]
        },
        {
          "output_type": "execute_result",
          "data": {
            "text/plain": [
              "LogisticRegression()"
            ],
            "text/html": [
              "<style>#sk-container-id-6 {color: black;background-color: white;}#sk-container-id-6 pre{padding: 0;}#sk-container-id-6 div.sk-toggleable {background-color: white;}#sk-container-id-6 label.sk-toggleable__label {cursor: pointer;display: block;width: 100%;margin-bottom: 0;padding: 0.3em;box-sizing: border-box;text-align: center;}#sk-container-id-6 label.sk-toggleable__label-arrow:before {content: \"▸\";float: left;margin-right: 0.25em;color: #696969;}#sk-container-id-6 label.sk-toggleable__label-arrow:hover:before {color: black;}#sk-container-id-6 div.sk-estimator:hover label.sk-toggleable__label-arrow:before {color: black;}#sk-container-id-6 div.sk-toggleable__content {max-height: 0;max-width: 0;overflow: hidden;text-align: left;background-color: #f0f8ff;}#sk-container-id-6 div.sk-toggleable__content pre {margin: 0.2em;color: black;border-radius: 0.25em;background-color: #f0f8ff;}#sk-container-id-6 input.sk-toggleable__control:checked~div.sk-toggleable__content {max-height: 200px;max-width: 100%;overflow: auto;}#sk-container-id-6 input.sk-toggleable__control:checked~label.sk-toggleable__label-arrow:before {content: \"▾\";}#sk-container-id-6 div.sk-estimator input.sk-toggleable__control:checked~label.sk-toggleable__label {background-color: #d4ebff;}#sk-container-id-6 div.sk-label input.sk-toggleable__control:checked~label.sk-toggleable__label {background-color: #d4ebff;}#sk-container-id-6 input.sk-hidden--visually {border: 0;clip: rect(1px 1px 1px 1px);clip: rect(1px, 1px, 1px, 1px);height: 1px;margin: -1px;overflow: hidden;padding: 0;position: absolute;width: 1px;}#sk-container-id-6 div.sk-estimator {font-family: monospace;background-color: #f0f8ff;border: 1px dotted black;border-radius: 0.25em;box-sizing: border-box;margin-bottom: 0.5em;}#sk-container-id-6 div.sk-estimator:hover {background-color: #d4ebff;}#sk-container-id-6 div.sk-parallel-item::after {content: \"\";width: 100%;border-bottom: 1px solid gray;flex-grow: 1;}#sk-container-id-6 div.sk-label:hover label.sk-toggleable__label {background-color: #d4ebff;}#sk-container-id-6 div.sk-serial::before {content: \"\";position: absolute;border-left: 1px solid gray;box-sizing: border-box;top: 0;bottom: 0;left: 50%;z-index: 0;}#sk-container-id-6 div.sk-serial {display: flex;flex-direction: column;align-items: center;background-color: white;padding-right: 0.2em;padding-left: 0.2em;position: relative;}#sk-container-id-6 div.sk-item {position: relative;z-index: 1;}#sk-container-id-6 div.sk-parallel {display: flex;align-items: stretch;justify-content: center;background-color: white;position: relative;}#sk-container-id-6 div.sk-item::before, #sk-container-id-6 div.sk-parallel-item::before {content: \"\";position: absolute;border-left: 1px solid gray;box-sizing: border-box;top: 0;bottom: 0;left: 50%;z-index: -1;}#sk-container-id-6 div.sk-parallel-item {display: flex;flex-direction: column;z-index: 1;position: relative;background-color: white;}#sk-container-id-6 div.sk-parallel-item:first-child::after {align-self: flex-end;width: 50%;}#sk-container-id-6 div.sk-parallel-item:last-child::after {align-self: flex-start;width: 50%;}#sk-container-id-6 div.sk-parallel-item:only-child::after {width: 0;}#sk-container-id-6 div.sk-dashed-wrapped {border: 1px dashed gray;margin: 0 0.4em 0.5em 0.4em;box-sizing: border-box;padding-bottom: 0.4em;background-color: white;}#sk-container-id-6 div.sk-label label {font-family: monospace;font-weight: bold;display: inline-block;line-height: 1.2em;}#sk-container-id-6 div.sk-label-container {text-align: center;}#sk-container-id-6 div.sk-container {/* jupyter's `normalize.less` sets `[hidden] { display: none; }` but bootstrap.min.css set `[hidden] { display: none !important; }` so we also need the `!important` here to be able to override the default hidden behavior on the sphinx rendered scikit-learn.org. See: https://github.com/scikit-learn/scikit-learn/issues/21755 */display: inline-block !important;position: relative;}#sk-container-id-6 div.sk-text-repr-fallback {display: none;}</style><div id=\"sk-container-id-6\" class=\"sk-top-container\"><div class=\"sk-text-repr-fallback\"><pre>LogisticRegression()</pre><b>In a Jupyter environment, please rerun this cell to show the HTML representation or trust the notebook. <br />On GitHub, the HTML representation is unable to render, please try loading this page with nbviewer.org.</b></div><div class=\"sk-container\" hidden><div class=\"sk-item\"><div class=\"sk-estimator sk-toggleable\"><input class=\"sk-toggleable__control sk-hidden--visually\" id=\"sk-estimator-id-6\" type=\"checkbox\" checked><label for=\"sk-estimator-id-6\" class=\"sk-toggleable__label sk-toggleable__label-arrow\">LogisticRegression</label><div class=\"sk-toggleable__content\"><pre>LogisticRegression()</pre></div></div></div></div></div>"
            ]
          },
          "metadata": {},
          "execution_count": 515
        }
      ]
    },
    {
      "cell_type": "code",
      "source": [
        "#Realizamos una predicción\n",
        "y_pred = algoritmo.predict(X_test)\n",
        "y_pred"
      ],
      "metadata": {
        "colab": {
          "base_uri": "https://localhost:8080/"
        },
        "outputId": "053815fa-21ad-49dc-f305-f9491b1093e5",
        "id": "vyLpxWqE0AC5"
      },
      "execution_count": null,
      "outputs": [
        {
          "output_type": "execute_result",
          "data": {
            "text/plain": [
              "array(['servicel', 'servicel', 'microtec', ..., 'microtec', 'microtec',\n",
              "       'microtec'], dtype=object)"
            ]
          },
          "metadata": {},
          "execution_count": 516
        }
      ]
    },
    {
      "cell_type": "code",
      "source": [
        "#Verifico la matriz de Confusión\n",
        "from sklearn.metrics import confusion_matrix\n",
        "matriz = confusion_matrix(y_test, y_pred)\n",
        "print('Matriz de Confusión:')\n",
        "print(matriz)"
      ],
      "metadata": {
        "colab": {
          "base_uri": "https://localhost:8080/"
        },
        "outputId": "41a5ec0f-baa7-47e9-8de1-da91140c05bd",
        "id": "Y-kTHUJD0AC5"
      },
      "execution_count": null,
      "outputs": [
        {
          "output_type": "stream",
          "name": "stdout",
          "text": [
            "Matriz de Confusión:\n",
            "[[0 0 0 ... 0 0 0]\n",
            " [0 0 0 ... 0 0 0]\n",
            " [0 0 0 ... 0 0 0]\n",
            " ...\n",
            " [0 0 0 ... 0 0 0]\n",
            " [0 0 0 ... 0 0 0]\n",
            " [0 0 0 ... 0 0 0]]\n"
          ]
        }
      ]
    },
    {
      "cell_type": "code",
      "source": [
        "#Evaluación\n",
        "precision5 = precision_score(y_test, y_pred, average=\"macro\", pos_label=\"yes\")\n",
        "print(f'Precisión del modelo: {precision5* 100:.2f}%')\n",
        "exactitud5 = accuracy_score(y_test, y_pred)\n",
        "print(f'Exactitud del modelo: {exactitud5* 100:.2f}%')\n",
        "sensibilidad5 = recall_score(y_test, y_pred, average=\"macro\", pos_label=\"yes\")\n",
        "print(f'Sensibilidad del modelo: {sensibilidad5* 100:.2f}%')\n",
        "puntajef15 = f1_score(y_test, y_pred, average=\"macro\", pos_label=\"yes\")\n",
        "print(f'Puntaje F1 del modelo: {puntajef15* 100:.2f}%')"
      ],
      "metadata": {
        "colab": {
          "base_uri": "https://localhost:8080/"
        },
        "outputId": "0f80ddbf-3ac3-4667-f237-72782f32540e",
        "id": "LugfUNWG0AC5"
      },
      "execution_count": 231,
      "outputs": [
        {
          "output_type": "stream",
          "name": "stdout",
          "text": [
            "Precisión del modelo: 0.02%\n",
            "Exactitud del modelo: 9.71%\n",
            "Sensibilidad del modelo: 0.10%\n",
            "Puntaje F1 del modelo: 0.02%\n"
          ]
        },
        {
          "output_type": "stream",
          "name": "stderr",
          "text": [
            "/usr/local/lib/python3.10/dist-packages/sklearn/metrics/_classification.py:1396: UserWarning: Note that pos_label (set to 'yes') is ignored when average != 'binary' (got 'macro'). You may use labels=[pos_label] to specify a single positive class.\n",
            "  warnings.warn(\n",
            "/usr/local/lib/python3.10/dist-packages/sklearn/metrics/_classification.py:1344: UndefinedMetricWarning: Precision is ill-defined and being set to 0.0 in labels with no predicted samples. Use `zero_division` parameter to control this behavior.\n",
            "  _warn_prf(average, modifier, msg_start, len(result))\n",
            "/usr/local/lib/python3.10/dist-packages/sklearn/metrics/_classification.py:1396: UserWarning: Note that pos_label (set to 'yes') is ignored when average != 'binary' (got 'macro'). You may use labels=[pos_label] to specify a single positive class.\n",
            "  warnings.warn(\n",
            "/usr/local/lib/python3.10/dist-packages/sklearn/metrics/_classification.py:1396: UserWarning: Note that pos_label (set to 'yes') is ignored when average != 'binary' (got 'macro'). You may use labels=[pos_label] to specify a single positive class.\n",
            "  warnings.warn(\n"
          ]
        }
      ]
    },
    {
      "cell_type": "markdown",
      "source": [
        "## **Análisis 6**\n",
        "**Variable dependiente:** edo_cliente\n",
        "\n",
        "**Variables independientes:** edad_cliente, score_buro, limite_credito"
      ],
      "metadata": {
        "id": "NS8RgZZl0dds"
      }
    },
    {
      "cell_type": "code",
      "source": [
        "#Declaramos las variables dependientes e independientes para la regresión Logística\n",
        "Vars_Indep= df[['edad_cliente', 'score_buro', 'limite_credito']]\n",
        "Var_Dep= df['edo_cliente']"
      ],
      "metadata": {
        "id": "tGDfOZsX0ddu"
      },
      "execution_count": 128,
      "outputs": []
    },
    {
      "cell_type": "code",
      "source": [
        "#Redefinimos las variables\n",
        "X= Vars_Indep\n",
        "y= Var_Dep"
      ],
      "metadata": {
        "id": "yuTxb6kL0ddv"
      },
      "execution_count": 129,
      "outputs": []
    },
    {
      "cell_type": "code",
      "source": [
        "#Dividimos el conjunto de datos en la parte de entrenamiento y prueba:\n",
        "X_train, X_test, y_train, y_test = train_test_split(X, y, test_size=0.3, random_state =None)"
      ],
      "metadata": {
        "id": "gf1hY9VT0ddv"
      },
      "execution_count": 130,
      "outputs": []
    },
    {
      "cell_type": "code",
      "source": [
        "#Se escalan todos los datos\n",
        "escalar = StandardScaler()"
      ],
      "metadata": {
        "id": "b4wdaay_0ddw"
      },
      "execution_count": 131,
      "outputs": []
    },
    {
      "cell_type": "code",
      "source": [
        "#Para realizar el escalamiento de las variables “X” tanto de entrenamiento como de prueba, utilizaremos fit_transform\n",
        "X_train = escalar.fit_transform(X_train)\n",
        "X_test = escalar.transform(X_test)"
      ],
      "metadata": {
        "id": "6ATP1N590ddw"
      },
      "execution_count": 132,
      "outputs": []
    },
    {
      "cell_type": "code",
      "source": [
        "#Definimos el algoritmo a utilizar\n",
        "from sklearn.linear_model import LogisticRegression\n",
        "algoritmo = LogisticRegression()"
      ],
      "metadata": {
        "id": "ovId5Q4M0ddx"
      },
      "execution_count": 133,
      "outputs": []
    },
    {
      "cell_type": "code",
      "source": [
        "#Entrenamos el modelo\n",
        "algoritmo.fit(X_train, y_train)"
      ],
      "metadata": {
        "colab": {
          "base_uri": "https://localhost:8080/",
          "height": 234
        },
        "outputId": "b5c3080c-6b69-4247-c0ee-c8d0a8dfa6b1",
        "id": "n87On83W0ddx"
      },
      "execution_count": 134,
      "outputs": [
        {
          "output_type": "stream",
          "name": "stderr",
          "text": [
            "/usr/local/lib/python3.10/dist-packages/sklearn/linear_model/_logistic.py:458: ConvergenceWarning: lbfgs failed to converge (status=1):\n",
            "STOP: TOTAL NO. of ITERATIONS REACHED LIMIT.\n",
            "\n",
            "Increase the number of iterations (max_iter) or scale the data as shown in:\n",
            "    https://scikit-learn.org/stable/modules/preprocessing.html\n",
            "Please also refer to the documentation for alternative solver options:\n",
            "    https://scikit-learn.org/stable/modules/linear_model.html#logistic-regression\n",
            "  n_iter_i = _check_optimize_result(\n"
          ]
        },
        {
          "output_type": "execute_result",
          "data": {
            "text/plain": [
              "LogisticRegression()"
            ],
            "text/html": [
              "<style>#sk-container-id-9 {color: black;background-color: white;}#sk-container-id-9 pre{padding: 0;}#sk-container-id-9 div.sk-toggleable {background-color: white;}#sk-container-id-9 label.sk-toggleable__label {cursor: pointer;display: block;width: 100%;margin-bottom: 0;padding: 0.3em;box-sizing: border-box;text-align: center;}#sk-container-id-9 label.sk-toggleable__label-arrow:before {content: \"▸\";float: left;margin-right: 0.25em;color: #696969;}#sk-container-id-9 label.sk-toggleable__label-arrow:hover:before {color: black;}#sk-container-id-9 div.sk-estimator:hover label.sk-toggleable__label-arrow:before {color: black;}#sk-container-id-9 div.sk-toggleable__content {max-height: 0;max-width: 0;overflow: hidden;text-align: left;background-color: #f0f8ff;}#sk-container-id-9 div.sk-toggleable__content pre {margin: 0.2em;color: black;border-radius: 0.25em;background-color: #f0f8ff;}#sk-container-id-9 input.sk-toggleable__control:checked~div.sk-toggleable__content {max-height: 200px;max-width: 100%;overflow: auto;}#sk-container-id-9 input.sk-toggleable__control:checked~label.sk-toggleable__label-arrow:before {content: \"▾\";}#sk-container-id-9 div.sk-estimator input.sk-toggleable__control:checked~label.sk-toggleable__label {background-color: #d4ebff;}#sk-container-id-9 div.sk-label input.sk-toggleable__control:checked~label.sk-toggleable__label {background-color: #d4ebff;}#sk-container-id-9 input.sk-hidden--visually {border: 0;clip: rect(1px 1px 1px 1px);clip: rect(1px, 1px, 1px, 1px);height: 1px;margin: -1px;overflow: hidden;padding: 0;position: absolute;width: 1px;}#sk-container-id-9 div.sk-estimator {font-family: monospace;background-color: #f0f8ff;border: 1px dotted black;border-radius: 0.25em;box-sizing: border-box;margin-bottom: 0.5em;}#sk-container-id-9 div.sk-estimator:hover {background-color: #d4ebff;}#sk-container-id-9 div.sk-parallel-item::after {content: \"\";width: 100%;border-bottom: 1px solid gray;flex-grow: 1;}#sk-container-id-9 div.sk-label:hover label.sk-toggleable__label {background-color: #d4ebff;}#sk-container-id-9 div.sk-serial::before {content: \"\";position: absolute;border-left: 1px solid gray;box-sizing: border-box;top: 0;bottom: 0;left: 50%;z-index: 0;}#sk-container-id-9 div.sk-serial {display: flex;flex-direction: column;align-items: center;background-color: white;padding-right: 0.2em;padding-left: 0.2em;position: relative;}#sk-container-id-9 div.sk-item {position: relative;z-index: 1;}#sk-container-id-9 div.sk-parallel {display: flex;align-items: stretch;justify-content: center;background-color: white;position: relative;}#sk-container-id-9 div.sk-item::before, #sk-container-id-9 div.sk-parallel-item::before {content: \"\";position: absolute;border-left: 1px solid gray;box-sizing: border-box;top: 0;bottom: 0;left: 50%;z-index: -1;}#sk-container-id-9 div.sk-parallel-item {display: flex;flex-direction: column;z-index: 1;position: relative;background-color: white;}#sk-container-id-9 div.sk-parallel-item:first-child::after {align-self: flex-end;width: 50%;}#sk-container-id-9 div.sk-parallel-item:last-child::after {align-self: flex-start;width: 50%;}#sk-container-id-9 div.sk-parallel-item:only-child::after {width: 0;}#sk-container-id-9 div.sk-dashed-wrapped {border: 1px dashed gray;margin: 0 0.4em 0.5em 0.4em;box-sizing: border-box;padding-bottom: 0.4em;background-color: white;}#sk-container-id-9 div.sk-label label {font-family: monospace;font-weight: bold;display: inline-block;line-height: 1.2em;}#sk-container-id-9 div.sk-label-container {text-align: center;}#sk-container-id-9 div.sk-container {/* jupyter's `normalize.less` sets `[hidden] { display: none; }` but bootstrap.min.css set `[hidden] { display: none !important; }` so we also need the `!important` here to be able to override the default hidden behavior on the sphinx rendered scikit-learn.org. See: https://github.com/scikit-learn/scikit-learn/issues/21755 */display: inline-block !important;position: relative;}#sk-container-id-9 div.sk-text-repr-fallback {display: none;}</style><div id=\"sk-container-id-9\" class=\"sk-top-container\"><div class=\"sk-text-repr-fallback\"><pre>LogisticRegression()</pre><b>In a Jupyter environment, please rerun this cell to show the HTML representation or trust the notebook. <br />On GitHub, the HTML representation is unable to render, please try loading this page with nbviewer.org.</b></div><div class=\"sk-container\" hidden><div class=\"sk-item\"><div class=\"sk-estimator sk-toggleable\"><input class=\"sk-toggleable__control sk-hidden--visually\" id=\"sk-estimator-id-9\" type=\"checkbox\" checked><label for=\"sk-estimator-id-9\" class=\"sk-toggleable__label sk-toggleable__label-arrow\">LogisticRegression</label><div class=\"sk-toggleable__content\"><pre>LogisticRegression()</pre></div></div></div></div></div>"
            ]
          },
          "metadata": {},
          "execution_count": 134
        }
      ]
    },
    {
      "cell_type": "code",
      "source": [
        "#Realizamos una predicción\n",
        "y_pred = algoritmo.predict(X_test)\n",
        "y_pred"
      ],
      "metadata": {
        "colab": {
          "base_uri": "https://localhost:8080/"
        },
        "outputId": "089b8aaa-bbff-4365-c0b1-75cb89345728",
        "id": "T92vWB7R0ddx"
      },
      "execution_count": 135,
      "outputs": [
        {
          "output_type": "execute_result",
          "data": {
            "text/plain": [
              "array([' YUC.', 'PUE', 'PUE', ..., 'YUC', 'PUE', 'PUE'], dtype=object)"
            ]
          },
          "metadata": {},
          "execution_count": 135
        }
      ]
    },
    {
      "cell_type": "code",
      "source": [
        "#Verifico la matriz de Confusión\n",
        "from sklearn.metrics import confusion_matrix\n",
        "matriz = confusion_matrix(y_test, y_pred)\n",
        "print('Matriz de Confusión:')\n",
        "print(matriz)"
      ],
      "metadata": {
        "colab": {
          "base_uri": "https://localhost:8080/"
        },
        "outputId": "e6bb77ad-2acc-4c78-880c-25182858d0d0",
        "id": "nP2XxrH30ddy"
      },
      "execution_count": 136,
      "outputs": [
        {
          "output_type": "stream",
          "name": "stdout",
          "text": [
            "Matriz de Confusión:\n",
            "[[0 0 0 ... 0 0 0]\n",
            " [0 0 0 ... 0 0 0]\n",
            " [0 0 0 ... 0 0 0]\n",
            " ...\n",
            " [0 0 0 ... 0 0 0]\n",
            " [0 0 0 ... 0 0 0]\n",
            " [0 0 0 ... 0 0 0]]\n"
          ]
        }
      ]
    },
    {
      "cell_type": "code",
      "source": [
        "#Evaluación\n",
        "precision6 = precision_score(y_test, y_pred, average=\"macro\", pos_label=\"yes\")\n",
        "print(f'Precisión del modelo: {precision6* 100:.2f}%')\n",
        "exactitud6 = accuracy_score(y_test, y_pred)\n",
        "print(f'Exactitud del modelo: {exactitud6* 100:.2f}%')\n",
        "sensibilidad6 = recall_score(y_test, y_pred, average=\"macro\", pos_label=\"yes\")\n",
        "print(f'Sensibilidad del modelo: {sensibilidad6* 100:.2f}%')\n",
        "puntajef16 = f1_score(y_test, y_pred, average=\"macro\", pos_label=\"yes\")\n",
        "print(f'Puntaje F1 del modelo: {puntajef16* 100:.2f}%')"
      ],
      "metadata": {
        "colab": {
          "base_uri": "https://localhost:8080/"
        },
        "outputId": "b62c0111-fa10-4031-f528-cbf486fdc1a2",
        "id": "U9BSBBiz0ddy"
      },
      "execution_count": 185,
      "outputs": [
        {
          "output_type": "stream",
          "name": "stdout",
          "text": [
            "Precisión del modelo: 0.10%\n",
            "Exactitud del modelo: 2.86%\n",
            "Sensibilidad del modelo: 0.47%\n",
            "Puntaje F1 del modelo: 0.11%\n"
          ]
        },
        {
          "output_type": "stream",
          "name": "stderr",
          "text": [
            "/usr/local/lib/python3.10/dist-packages/sklearn/metrics/_classification.py:1396: UserWarning: Note that pos_label (set to 'yes') is ignored when average != 'binary' (got 'macro'). You may use labels=[pos_label] to specify a single positive class.\n",
            "  warnings.warn(\n",
            "/usr/local/lib/python3.10/dist-packages/sklearn/metrics/_classification.py:1344: UndefinedMetricWarning: Precision is ill-defined and being set to 0.0 in labels with no predicted samples. Use `zero_division` parameter to control this behavior.\n",
            "  _warn_prf(average, modifier, msg_start, len(result))\n",
            "/usr/local/lib/python3.10/dist-packages/sklearn/metrics/_classification.py:1396: UserWarning: Note that pos_label (set to 'yes') is ignored when average != 'binary' (got 'macro'). You may use labels=[pos_label] to specify a single positive class.\n",
            "  warnings.warn(\n",
            "/usr/local/lib/python3.10/dist-packages/sklearn/metrics/_classification.py:1396: UserWarning: Note that pos_label (set to 'yes') is ignored when average != 'binary' (got 'macro'). You may use labels=[pos_label] to specify a single positive class.\n",
            "  warnings.warn(\n"
          ]
        }
      ]
    },
    {
      "cell_type": "markdown",
      "source": [
        "## **Análisis 7**\n",
        "**Variable dependiente:** modelo\n",
        "\n",
        "**Variables independientes:** porc_eng, descuento, precio"
      ],
      "metadata": {
        "id": "6gmswf_O1vLR"
      }
    },
    {
      "cell_type": "code",
      "source": [
        "#Declaramos las variables dependientes e independientes para la regresión Logística\n",
        "Vars_Indep= df[['porc_eng', 'descuento', 'precio']]\n",
        "Var_Dep= df['modelo']"
      ],
      "metadata": {
        "id": "-8M7AhbD1vLa"
      },
      "execution_count": 187,
      "outputs": []
    },
    {
      "cell_type": "code",
      "source": [
        "#Redefinimos las variables\n",
        "X= Vars_Indep\n",
        "y= Var_Dep"
      ],
      "metadata": {
        "id": "_cCQ_mzJ1vLa"
      },
      "execution_count": 188,
      "outputs": []
    },
    {
      "cell_type": "code",
      "source": [
        "#Dividimos el conjunto de datos en la parte de entrenamiento y prueba:\n",
        "X_train, X_test, y_train, y_test = train_test_split(X, y, test_size=0.3, random_state =None)"
      ],
      "metadata": {
        "id": "WQFiBt241vLb"
      },
      "execution_count": 189,
      "outputs": []
    },
    {
      "cell_type": "code",
      "source": [
        "#Se escalan todos los datos\n",
        "escalar = StandardScaler()"
      ],
      "metadata": {
        "id": "0swCl9-91vLb"
      },
      "execution_count": 190,
      "outputs": []
    },
    {
      "cell_type": "code",
      "source": [
        "#Para realizar el escalamiento de las variables “X” tanto de entrenamiento como de prueba, utilizaremos fit_transform\n",
        "X_train = escalar.fit_transform(X_train)\n",
        "X_test = escalar.transform(X_test)"
      ],
      "metadata": {
        "id": "NW6cuv821vLb"
      },
      "execution_count": 191,
      "outputs": []
    },
    {
      "cell_type": "code",
      "source": [
        "#Definimos el algoritmo a utilizar\n",
        "from sklearn.linear_model import LogisticRegression\n",
        "algoritmo = LogisticRegression()"
      ],
      "metadata": {
        "id": "-ds62bs41vLb"
      },
      "execution_count": 192,
      "outputs": []
    },
    {
      "cell_type": "code",
      "source": [
        "#Entrenamos el modelo\n",
        "algoritmo.fit(X_train, y_train)"
      ],
      "metadata": {
        "colab": {
          "base_uri": "https://localhost:8080/",
          "height": 234
        },
        "outputId": "a8c3d6c5-db0d-4acc-9215-44321e4bd5fa",
        "id": "wJeVyRA11vLb"
      },
      "execution_count": 193,
      "outputs": [
        {
          "output_type": "stream",
          "name": "stderr",
          "text": [
            "/usr/local/lib/python3.10/dist-packages/sklearn/linear_model/_logistic.py:458: ConvergenceWarning: lbfgs failed to converge (status=1):\n",
            "STOP: TOTAL NO. of ITERATIONS REACHED LIMIT.\n",
            "\n",
            "Increase the number of iterations (max_iter) or scale the data as shown in:\n",
            "    https://scikit-learn.org/stable/modules/preprocessing.html\n",
            "Please also refer to the documentation for alternative solver options:\n",
            "    https://scikit-learn.org/stable/modules/linear_model.html#logistic-regression\n",
            "  n_iter_i = _check_optimize_result(\n"
          ]
        },
        {
          "output_type": "execute_result",
          "data": {
            "text/plain": [
              "LogisticRegression()"
            ],
            "text/html": [
              "<style>#sk-container-id-13 {color: black;background-color: white;}#sk-container-id-13 pre{padding: 0;}#sk-container-id-13 div.sk-toggleable {background-color: white;}#sk-container-id-13 label.sk-toggleable__label {cursor: pointer;display: block;width: 100%;margin-bottom: 0;padding: 0.3em;box-sizing: border-box;text-align: center;}#sk-container-id-13 label.sk-toggleable__label-arrow:before {content: \"▸\";float: left;margin-right: 0.25em;color: #696969;}#sk-container-id-13 label.sk-toggleable__label-arrow:hover:before {color: black;}#sk-container-id-13 div.sk-estimator:hover label.sk-toggleable__label-arrow:before {color: black;}#sk-container-id-13 div.sk-toggleable__content {max-height: 0;max-width: 0;overflow: hidden;text-align: left;background-color: #f0f8ff;}#sk-container-id-13 div.sk-toggleable__content pre {margin: 0.2em;color: black;border-radius: 0.25em;background-color: #f0f8ff;}#sk-container-id-13 input.sk-toggleable__control:checked~div.sk-toggleable__content {max-height: 200px;max-width: 100%;overflow: auto;}#sk-container-id-13 input.sk-toggleable__control:checked~label.sk-toggleable__label-arrow:before {content: \"▾\";}#sk-container-id-13 div.sk-estimator input.sk-toggleable__control:checked~label.sk-toggleable__label {background-color: #d4ebff;}#sk-container-id-13 div.sk-label input.sk-toggleable__control:checked~label.sk-toggleable__label {background-color: #d4ebff;}#sk-container-id-13 input.sk-hidden--visually {border: 0;clip: rect(1px 1px 1px 1px);clip: rect(1px, 1px, 1px, 1px);height: 1px;margin: -1px;overflow: hidden;padding: 0;position: absolute;width: 1px;}#sk-container-id-13 div.sk-estimator {font-family: monospace;background-color: #f0f8ff;border: 1px dotted black;border-radius: 0.25em;box-sizing: border-box;margin-bottom: 0.5em;}#sk-container-id-13 div.sk-estimator:hover {background-color: #d4ebff;}#sk-container-id-13 div.sk-parallel-item::after {content: \"\";width: 100%;border-bottom: 1px solid gray;flex-grow: 1;}#sk-container-id-13 div.sk-label:hover label.sk-toggleable__label {background-color: #d4ebff;}#sk-container-id-13 div.sk-serial::before {content: \"\";position: absolute;border-left: 1px solid gray;box-sizing: border-box;top: 0;bottom: 0;left: 50%;z-index: 0;}#sk-container-id-13 div.sk-serial {display: flex;flex-direction: column;align-items: center;background-color: white;padding-right: 0.2em;padding-left: 0.2em;position: relative;}#sk-container-id-13 div.sk-item {position: relative;z-index: 1;}#sk-container-id-13 div.sk-parallel {display: flex;align-items: stretch;justify-content: center;background-color: white;position: relative;}#sk-container-id-13 div.sk-item::before, #sk-container-id-13 div.sk-parallel-item::before {content: \"\";position: absolute;border-left: 1px solid gray;box-sizing: border-box;top: 0;bottom: 0;left: 50%;z-index: -1;}#sk-container-id-13 div.sk-parallel-item {display: flex;flex-direction: column;z-index: 1;position: relative;background-color: white;}#sk-container-id-13 div.sk-parallel-item:first-child::after {align-self: flex-end;width: 50%;}#sk-container-id-13 div.sk-parallel-item:last-child::after {align-self: flex-start;width: 50%;}#sk-container-id-13 div.sk-parallel-item:only-child::after {width: 0;}#sk-container-id-13 div.sk-dashed-wrapped {border: 1px dashed gray;margin: 0 0.4em 0.5em 0.4em;box-sizing: border-box;padding-bottom: 0.4em;background-color: white;}#sk-container-id-13 div.sk-label label {font-family: monospace;font-weight: bold;display: inline-block;line-height: 1.2em;}#sk-container-id-13 div.sk-label-container {text-align: center;}#sk-container-id-13 div.sk-container {/* jupyter's `normalize.less` sets `[hidden] { display: none; }` but bootstrap.min.css set `[hidden] { display: none !important; }` so we also need the `!important` here to be able to override the default hidden behavior on the sphinx rendered scikit-learn.org. See: https://github.com/scikit-learn/scikit-learn/issues/21755 */display: inline-block !important;position: relative;}#sk-container-id-13 div.sk-text-repr-fallback {display: none;}</style><div id=\"sk-container-id-13\" class=\"sk-top-container\"><div class=\"sk-text-repr-fallback\"><pre>LogisticRegression()</pre><b>In a Jupyter environment, please rerun this cell to show the HTML representation or trust the notebook. <br />On GitHub, the HTML representation is unable to render, please try loading this page with nbviewer.org.</b></div><div class=\"sk-container\" hidden><div class=\"sk-item\"><div class=\"sk-estimator sk-toggleable\"><input class=\"sk-toggleable__control sk-hidden--visually\" id=\"sk-estimator-id-13\" type=\"checkbox\" checked><label for=\"sk-estimator-id-13\" class=\"sk-toggleable__label sk-toggleable__label-arrow\">LogisticRegression</label><div class=\"sk-toggleable__content\"><pre>LogisticRegression()</pre></div></div></div></div></div>"
            ]
          },
          "metadata": {},
          "execution_count": 193
        }
      ]
    },
    {
      "cell_type": "code",
      "source": [
        "#Realizamos una predicción\n",
        "y_pred = algoritmo.predict(X_test)\n",
        "y_pred"
      ],
      "metadata": {
        "colab": {
          "base_uri": "https://localhost:8080/"
        },
        "outputId": "00232d70-711d-4c07-e234-8848b3ef45fa",
        "id": "eWn6W2lj1vLb"
      },
      "execution_count": 194,
      "outputs": [
        {
          "output_type": "execute_result",
          "data": {
            "text/plain": [
              "array(['A13', 'A03', 'A32', ..., '4G XT2239-17 E22I  Blanco Kit', 'A03s',\n",
              "       'A03'], dtype=object)"
            ]
          },
          "metadata": {},
          "execution_count": 194
        }
      ]
    },
    {
      "cell_type": "code",
      "source": [
        "#Verifico la matriz de Confusión\n",
        "from sklearn.metrics import confusion_matrix\n",
        "matriz = confusion_matrix(y_test, y_pred)\n",
        "print('Matriz de Confusión:')\n",
        "print(matriz)"
      ],
      "metadata": {
        "colab": {
          "base_uri": "https://localhost:8080/"
        },
        "outputId": "46d4d1e9-426f-4d3b-a462-0c6a1abf99e9",
        "id": "vRhXpxVH1vLb"
      },
      "execution_count": 195,
      "outputs": [
        {
          "output_type": "stream",
          "name": "stdout",
          "text": [
            "Matriz de Confusión:\n",
            "[[0 0 0 ... 0 0 0]\n",
            " [0 0 0 ... 0 0 0]\n",
            " [0 0 0 ... 0 0 0]\n",
            " ...\n",
            " [0 0 0 ... 0 0 0]\n",
            " [0 0 0 ... 0 0 0]\n",
            " [0 0 0 ... 0 0 0]]\n"
          ]
        }
      ]
    },
    {
      "cell_type": "code",
      "source": [
        "#Evaluación\n",
        "precision7 = precision_score(y_test, y_pred, average=\"macro\", pos_label=\"yes\")\n",
        "print(f'Precisión del modelo: {precision7* 100:.2f}%')\n",
        "exactitud7 = accuracy_score(y_test, y_pred)\n",
        "print(f'Exactitud del modelo: {exactitud7* 100:.2f}%')\n",
        "sensibilidad7 = recall_score(y_test, y_pred, average=\"macro\", pos_label=\"yes\")\n",
        "print(f'Sensibilidad del modelo: {sensibilidad7* 100:.2f}%')\n",
        "puntajef17 = f1_score(y_test, y_pred, average=\"macro\", pos_label=\"yes\")\n",
        "print(f'Puntaje F1 del modelo: {puntajef17* 100:.2f}%')"
      ],
      "metadata": {
        "id": "XvRlDfXf2p2k",
        "colab": {
          "base_uri": "https://localhost:8080/"
        },
        "outputId": "486362db-b729-4a50-abe1-0e57d24dcce5"
      },
      "execution_count": 196,
      "outputs": [
        {
          "output_type": "stream",
          "name": "stderr",
          "text": [
            "/usr/local/lib/python3.10/dist-packages/sklearn/metrics/_classification.py:1396: UserWarning: Note that pos_label (set to 'yes') is ignored when average != 'binary' (got 'macro'). You may use labels=[pos_label] to specify a single positive class.\n",
            "  warnings.warn(\n",
            "/usr/local/lib/python3.10/dist-packages/sklearn/metrics/_classification.py:1344: UndefinedMetricWarning: Precision is ill-defined and being set to 0.0 in labels with no predicted samples. Use `zero_division` parameter to control this behavior.\n",
            "  _warn_prf(average, modifier, msg_start, len(result))\n",
            "/usr/local/lib/python3.10/dist-packages/sklearn/metrics/_classification.py:1396: UserWarning: Note that pos_label (set to 'yes') is ignored when average != 'binary' (got 'macro'). You may use labels=[pos_label] to specify a single positive class.\n",
            "  warnings.warn(\n",
            "/usr/local/lib/python3.10/dist-packages/sklearn/metrics/_classification.py:1396: UserWarning: Note that pos_label (set to 'yes') is ignored when average != 'binary' (got 'macro'). You may use labels=[pos_label] to specify a single positive class.\n",
            "  warnings.warn(\n"
          ]
        },
        {
          "output_type": "stream",
          "name": "stdout",
          "text": [
            "Precisión del modelo: 1.62%\n",
            "Exactitud del modelo: 24.25%\n",
            "Sensibilidad del modelo: 2.12%\n",
            "Puntaje F1 del modelo: 1.48%\n"
          ]
        }
      ]
    },
    {
      "cell_type": "markdown",
      "source": [
        "## **Análisis 8**\n",
        "**Variable dependiente:** razones_buro\n",
        "\n",
        "**Variables independientes:** semana, riesgo, porc_eng"
      ],
      "metadata": {
        "id": "UPDqSg_y21rN"
      }
    },
    {
      "cell_type": "code",
      "source": [
        "#Declaramos las variables dependientes e independientes para la regresión Logística\n",
        "Vars_Indep= df[['semana', 'riesgo', 'porc_eng']]\n",
        "Var_Dep= df['razones_buro']"
      ],
      "metadata": {
        "id": "adHswNDa21rU"
      },
      "execution_count": 197,
      "outputs": []
    },
    {
      "cell_type": "code",
      "source": [
        "#Redefinimos las variables\n",
        "X= Vars_Indep\n",
        "y= Var_Dep"
      ],
      "metadata": {
        "id": "hPtL20Ik21rU"
      },
      "execution_count": 198,
      "outputs": []
    },
    {
      "cell_type": "code",
      "source": [
        "#Dividimos el conjunto de datos en la parte de entrenamiento y prueba:\n",
        "X_train, X_test, y_train, y_test = train_test_split(X, y, test_size=0.3, random_state =None)"
      ],
      "metadata": {
        "id": "_0dFp13n21rU"
      },
      "execution_count": 199,
      "outputs": []
    },
    {
      "cell_type": "code",
      "source": [
        "#Se escalan todos los datos\n",
        "escalar = StandardScaler()"
      ],
      "metadata": {
        "id": "6iKyuwuY21rV"
      },
      "execution_count": 200,
      "outputs": []
    },
    {
      "cell_type": "code",
      "source": [
        "#Para realizar el escalamiento de las variables “X” tanto de entrenamiento como de prueba, utilizaremos fit_transform\n",
        "X_train = escalar.fit_transform(X_train)\n",
        "X_test = escalar.transform(X_test)"
      ],
      "metadata": {
        "id": "MsTijuGk21rV"
      },
      "execution_count": 201,
      "outputs": []
    },
    {
      "cell_type": "code",
      "source": [
        "#Definimos el algoritmo a utilizar\n",
        "from sklearn.linear_model import LogisticRegression\n",
        "algoritmo = LogisticRegression()"
      ],
      "metadata": {
        "id": "4mE5ADb221rV"
      },
      "execution_count": 202,
      "outputs": []
    },
    {
      "cell_type": "code",
      "source": [
        "#Entrenamos el modelo\n",
        "algoritmo.fit(X_train, y_train)"
      ],
      "metadata": {
        "colab": {
          "base_uri": "https://localhost:8080/",
          "height": 0
        },
        "outputId": "2d74eb03-f12b-402c-b4b3-351f57c68c03",
        "id": "LM8lq5Mz21rV"
      },
      "execution_count": 203,
      "outputs": [
        {
          "output_type": "stream",
          "name": "stderr",
          "text": [
            "/usr/local/lib/python3.10/dist-packages/sklearn/linear_model/_logistic.py:458: ConvergenceWarning: lbfgs failed to converge (status=1):\n",
            "STOP: TOTAL NO. of ITERATIONS REACHED LIMIT.\n",
            "\n",
            "Increase the number of iterations (max_iter) or scale the data as shown in:\n",
            "    https://scikit-learn.org/stable/modules/preprocessing.html\n",
            "Please also refer to the documentation for alternative solver options:\n",
            "    https://scikit-learn.org/stable/modules/linear_model.html#logistic-regression\n",
            "  n_iter_i = _check_optimize_result(\n"
          ]
        },
        {
          "output_type": "execute_result",
          "data": {
            "text/plain": [
              "LogisticRegression()"
            ],
            "text/html": [
              "<style>#sk-container-id-14 {color: black;background-color: white;}#sk-container-id-14 pre{padding: 0;}#sk-container-id-14 div.sk-toggleable {background-color: white;}#sk-container-id-14 label.sk-toggleable__label {cursor: pointer;display: block;width: 100%;margin-bottom: 0;padding: 0.3em;box-sizing: border-box;text-align: center;}#sk-container-id-14 label.sk-toggleable__label-arrow:before {content: \"▸\";float: left;margin-right: 0.25em;color: #696969;}#sk-container-id-14 label.sk-toggleable__label-arrow:hover:before {color: black;}#sk-container-id-14 div.sk-estimator:hover label.sk-toggleable__label-arrow:before {color: black;}#sk-container-id-14 div.sk-toggleable__content {max-height: 0;max-width: 0;overflow: hidden;text-align: left;background-color: #f0f8ff;}#sk-container-id-14 div.sk-toggleable__content pre {margin: 0.2em;color: black;border-radius: 0.25em;background-color: #f0f8ff;}#sk-container-id-14 input.sk-toggleable__control:checked~div.sk-toggleable__content {max-height: 200px;max-width: 100%;overflow: auto;}#sk-container-id-14 input.sk-toggleable__control:checked~label.sk-toggleable__label-arrow:before {content: \"▾\";}#sk-container-id-14 div.sk-estimator input.sk-toggleable__control:checked~label.sk-toggleable__label {background-color: #d4ebff;}#sk-container-id-14 div.sk-label input.sk-toggleable__control:checked~label.sk-toggleable__label {background-color: #d4ebff;}#sk-container-id-14 input.sk-hidden--visually {border: 0;clip: rect(1px 1px 1px 1px);clip: rect(1px, 1px, 1px, 1px);height: 1px;margin: -1px;overflow: hidden;padding: 0;position: absolute;width: 1px;}#sk-container-id-14 div.sk-estimator {font-family: monospace;background-color: #f0f8ff;border: 1px dotted black;border-radius: 0.25em;box-sizing: border-box;margin-bottom: 0.5em;}#sk-container-id-14 div.sk-estimator:hover {background-color: #d4ebff;}#sk-container-id-14 div.sk-parallel-item::after {content: \"\";width: 100%;border-bottom: 1px solid gray;flex-grow: 1;}#sk-container-id-14 div.sk-label:hover label.sk-toggleable__label {background-color: #d4ebff;}#sk-container-id-14 div.sk-serial::before {content: \"\";position: absolute;border-left: 1px solid gray;box-sizing: border-box;top: 0;bottom: 0;left: 50%;z-index: 0;}#sk-container-id-14 div.sk-serial {display: flex;flex-direction: column;align-items: center;background-color: white;padding-right: 0.2em;padding-left: 0.2em;position: relative;}#sk-container-id-14 div.sk-item {position: relative;z-index: 1;}#sk-container-id-14 div.sk-parallel {display: flex;align-items: stretch;justify-content: center;background-color: white;position: relative;}#sk-container-id-14 div.sk-item::before, #sk-container-id-14 div.sk-parallel-item::before {content: \"\";position: absolute;border-left: 1px solid gray;box-sizing: border-box;top: 0;bottom: 0;left: 50%;z-index: -1;}#sk-container-id-14 div.sk-parallel-item {display: flex;flex-direction: column;z-index: 1;position: relative;background-color: white;}#sk-container-id-14 div.sk-parallel-item:first-child::after {align-self: flex-end;width: 50%;}#sk-container-id-14 div.sk-parallel-item:last-child::after {align-self: flex-start;width: 50%;}#sk-container-id-14 div.sk-parallel-item:only-child::after {width: 0;}#sk-container-id-14 div.sk-dashed-wrapped {border: 1px dashed gray;margin: 0 0.4em 0.5em 0.4em;box-sizing: border-box;padding-bottom: 0.4em;background-color: white;}#sk-container-id-14 div.sk-label label {font-family: monospace;font-weight: bold;display: inline-block;line-height: 1.2em;}#sk-container-id-14 div.sk-label-container {text-align: center;}#sk-container-id-14 div.sk-container {/* jupyter's `normalize.less` sets `[hidden] { display: none; }` but bootstrap.min.css set `[hidden] { display: none !important; }` so we also need the `!important` here to be able to override the default hidden behavior on the sphinx rendered scikit-learn.org. See: https://github.com/scikit-learn/scikit-learn/issues/21755 */display: inline-block !important;position: relative;}#sk-container-id-14 div.sk-text-repr-fallback {display: none;}</style><div id=\"sk-container-id-14\" class=\"sk-top-container\"><div class=\"sk-text-repr-fallback\"><pre>LogisticRegression()</pre><b>In a Jupyter environment, please rerun this cell to show the HTML representation or trust the notebook. <br />On GitHub, the HTML representation is unable to render, please try loading this page with nbviewer.org.</b></div><div class=\"sk-container\" hidden><div class=\"sk-item\"><div class=\"sk-estimator sk-toggleable\"><input class=\"sk-toggleable__control sk-hidden--visually\" id=\"sk-estimator-id-14\" type=\"checkbox\" checked><label for=\"sk-estimator-id-14\" class=\"sk-toggleable__label sk-toggleable__label-arrow\">LogisticRegression</label><div class=\"sk-toggleable__content\"><pre>LogisticRegression()</pre></div></div></div></div></div>"
            ]
          },
          "metadata": {},
          "execution_count": 203
        }
      ]
    },
    {
      "cell_type": "code",
      "source": [
        "#Realizamos una predicción\n",
        "y_pred = algoritmo.predict(X_test)\n",
        "y_pred"
      ],
      "metadata": {
        "colab": {
          "base_uri": "https://localhost:8080/"
        },
        "outputId": "b307d4fc-6afb-4375-cb1e-1059b1d31bd8",
        "id": "hQ7_Aqq821rV"
      },
      "execution_count": 204,
      "outputs": [
        {
          "output_type": "execute_result",
          "data": {
            "text/plain": [
              "array(['K0,D7,J0,E2', 'C4', 'C2', ..., 'C4', 'C4', 'C4'], dtype=object)"
            ]
          },
          "metadata": {},
          "execution_count": 204
        }
      ]
    },
    {
      "cell_type": "code",
      "source": [
        "#Verifico la matriz de Confusión\n",
        "from sklearn.metrics import confusion_matrix\n",
        "matriz = confusion_matrix(y_test, y_pred)\n",
        "print('Matriz de Confusión:')\n",
        "print(matriz)"
      ],
      "metadata": {
        "colab": {
          "base_uri": "https://localhost:8080/"
        },
        "outputId": "d535e7db-0fa4-4397-83a8-0034156bb6f4",
        "id": "QD50i0Nl21rV"
      },
      "execution_count": 205,
      "outputs": [
        {
          "output_type": "stream",
          "name": "stdout",
          "text": [
            "Matriz de Confusión:\n",
            "[[0 0 0 ... 0 0 0]\n",
            " [0 0 0 ... 0 0 0]\n",
            " [0 0 0 ... 0 0 0]\n",
            " ...\n",
            " [0 0 0 ... 0 0 0]\n",
            " [0 0 0 ... 0 0 0]\n",
            " [0 0 0 ... 0 0 0]]\n"
          ]
        }
      ]
    },
    {
      "cell_type": "code",
      "source": [
        "#Evaluación\n",
        "precision8 = precision_score(y_test, y_pred, average=\"macro\", pos_label=\"yes\")\n",
        "print(f'Precisión del modelo: {precision8* 100:.2f}%')\n",
        "exactitud8 = accuracy_score(y_test, y_pred)\n",
        "print(f'Exactitud del modelo: {exactitud8* 100:.2f}%')\n",
        "sensibilidad8 = recall_score(y_test, y_pred, average=\"macro\", pos_label=\"yes\")\n",
        "print(f'Sensibilidad del modelo: {sensibilidad8* 100:.2f}%')\n",
        "puntajef18 = f1_score(y_test, y_pred, average=\"macro\", pos_label=\"yes\")\n",
        "print(f'Puntaje F1 del modelo: {puntajef18* 100:.2f}%')"
      ],
      "metadata": {
        "colab": {
          "base_uri": "https://localhost:8080/"
        },
        "outputId": "e10a1ef5-d86c-4e65-ec2a-d075c6efb7b4",
        "id": "ftkEFHXU21rV"
      },
      "execution_count": 206,
      "outputs": [
        {
          "output_type": "stream",
          "name": "stderr",
          "text": [
            "/usr/local/lib/python3.10/dist-packages/sklearn/metrics/_classification.py:1396: UserWarning: Note that pos_label (set to 'yes') is ignored when average != 'binary' (got 'macro'). You may use labels=[pos_label] to specify a single positive class.\n",
            "  warnings.warn(\n"
          ]
        },
        {
          "output_type": "stream",
          "name": "stdout",
          "text": [
            "Precisión del modelo: 0.15%\n",
            "Exactitud del modelo: 36.50%\n",
            "Sensibilidad del modelo: 0.32%\n",
            "Puntaje F1 del modelo: 0.19%\n"
          ]
        },
        {
          "output_type": "stream",
          "name": "stderr",
          "text": [
            "/usr/local/lib/python3.10/dist-packages/sklearn/metrics/_classification.py:1344: UndefinedMetricWarning: Precision is ill-defined and being set to 0.0 in labels with no predicted samples. Use `zero_division` parameter to control this behavior.\n",
            "  _warn_prf(average, modifier, msg_start, len(result))\n",
            "/usr/local/lib/python3.10/dist-packages/sklearn/metrics/_classification.py:1396: UserWarning: Note that pos_label (set to 'yes') is ignored when average != 'binary' (got 'macro'). You may use labels=[pos_label] to specify a single positive class.\n",
            "  warnings.warn(\n",
            "/usr/local/lib/python3.10/dist-packages/sklearn/metrics/_classification.py:1396: UserWarning: Note that pos_label (set to 'yes') is ignored when average != 'binary' (got 'macro'). You may use labels=[pos_label] to specify a single positive class.\n",
            "  warnings.warn(\n"
          ]
        }
      ]
    },
    {
      "cell_type": "markdown",
      "source": [
        "##**Análisis 9**\n",
        "**Variable dependiente:** dis_venta\n",
        "\n",
        "**Variables independientes:** monto_financiado, score_buro, precio"
      ],
      "metadata": {
        "id": "QcN2DAxA4J31"
      }
    },
    {
      "cell_type": "code",
      "source": [
        "#Declaramos las variables dependientes e independientes para la regresión Logística\n",
        "Vars_Indep= df[['monto_financiado', 'semana_actual', 'score_buro']]\n",
        "Var_Dep= df['dis_venta']"
      ],
      "metadata": {
        "id": "lh6FzH8z4J3_"
      },
      "execution_count": 207,
      "outputs": []
    },
    {
      "cell_type": "code",
      "source": [
        "#Redefinimos las variables\n",
        "X= Vars_Indep\n",
        "y= Var_Dep"
      ],
      "metadata": {
        "id": "VisGXw0b4J3_"
      },
      "execution_count": 208,
      "outputs": []
    },
    {
      "cell_type": "code",
      "source": [
        "#Dividimos el conjunto de datos en la parte de entrenamiento y prueba:\n",
        "X_train, X_test, y_train, y_test = train_test_split(X, y, test_size=0.3, random_state =None)"
      ],
      "metadata": {
        "id": "aQ_NSweA4J3_"
      },
      "execution_count": 209,
      "outputs": []
    },
    {
      "cell_type": "code",
      "source": [
        "#Se escalan todos los datos\n",
        "escalar = StandardScaler()"
      ],
      "metadata": {
        "id": "ja1GGt0y4J3_"
      },
      "execution_count": 210,
      "outputs": []
    },
    {
      "cell_type": "code",
      "source": [
        "#Para realizar el escalamiento de las variables “X” tanto de entrenamiento como de prueba, utilizaremos fit_transform\n",
        "X_train = escalar.fit_transform(X_train)\n",
        "X_test = escalar.transform(X_test)"
      ],
      "metadata": {
        "id": "d8lKcAMl4J3_"
      },
      "execution_count": 211,
      "outputs": []
    },
    {
      "cell_type": "code",
      "source": [
        "#Definimos el algoritmo a utilizar\n",
        "from sklearn.linear_model import LogisticRegression\n",
        "algoritmo = LogisticRegression()"
      ],
      "metadata": {
        "id": "j6QGZpAd4J3_"
      },
      "execution_count": 212,
      "outputs": []
    },
    {
      "cell_type": "code",
      "source": [
        "#Entrenamos el modelo\n",
        "algoritmo.fit(X_train, y_train)"
      ],
      "metadata": {
        "colab": {
          "base_uri": "https://localhost:8080/",
          "height": 234
        },
        "outputId": "b00a6579-4e42-4524-836c-efaedfa13068",
        "id": "yX46AsA44J3_"
      },
      "execution_count": 213,
      "outputs": [
        {
          "output_type": "stream",
          "name": "stderr",
          "text": [
            "/usr/local/lib/python3.10/dist-packages/sklearn/linear_model/_logistic.py:458: ConvergenceWarning: lbfgs failed to converge (status=1):\n",
            "STOP: TOTAL NO. of ITERATIONS REACHED LIMIT.\n",
            "\n",
            "Increase the number of iterations (max_iter) or scale the data as shown in:\n",
            "    https://scikit-learn.org/stable/modules/preprocessing.html\n",
            "Please also refer to the documentation for alternative solver options:\n",
            "    https://scikit-learn.org/stable/modules/linear_model.html#logistic-regression\n",
            "  n_iter_i = _check_optimize_result(\n"
          ]
        },
        {
          "output_type": "execute_result",
          "data": {
            "text/plain": [
              "LogisticRegression()"
            ],
            "text/html": [
              "<style>#sk-container-id-15 {color: black;background-color: white;}#sk-container-id-15 pre{padding: 0;}#sk-container-id-15 div.sk-toggleable {background-color: white;}#sk-container-id-15 label.sk-toggleable__label {cursor: pointer;display: block;width: 100%;margin-bottom: 0;padding: 0.3em;box-sizing: border-box;text-align: center;}#sk-container-id-15 label.sk-toggleable__label-arrow:before {content: \"▸\";float: left;margin-right: 0.25em;color: #696969;}#sk-container-id-15 label.sk-toggleable__label-arrow:hover:before {color: black;}#sk-container-id-15 div.sk-estimator:hover label.sk-toggleable__label-arrow:before {color: black;}#sk-container-id-15 div.sk-toggleable__content {max-height: 0;max-width: 0;overflow: hidden;text-align: left;background-color: #f0f8ff;}#sk-container-id-15 div.sk-toggleable__content pre {margin: 0.2em;color: black;border-radius: 0.25em;background-color: #f0f8ff;}#sk-container-id-15 input.sk-toggleable__control:checked~div.sk-toggleable__content {max-height: 200px;max-width: 100%;overflow: auto;}#sk-container-id-15 input.sk-toggleable__control:checked~label.sk-toggleable__label-arrow:before {content: \"▾\";}#sk-container-id-15 div.sk-estimator input.sk-toggleable__control:checked~label.sk-toggleable__label {background-color: #d4ebff;}#sk-container-id-15 div.sk-label input.sk-toggleable__control:checked~label.sk-toggleable__label {background-color: #d4ebff;}#sk-container-id-15 input.sk-hidden--visually {border: 0;clip: rect(1px 1px 1px 1px);clip: rect(1px, 1px, 1px, 1px);height: 1px;margin: -1px;overflow: hidden;padding: 0;position: absolute;width: 1px;}#sk-container-id-15 div.sk-estimator {font-family: monospace;background-color: #f0f8ff;border: 1px dotted black;border-radius: 0.25em;box-sizing: border-box;margin-bottom: 0.5em;}#sk-container-id-15 div.sk-estimator:hover {background-color: #d4ebff;}#sk-container-id-15 div.sk-parallel-item::after {content: \"\";width: 100%;border-bottom: 1px solid gray;flex-grow: 1;}#sk-container-id-15 div.sk-label:hover label.sk-toggleable__label {background-color: #d4ebff;}#sk-container-id-15 div.sk-serial::before {content: \"\";position: absolute;border-left: 1px solid gray;box-sizing: border-box;top: 0;bottom: 0;left: 50%;z-index: 0;}#sk-container-id-15 div.sk-serial {display: flex;flex-direction: column;align-items: center;background-color: white;padding-right: 0.2em;padding-left: 0.2em;position: relative;}#sk-container-id-15 div.sk-item {position: relative;z-index: 1;}#sk-container-id-15 div.sk-parallel {display: flex;align-items: stretch;justify-content: center;background-color: white;position: relative;}#sk-container-id-15 div.sk-item::before, #sk-container-id-15 div.sk-parallel-item::before {content: \"\";position: absolute;border-left: 1px solid gray;box-sizing: border-box;top: 0;bottom: 0;left: 50%;z-index: -1;}#sk-container-id-15 div.sk-parallel-item {display: flex;flex-direction: column;z-index: 1;position: relative;background-color: white;}#sk-container-id-15 div.sk-parallel-item:first-child::after {align-self: flex-end;width: 50%;}#sk-container-id-15 div.sk-parallel-item:last-child::after {align-self: flex-start;width: 50%;}#sk-container-id-15 div.sk-parallel-item:only-child::after {width: 0;}#sk-container-id-15 div.sk-dashed-wrapped {border: 1px dashed gray;margin: 0 0.4em 0.5em 0.4em;box-sizing: border-box;padding-bottom: 0.4em;background-color: white;}#sk-container-id-15 div.sk-label label {font-family: monospace;font-weight: bold;display: inline-block;line-height: 1.2em;}#sk-container-id-15 div.sk-label-container {text-align: center;}#sk-container-id-15 div.sk-container {/* jupyter's `normalize.less` sets `[hidden] { display: none; }` but bootstrap.min.css set `[hidden] { display: none !important; }` so we also need the `!important` here to be able to override the default hidden behavior on the sphinx rendered scikit-learn.org. See: https://github.com/scikit-learn/scikit-learn/issues/21755 */display: inline-block !important;position: relative;}#sk-container-id-15 div.sk-text-repr-fallback {display: none;}</style><div id=\"sk-container-id-15\" class=\"sk-top-container\"><div class=\"sk-text-repr-fallback\"><pre>LogisticRegression()</pre><b>In a Jupyter environment, please rerun this cell to show the HTML representation or trust the notebook. <br />On GitHub, the HTML representation is unable to render, please try loading this page with nbviewer.org.</b></div><div class=\"sk-container\" hidden><div class=\"sk-item\"><div class=\"sk-estimator sk-toggleable\"><input class=\"sk-toggleable__control sk-hidden--visually\" id=\"sk-estimator-id-15\" type=\"checkbox\" checked><label for=\"sk-estimator-id-15\" class=\"sk-toggleable__label sk-toggleable__label-arrow\">LogisticRegression</label><div class=\"sk-toggleable__content\"><pre>LogisticRegression()</pre></div></div></div></div></div>"
            ]
          },
          "metadata": {},
          "execution_count": 213
        }
      ]
    },
    {
      "cell_type": "code",
      "source": [
        "#Realizamos una predicción\n",
        "y_pred = algoritmo.predict(X_test)\n",
        "y_pred"
      ],
      "metadata": {
        "colab": {
          "base_uri": "https://localhost:8080/"
        },
        "outputId": "456741a2-8538-457f-d345-00f21d8ce5a0",
        "id": "OkBYNc8p4J4A"
      },
      "execution_count": 214,
      "outputs": [
        {
          "output_type": "execute_result",
          "data": {
            "text/plain": [
              "array(['svc001', 'mic0912', 'mic0912', ..., 'svc004', 'php005', 'svc001'],\n",
              "      dtype=object)"
            ]
          },
          "metadata": {},
          "execution_count": 214
        }
      ]
    },
    {
      "cell_type": "code",
      "source": [
        "#Verifico la matriz de Confusión\n",
        "from sklearn.metrics import confusion_matrix\n",
        "matriz = confusion_matrix(y_test, y_pred)\n",
        "print('Matriz de Confusión:')\n",
        "print(matriz)"
      ],
      "metadata": {
        "colab": {
          "base_uri": "https://localhost:8080/"
        },
        "outputId": "95126ed8-bdae-4f5f-c40b-dde0df675e7a",
        "id": "osSan4yu4J4A"
      },
      "execution_count": 215,
      "outputs": [
        {
          "output_type": "stream",
          "name": "stdout",
          "text": [
            "Matriz de Confusión:\n",
            "[[0 0 0 ... 0 0 0]\n",
            " [0 0 0 ... 0 0 0]\n",
            " [0 0 0 ... 0 0 0]\n",
            " ...\n",
            " [0 0 0 ... 0 0 0]\n",
            " [0 0 0 ... 0 0 0]\n",
            " [0 0 0 ... 0 0 0]]\n"
          ]
        }
      ]
    },
    {
      "cell_type": "code",
      "source": [
        "#Evaluación\n",
        "precision9= precision_score(y_test, y_pred, average=\"macro\", pos_label=\"yes\")\n",
        "print(f'Precisión del modelo: {precision9* 100:.2f}%')\n",
        "exactitud9 = accuracy_score(y_test, y_pred)\n",
        "print(f'Exactitud del modelo: {exactitud9* 100:.2f}%')\n",
        "sensibilidad9 = recall_score(y_test, y_pred, average=\"macro\", pos_label=\"yes\")\n",
        "print(f'Sensibilidad del modelo: {sensibilidad9* 100:.2f}%')\n",
        "puntajef19 = f1_score(y_test, y_pred, average=\"macro\", pos_label=\"yes\")\n",
        "print(f'Puntaje F1 del modelo: {puntajef19* 100:.2f}%')"
      ],
      "metadata": {
        "colab": {
          "base_uri": "https://localhost:8080/"
        },
        "outputId": "58185215-e811-4c26-998d-9783e4bc8f84",
        "id": "puurEa4W4J4A"
      },
      "execution_count": 232,
      "outputs": [
        {
          "output_type": "stream",
          "name": "stdout",
          "text": [
            "Precisión del modelo: 0.02%\n",
            "Exactitud del modelo: 9.71%\n",
            "Sensibilidad del modelo: 0.10%\n",
            "Puntaje F1 del modelo: 0.02%\n"
          ]
        },
        {
          "output_type": "stream",
          "name": "stderr",
          "text": [
            "/usr/local/lib/python3.10/dist-packages/sklearn/metrics/_classification.py:1396: UserWarning: Note that pos_label (set to 'yes') is ignored when average != 'binary' (got 'macro'). You may use labels=[pos_label] to specify a single positive class.\n",
            "  warnings.warn(\n",
            "/usr/local/lib/python3.10/dist-packages/sklearn/metrics/_classification.py:1344: UndefinedMetricWarning: Precision is ill-defined and being set to 0.0 in labels with no predicted samples. Use `zero_division` parameter to control this behavior.\n",
            "  _warn_prf(average, modifier, msg_start, len(result))\n",
            "/usr/local/lib/python3.10/dist-packages/sklearn/metrics/_classification.py:1396: UserWarning: Note that pos_label (set to 'yes') is ignored when average != 'binary' (got 'macro'). You may use labels=[pos_label] to specify a single positive class.\n",
            "  warnings.warn(\n",
            "/usr/local/lib/python3.10/dist-packages/sklearn/metrics/_classification.py:1396: UserWarning: Note that pos_label (set to 'yes') is ignored when average != 'binary' (got 'macro'). You may use labels=[pos_label] to specify a single positive class.\n",
            "  warnings.warn(\n"
          ]
        }
      ]
    },
    {
      "cell_type": "markdown",
      "source": [
        "## **Análisis 10**\n",
        "**Variable dependiente:** cd_cliente\n",
        "\n",
        "**Variables independientes:** monto_financiado, semana_actual, score_buro"
      ],
      "metadata": {
        "id": "0WVE3DDw4u6S"
      }
    },
    {
      "cell_type": "code",
      "source": [
        "#Declaramos las variables dependientes e independientes para la regresión Logística\n",
        "Vars_Indep= df[['monto_financiado', 'precio', 'score_buro']]\n",
        "Var_Dep= df['cd_cliente']"
      ],
      "metadata": {
        "id": "Xo7l0DsK4u6S"
      },
      "execution_count": 217,
      "outputs": []
    },
    {
      "cell_type": "code",
      "source": [
        "#Redefinimos las variables\n",
        "X= Vars_Indep\n",
        "y= Var_Dep"
      ],
      "metadata": {
        "id": "MipgXEMc4u6S"
      },
      "execution_count": 218,
      "outputs": []
    },
    {
      "cell_type": "code",
      "source": [
        "#Dividimos el conjunto de datos en la parte de entrenamiento y prueba:\n",
        "X_train, X_test, y_train, y_test = train_test_split(X, y, test_size=0.3, random_state =None)"
      ],
      "metadata": {
        "id": "zd0PYZua4u6T"
      },
      "execution_count": 219,
      "outputs": []
    },
    {
      "cell_type": "code",
      "source": [
        "#Se escalan todos los datos\n",
        "escalar = StandardScaler()"
      ],
      "metadata": {
        "id": "1M-WrrVG4u6T"
      },
      "execution_count": 220,
      "outputs": []
    },
    {
      "cell_type": "code",
      "source": [
        "#Para realizar el escalamiento de las variables “X” tanto de entrenamiento como de prueba, utilizaremos fit_transform\n",
        "X_train = escalar.fit_transform(X_train)\n",
        "X_test = escalar.transform(X_test)"
      ],
      "metadata": {
        "id": "6UeAPrre4u6T"
      },
      "execution_count": 221,
      "outputs": []
    },
    {
      "cell_type": "code",
      "source": [
        "#Definimos el algoritmo a utilizar\n",
        "from sklearn.linear_model import LogisticRegression\n",
        "algoritmo = LogisticRegression()"
      ],
      "metadata": {
        "id": "NfHzRenW4u6T"
      },
      "execution_count": 222,
      "outputs": []
    },
    {
      "cell_type": "code",
      "source": [
        "#Entrenamos el modelo\n",
        "algoritmo.fit(X_train, y_train)"
      ],
      "metadata": {
        "colab": {
          "base_uri": "https://localhost:8080/",
          "height": 234
        },
        "outputId": "131e77dc-84a4-4f85-c5d4-d64d3833ba2d",
        "id": "PyLlmnsF4u6T"
      },
      "execution_count": 223,
      "outputs": [
        {
          "output_type": "stream",
          "name": "stderr",
          "text": [
            "/usr/local/lib/python3.10/dist-packages/sklearn/linear_model/_logistic.py:458: ConvergenceWarning: lbfgs failed to converge (status=1):\n",
            "STOP: TOTAL NO. of ITERATIONS REACHED LIMIT.\n",
            "\n",
            "Increase the number of iterations (max_iter) or scale the data as shown in:\n",
            "    https://scikit-learn.org/stable/modules/preprocessing.html\n",
            "Please also refer to the documentation for alternative solver options:\n",
            "    https://scikit-learn.org/stable/modules/linear_model.html#logistic-regression\n",
            "  n_iter_i = _check_optimize_result(\n"
          ]
        },
        {
          "output_type": "execute_result",
          "data": {
            "text/plain": [
              "LogisticRegression()"
            ],
            "text/html": [
              "<style>#sk-container-id-16 {color: black;background-color: white;}#sk-container-id-16 pre{padding: 0;}#sk-container-id-16 div.sk-toggleable {background-color: white;}#sk-container-id-16 label.sk-toggleable__label {cursor: pointer;display: block;width: 100%;margin-bottom: 0;padding: 0.3em;box-sizing: border-box;text-align: center;}#sk-container-id-16 label.sk-toggleable__label-arrow:before {content: \"▸\";float: left;margin-right: 0.25em;color: #696969;}#sk-container-id-16 label.sk-toggleable__label-arrow:hover:before {color: black;}#sk-container-id-16 div.sk-estimator:hover label.sk-toggleable__label-arrow:before {color: black;}#sk-container-id-16 div.sk-toggleable__content {max-height: 0;max-width: 0;overflow: hidden;text-align: left;background-color: #f0f8ff;}#sk-container-id-16 div.sk-toggleable__content pre {margin: 0.2em;color: black;border-radius: 0.25em;background-color: #f0f8ff;}#sk-container-id-16 input.sk-toggleable__control:checked~div.sk-toggleable__content {max-height: 200px;max-width: 100%;overflow: auto;}#sk-container-id-16 input.sk-toggleable__control:checked~label.sk-toggleable__label-arrow:before {content: \"▾\";}#sk-container-id-16 div.sk-estimator input.sk-toggleable__control:checked~label.sk-toggleable__label {background-color: #d4ebff;}#sk-container-id-16 div.sk-label input.sk-toggleable__control:checked~label.sk-toggleable__label {background-color: #d4ebff;}#sk-container-id-16 input.sk-hidden--visually {border: 0;clip: rect(1px 1px 1px 1px);clip: rect(1px, 1px, 1px, 1px);height: 1px;margin: -1px;overflow: hidden;padding: 0;position: absolute;width: 1px;}#sk-container-id-16 div.sk-estimator {font-family: monospace;background-color: #f0f8ff;border: 1px dotted black;border-radius: 0.25em;box-sizing: border-box;margin-bottom: 0.5em;}#sk-container-id-16 div.sk-estimator:hover {background-color: #d4ebff;}#sk-container-id-16 div.sk-parallel-item::after {content: \"\";width: 100%;border-bottom: 1px solid gray;flex-grow: 1;}#sk-container-id-16 div.sk-label:hover label.sk-toggleable__label {background-color: #d4ebff;}#sk-container-id-16 div.sk-serial::before {content: \"\";position: absolute;border-left: 1px solid gray;box-sizing: border-box;top: 0;bottom: 0;left: 50%;z-index: 0;}#sk-container-id-16 div.sk-serial {display: flex;flex-direction: column;align-items: center;background-color: white;padding-right: 0.2em;padding-left: 0.2em;position: relative;}#sk-container-id-16 div.sk-item {position: relative;z-index: 1;}#sk-container-id-16 div.sk-parallel {display: flex;align-items: stretch;justify-content: center;background-color: white;position: relative;}#sk-container-id-16 div.sk-item::before, #sk-container-id-16 div.sk-parallel-item::before {content: \"\";position: absolute;border-left: 1px solid gray;box-sizing: border-box;top: 0;bottom: 0;left: 50%;z-index: -1;}#sk-container-id-16 div.sk-parallel-item {display: flex;flex-direction: column;z-index: 1;position: relative;background-color: white;}#sk-container-id-16 div.sk-parallel-item:first-child::after {align-self: flex-end;width: 50%;}#sk-container-id-16 div.sk-parallel-item:last-child::after {align-self: flex-start;width: 50%;}#sk-container-id-16 div.sk-parallel-item:only-child::after {width: 0;}#sk-container-id-16 div.sk-dashed-wrapped {border: 1px dashed gray;margin: 0 0.4em 0.5em 0.4em;box-sizing: border-box;padding-bottom: 0.4em;background-color: white;}#sk-container-id-16 div.sk-label label {font-family: monospace;font-weight: bold;display: inline-block;line-height: 1.2em;}#sk-container-id-16 div.sk-label-container {text-align: center;}#sk-container-id-16 div.sk-container {/* jupyter's `normalize.less` sets `[hidden] { display: none; }` but bootstrap.min.css set `[hidden] { display: none !important; }` so we also need the `!important` here to be able to override the default hidden behavior on the sphinx rendered scikit-learn.org. See: https://github.com/scikit-learn/scikit-learn/issues/21755 */display: inline-block !important;position: relative;}#sk-container-id-16 div.sk-text-repr-fallback {display: none;}</style><div id=\"sk-container-id-16\" class=\"sk-top-container\"><div class=\"sk-text-repr-fallback\"><pre>LogisticRegression()</pre><b>In a Jupyter environment, please rerun this cell to show the HTML representation or trust the notebook. <br />On GitHub, the HTML representation is unable to render, please try loading this page with nbviewer.org.</b></div><div class=\"sk-container\" hidden><div class=\"sk-item\"><div class=\"sk-estimator sk-toggleable\"><input class=\"sk-toggleable__control sk-hidden--visually\" id=\"sk-estimator-id-16\" type=\"checkbox\" checked><label for=\"sk-estimator-id-16\" class=\"sk-toggleable__label sk-toggleable__label-arrow\">LogisticRegression</label><div class=\"sk-toggleable__content\"><pre>LogisticRegression()</pre></div></div></div></div></div>"
            ]
          },
          "metadata": {},
          "execution_count": 223
        }
      ]
    },
    {
      "cell_type": "code",
      "source": [
        "#Realizamos una predicción\n",
        "y_pred = algoritmo.predict(X_test)\n",
        "y_pred"
      ],
      "metadata": {
        "colab": {
          "base_uri": "https://localhost:8080/"
        },
        "outputId": "070e3a01-ba7d-46ff-97e4-e41199cc3cb0",
        "id": "3jLNClI64u6T"
      },
      "execution_count": 224,
      "outputs": [
        {
          "output_type": "execute_result",
          "data": {
            "text/plain": [
              "array(['PUEBLA', 'PUEBLA', 'PUEBLA', ..., 'PUEBLA', 'PUEBLA', 'PUEBLA'],\n",
              "      dtype=object)"
            ]
          },
          "metadata": {},
          "execution_count": 224
        }
      ]
    },
    {
      "cell_type": "code",
      "source": [
        "#Verifico la matriz de Confusión\n",
        "from sklearn.metrics import confusion_matrix\n",
        "matriz = confusion_matrix(y_test, y_pred)\n",
        "print('Matriz de Confusión:')\n",
        "print(matriz)"
      ],
      "metadata": {
        "colab": {
          "base_uri": "https://localhost:8080/"
        },
        "outputId": "4b0c25ca-91db-49da-8fa5-17f0f7733d44",
        "id": "jLW6CKmn4u6T"
      },
      "execution_count": 225,
      "outputs": [
        {
          "output_type": "stream",
          "name": "stdout",
          "text": [
            "Matriz de Confusión:\n",
            "[[0 0 0 ... 0 0 0]\n",
            " [0 0 0 ... 0 0 0]\n",
            " [0 0 0 ... 0 0 0]\n",
            " ...\n",
            " [0 0 0 ... 0 0 0]\n",
            " [0 0 0 ... 0 0 0]\n",
            " [0 0 0 ... 0 0 0]]\n"
          ]
        }
      ]
    },
    {
      "cell_type": "code",
      "source": [
        "#Evaluación\n",
        "precision10 = precision_score(y_test, y_pred, average=\"macro\", pos_label=\"yes\")\n",
        "print(f'Precisión del modelo: {precision10* 100:.2f}%')\n",
        "exactitud10 = accuracy_score(y_test, y_pred)\n",
        "print(f'Exactitud del modelo: {exactitud10* 100:.2f}%')\n",
        "sensibilidad10 = recall_score(y_test, y_pred, average=\"macro\", pos_label=\"yes\")\n",
        "print(f'Sensibilidad del modelo: {sensibilidad10* 100:.2f}%')\n",
        "puntajef110 = f1_score(y_test, y_pred, average=\"macro\", pos_label=\"yes\")\n",
        "print(f'Puntaje F1 del modelo: {puntajef110* 100:.2f}%')"
      ],
      "metadata": {
        "colab": {
          "base_uri": "https://localhost:8080/"
        },
        "outputId": "3bcba1a6-873c-41a6-f458-a4488bbc2517",
        "id": "HnDdGm1A4u6U"
      },
      "execution_count": 229,
      "outputs": [
        {
          "output_type": "stream",
          "name": "stderr",
          "text": [
            "/usr/local/lib/python3.10/dist-packages/sklearn/metrics/_classification.py:1396: UserWarning: Note that pos_label (set to 'yes') is ignored when average != 'binary' (got 'macro'). You may use labels=[pos_label] to specify a single positive class.\n",
            "  warnings.warn(\n",
            "/usr/local/lib/python3.10/dist-packages/sklearn/metrics/_classification.py:1344: UndefinedMetricWarning: Precision is ill-defined and being set to 0.0 in labels with no predicted samples. Use `zero_division` parameter to control this behavior.\n",
            "  _warn_prf(average, modifier, msg_start, len(result))\n"
          ]
        },
        {
          "output_type": "stream",
          "name": "stdout",
          "text": [
            "Precisión del modelo: 0.02%\n",
            "Exactitud del modelo: 9.71%\n"
          ]
        },
        {
          "output_type": "stream",
          "name": "stderr",
          "text": [
            "/usr/local/lib/python3.10/dist-packages/sklearn/metrics/_classification.py:1396: UserWarning: Note that pos_label (set to 'yes') is ignored when average != 'binary' (got 'macro'). You may use labels=[pos_label] to specify a single positive class.\n",
            "  warnings.warn(\n"
          ]
        },
        {
          "output_type": "stream",
          "name": "stdout",
          "text": [
            "Sensibilidad del modelo: 0.10%\n",
            "Puntaje F1 del modelo: 0.02%\n"
          ]
        },
        {
          "output_type": "stream",
          "name": "stderr",
          "text": [
            "/usr/local/lib/python3.10/dist-packages/sklearn/metrics/_classification.py:1396: UserWarning: Note that pos_label (set to 'yes') is ignored when average != 'binary' (got 'macro'). You may use labels=[pos_label] to specify a single positive class.\n",
            "  warnings.warn(\n"
          ]
        }
      ]
    },
    {
      "cell_type": "markdown",
      "source": [
        "## Tabla de Coeficientes"
      ],
      "metadata": {
        "id": "GC1Tw0_U5iH0"
      }
    },
    {
      "cell_type": "code",
      "source": [
        "resumen = pd.DataFrame()\n",
        "variable_dependiente = ['inversión', 'plazo', 'razones_buro', 'marca', 'empresa', 'edo_cliente', 'modelo', 'razones_buro',\n",
        "                        'dis_venta', 'cd_cliente' ]\n",
        "precision = [precision1, precision2, precision3, precision4, precision5, precision6, precision7, precision8,\n",
        "             precision9, precision10]\n",
        "exactitud = [exactitud1, exactitud2, exactitud3, exactitud4, exactitud5, exactitud6, exactitud7, exactitud8,\n",
        "             exactitud9, exactitud10]\n",
        "sensibilidad = [sensibilidad1, sensibilidad2, sensibilidad3, sensibilidad4, sensibilidad5, sensibilidad6, sensibilidad7,\n",
        "                sensibilidad8, sensibilidad9, sensibilidad10]\n",
        "\n",
        "resumen['Variable Dependiente'] = variable_dependiente\n",
        "resumen['Precisión'] = precision\n",
        "resumen['Exactitud'] = exactitud\n",
        "resumen['Sensibilidad'] = sensibilidad\n",
        "\n",
        "resumen"
      ],
      "metadata": {
        "colab": {
          "base_uri": "https://localhost:8080/",
          "height": 363
        },
        "id": "vLd0NX7M5nQG",
        "outputId": "b01931f8-e71f-4489-f9f0-b631bcf126b4"
      },
      "execution_count": 234,
      "outputs": [
        {
          "output_type": "execute_result",
          "data": {
            "text/plain": [
              "  Variable Dependiente  Precisión  Exactitud  Sensibilidad\n",
              "0            inversión   0.379710   0.759419      0.500000\n",
              "1                plazo   0.089819   0.445096      0.082959\n",
              "2         razones_buro   0.001069   0.309632      0.001975\n",
              "3                marca   0.000976   0.028588      0.004707\n",
              "4              empresa   0.000201   0.097053      0.000987\n",
              "5          edo_cliente   0.000695   0.029028      0.004486\n",
              "6               modelo   0.016160   0.242486      0.021156\n",
              "7         razones_buro   0.001519   0.365049      0.003235\n",
              "8            dis_venta   0.000201   0.097053      0.000987\n",
              "9           cd_cliente   0.000201   0.097053      0.000987"
            ],
            "text/html": [
              "\n",
              "  <div id=\"df-adc3566b-7262-48bb-a9c9-aa5d256da065\" class=\"colab-df-container\">\n",
              "    <div>\n",
              "<style scoped>\n",
              "    .dataframe tbody tr th:only-of-type {\n",
              "        vertical-align: middle;\n",
              "    }\n",
              "\n",
              "    .dataframe tbody tr th {\n",
              "        vertical-align: top;\n",
              "    }\n",
              "\n",
              "    .dataframe thead th {\n",
              "        text-align: right;\n",
              "    }\n",
              "</style>\n",
              "<table border=\"1\" class=\"dataframe\">\n",
              "  <thead>\n",
              "    <tr style=\"text-align: right;\">\n",
              "      <th></th>\n",
              "      <th>Variable Dependiente</th>\n",
              "      <th>Precisión</th>\n",
              "      <th>Exactitud</th>\n",
              "      <th>Sensibilidad</th>\n",
              "    </tr>\n",
              "  </thead>\n",
              "  <tbody>\n",
              "    <tr>\n",
              "      <th>0</th>\n",
              "      <td>inversión</td>\n",
              "      <td>0.379710</td>\n",
              "      <td>0.759419</td>\n",
              "      <td>0.500000</td>\n",
              "    </tr>\n",
              "    <tr>\n",
              "      <th>1</th>\n",
              "      <td>plazo</td>\n",
              "      <td>0.089819</td>\n",
              "      <td>0.445096</td>\n",
              "      <td>0.082959</td>\n",
              "    </tr>\n",
              "    <tr>\n",
              "      <th>2</th>\n",
              "      <td>razones_buro</td>\n",
              "      <td>0.001069</td>\n",
              "      <td>0.309632</td>\n",
              "      <td>0.001975</td>\n",
              "    </tr>\n",
              "    <tr>\n",
              "      <th>3</th>\n",
              "      <td>marca</td>\n",
              "      <td>0.000976</td>\n",
              "      <td>0.028588</td>\n",
              "      <td>0.004707</td>\n",
              "    </tr>\n",
              "    <tr>\n",
              "      <th>4</th>\n",
              "      <td>empresa</td>\n",
              "      <td>0.000201</td>\n",
              "      <td>0.097053</td>\n",
              "      <td>0.000987</td>\n",
              "    </tr>\n",
              "    <tr>\n",
              "      <th>5</th>\n",
              "      <td>edo_cliente</td>\n",
              "      <td>0.000695</td>\n",
              "      <td>0.029028</td>\n",
              "      <td>0.004486</td>\n",
              "    </tr>\n",
              "    <tr>\n",
              "      <th>6</th>\n",
              "      <td>modelo</td>\n",
              "      <td>0.016160</td>\n",
              "      <td>0.242486</td>\n",
              "      <td>0.021156</td>\n",
              "    </tr>\n",
              "    <tr>\n",
              "      <th>7</th>\n",
              "      <td>razones_buro</td>\n",
              "      <td>0.001519</td>\n",
              "      <td>0.365049</td>\n",
              "      <td>0.003235</td>\n",
              "    </tr>\n",
              "    <tr>\n",
              "      <th>8</th>\n",
              "      <td>dis_venta</td>\n",
              "      <td>0.000201</td>\n",
              "      <td>0.097053</td>\n",
              "      <td>0.000987</td>\n",
              "    </tr>\n",
              "    <tr>\n",
              "      <th>9</th>\n",
              "      <td>cd_cliente</td>\n",
              "      <td>0.000201</td>\n",
              "      <td>0.097053</td>\n",
              "      <td>0.000987</td>\n",
              "    </tr>\n",
              "  </tbody>\n",
              "</table>\n",
              "</div>\n",
              "    <div class=\"colab-df-buttons\">\n",
              "\n",
              "  <div class=\"colab-df-container\">\n",
              "    <button class=\"colab-df-convert\" onclick=\"convertToInteractive('df-adc3566b-7262-48bb-a9c9-aa5d256da065')\"\n",
              "            title=\"Convert this dataframe to an interactive table.\"\n",
              "            style=\"display:none;\">\n",
              "\n",
              "  <svg xmlns=\"http://www.w3.org/2000/svg\" height=\"24px\" viewBox=\"0 -960 960 960\">\n",
              "    <path d=\"M120-120v-720h720v720H120Zm60-500h600v-160H180v160Zm220 220h160v-160H400v160Zm0 220h160v-160H400v160ZM180-400h160v-160H180v160Zm440 0h160v-160H620v160ZM180-180h160v-160H180v160Zm440 0h160v-160H620v160Z\"/>\n",
              "  </svg>\n",
              "    </button>\n",
              "\n",
              "  <style>\n",
              "    .colab-df-container {\n",
              "      display:flex;\n",
              "      gap: 12px;\n",
              "    }\n",
              "\n",
              "    .colab-df-convert {\n",
              "      background-color: #E8F0FE;\n",
              "      border: none;\n",
              "      border-radius: 50%;\n",
              "      cursor: pointer;\n",
              "      display: none;\n",
              "      fill: #1967D2;\n",
              "      height: 32px;\n",
              "      padding: 0 0 0 0;\n",
              "      width: 32px;\n",
              "    }\n",
              "\n",
              "    .colab-df-convert:hover {\n",
              "      background-color: #E2EBFA;\n",
              "      box-shadow: 0px 1px 2px rgba(60, 64, 67, 0.3), 0px 1px 3px 1px rgba(60, 64, 67, 0.15);\n",
              "      fill: #174EA6;\n",
              "    }\n",
              "\n",
              "    .colab-df-buttons div {\n",
              "      margin-bottom: 4px;\n",
              "    }\n",
              "\n",
              "    [theme=dark] .colab-df-convert {\n",
              "      background-color: #3B4455;\n",
              "      fill: #D2E3FC;\n",
              "    }\n",
              "\n",
              "    [theme=dark] .colab-df-convert:hover {\n",
              "      background-color: #434B5C;\n",
              "      box-shadow: 0px 1px 3px 1px rgba(0, 0, 0, 0.15);\n",
              "      filter: drop-shadow(0px 1px 2px rgba(0, 0, 0, 0.3));\n",
              "      fill: #FFFFFF;\n",
              "    }\n",
              "  </style>\n",
              "\n",
              "    <script>\n",
              "      const buttonEl =\n",
              "        document.querySelector('#df-adc3566b-7262-48bb-a9c9-aa5d256da065 button.colab-df-convert');\n",
              "      buttonEl.style.display =\n",
              "        google.colab.kernel.accessAllowed ? 'block' : 'none';\n",
              "\n",
              "      async function convertToInteractive(key) {\n",
              "        const element = document.querySelector('#df-adc3566b-7262-48bb-a9c9-aa5d256da065');\n",
              "        const dataTable =\n",
              "          await google.colab.kernel.invokeFunction('convertToInteractive',\n",
              "                                                    [key], {});\n",
              "        if (!dataTable) return;\n",
              "\n",
              "        const docLinkHtml = 'Like what you see? Visit the ' +\n",
              "          '<a target=\"_blank\" href=https://colab.research.google.com/notebooks/data_table.ipynb>data table notebook</a>'\n",
              "          + ' to learn more about interactive tables.';\n",
              "        element.innerHTML = '';\n",
              "        dataTable['output_type'] = 'display_data';\n",
              "        await google.colab.output.renderOutput(dataTable, element);\n",
              "        const docLink = document.createElement('div');\n",
              "        docLink.innerHTML = docLinkHtml;\n",
              "        element.appendChild(docLink);\n",
              "      }\n",
              "    </script>\n",
              "  </div>\n",
              "\n",
              "\n",
              "<div id=\"df-55859147-b686-43db-ad03-e005113d733b\">\n",
              "  <button class=\"colab-df-quickchart\" onclick=\"quickchart('df-55859147-b686-43db-ad03-e005113d733b')\"\n",
              "            title=\"Suggest charts.\"\n",
              "            style=\"display:none;\">\n",
              "\n",
              "<svg xmlns=\"http://www.w3.org/2000/svg\" height=\"24px\"viewBox=\"0 0 24 24\"\n",
              "     width=\"24px\">\n",
              "    <g>\n",
              "        <path d=\"M19 3H5c-1.1 0-2 .9-2 2v14c0 1.1.9 2 2 2h14c1.1 0 2-.9 2-2V5c0-1.1-.9-2-2-2zM9 17H7v-7h2v7zm4 0h-2V7h2v10zm4 0h-2v-4h2v4z\"/>\n",
              "    </g>\n",
              "</svg>\n",
              "  </button>\n",
              "\n",
              "<style>\n",
              "  .colab-df-quickchart {\n",
              "      --bg-color: #E8F0FE;\n",
              "      --fill-color: #1967D2;\n",
              "      --hover-bg-color: #E2EBFA;\n",
              "      --hover-fill-color: #174EA6;\n",
              "      --disabled-fill-color: #AAA;\n",
              "      --disabled-bg-color: #DDD;\n",
              "  }\n",
              "\n",
              "  [theme=dark] .colab-df-quickchart {\n",
              "      --bg-color: #3B4455;\n",
              "      --fill-color: #D2E3FC;\n",
              "      --hover-bg-color: #434B5C;\n",
              "      --hover-fill-color: #FFFFFF;\n",
              "      --disabled-bg-color: #3B4455;\n",
              "      --disabled-fill-color: #666;\n",
              "  }\n",
              "\n",
              "  .colab-df-quickchart {\n",
              "    background-color: var(--bg-color);\n",
              "    border: none;\n",
              "    border-radius: 50%;\n",
              "    cursor: pointer;\n",
              "    display: none;\n",
              "    fill: var(--fill-color);\n",
              "    height: 32px;\n",
              "    padding: 0;\n",
              "    width: 32px;\n",
              "  }\n",
              "\n",
              "  .colab-df-quickchart:hover {\n",
              "    background-color: var(--hover-bg-color);\n",
              "    box-shadow: 0 1px 2px rgba(60, 64, 67, 0.3), 0 1px 3px 1px rgba(60, 64, 67, 0.15);\n",
              "    fill: var(--button-hover-fill-color);\n",
              "  }\n",
              "\n",
              "  .colab-df-quickchart-complete:disabled,\n",
              "  .colab-df-quickchart-complete:disabled:hover {\n",
              "    background-color: var(--disabled-bg-color);\n",
              "    fill: var(--disabled-fill-color);\n",
              "    box-shadow: none;\n",
              "  }\n",
              "\n",
              "  .colab-df-spinner {\n",
              "    border: 2px solid var(--fill-color);\n",
              "    border-color: transparent;\n",
              "    border-bottom-color: var(--fill-color);\n",
              "    animation:\n",
              "      spin 1s steps(1) infinite;\n",
              "  }\n",
              "\n",
              "  @keyframes spin {\n",
              "    0% {\n",
              "      border-color: transparent;\n",
              "      border-bottom-color: var(--fill-color);\n",
              "      border-left-color: var(--fill-color);\n",
              "    }\n",
              "    20% {\n",
              "      border-color: transparent;\n",
              "      border-left-color: var(--fill-color);\n",
              "      border-top-color: var(--fill-color);\n",
              "    }\n",
              "    30% {\n",
              "      border-color: transparent;\n",
              "      border-left-color: var(--fill-color);\n",
              "      border-top-color: var(--fill-color);\n",
              "      border-right-color: var(--fill-color);\n",
              "    }\n",
              "    40% {\n",
              "      border-color: transparent;\n",
              "      border-right-color: var(--fill-color);\n",
              "      border-top-color: var(--fill-color);\n",
              "    }\n",
              "    60% {\n",
              "      border-color: transparent;\n",
              "      border-right-color: var(--fill-color);\n",
              "    }\n",
              "    80% {\n",
              "      border-color: transparent;\n",
              "      border-right-color: var(--fill-color);\n",
              "      border-bottom-color: var(--fill-color);\n",
              "    }\n",
              "    90% {\n",
              "      border-color: transparent;\n",
              "      border-bottom-color: var(--fill-color);\n",
              "    }\n",
              "  }\n",
              "</style>\n",
              "\n",
              "  <script>\n",
              "    async function quickchart(key) {\n",
              "      const quickchartButtonEl =\n",
              "        document.querySelector('#' + key + ' button');\n",
              "      quickchartButtonEl.disabled = true;  // To prevent multiple clicks.\n",
              "      quickchartButtonEl.classList.add('colab-df-spinner');\n",
              "      try {\n",
              "        const charts = await google.colab.kernel.invokeFunction(\n",
              "            'suggestCharts', [key], {});\n",
              "      } catch (error) {\n",
              "        console.error('Error during call to suggestCharts:', error);\n",
              "      }\n",
              "      quickchartButtonEl.classList.remove('colab-df-spinner');\n",
              "      quickchartButtonEl.classList.add('colab-df-quickchart-complete');\n",
              "    }\n",
              "    (() => {\n",
              "      let quickchartButtonEl =\n",
              "        document.querySelector('#df-55859147-b686-43db-ad03-e005113d733b button');\n",
              "      quickchartButtonEl.style.display =\n",
              "        google.colab.kernel.accessAllowed ? 'block' : 'none';\n",
              "    })();\n",
              "  </script>\n",
              "</div>\n",
              "    </div>\n",
              "  </div>\n"
            ]
          },
          "metadata": {},
          "execution_count": 234
        }
      ]
    }
  ]
}